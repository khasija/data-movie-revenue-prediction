{
 "cells": [
  {
   "cell_type": "markdown",
   "metadata": {
    "tags": [
     "hide_input"
    ]
   },
   "source": [
    "# Make an Interactive Network Visualization with Bokeh"
   ]
  },
  {
   "cell_type": "markdown",
   "metadata": {},
   "source": [
    "This notebook includes code for creating interactive network visualizations with the Python libraries [NetworkX](https://networkx.github.io/) and [Bokeh](https://docs.bokeh.org/en/latest/index.html). The notebook begins with code for a basic network visualization then progressively demonstrates how to add more information and functionality, such as:\n",
    "\n",
    "- sizing and coloring nodes by degree\n",
    "- sizing and coloring nodes by modularity class\n",
    "- adding responsive highlighting when hovering over nodes and edges\n",
    "- adding node labels"
   ]
  },
  {
   "cell_type": "markdown",
   "metadata": {},
   "source": [
    "## Dataset"
   ]
  },
  {
   "cell_type": "markdown",
   "metadata": {},
   "source": [
    "### *Game of Thrones*"
   ]
  },
  {
   "cell_type": "markdown",
   "metadata": {},
   "source": [
    "<blockquote class=\"epigraph\" style=\" padding: 10px\">\n",
    "\n",
    "Lucky it might be, and red it certainly was, but Ygritte’s hair was such a tangle that Jon was tempted to ask her if she only brushed it at the changing of the seasons.\n",
    "\n",
    "-George R. R. Martin, *A Song of Ice and Fire*\n",
    "</blockquote>"
   ]
  },
  {
   "cell_type": "markdown",
   "metadata": {},
   "source": [
    "## Import Libraries"
   ]
  },
  {
   "cell_type": "code",
   "execution_count": 1,
   "metadata": {},
   "outputs": [],
   "source": [
    "import pandas as pd\n",
    "import networkx\n",
    "import matplotlib.pyplot as plt\n",
    "import numpy as np"
   ]
  },
  {
   "cell_type": "markdown",
   "metadata": {},
   "source": [
    "## Install and Import Bokeh"
   ]
  },
  {
   "cell_type": "code",
   "execution_count": 2,
   "metadata": {},
   "outputs": [],
   "source": [
    "#!pip install bokeh"
   ]
  },
  {
   "cell_type": "code",
   "execution_count": 3,
   "metadata": {},
   "outputs": [],
   "source": [
    "from bokeh.io import output_notebook, show, save"
   ]
  },
  {
   "cell_type": "markdown",
   "metadata": {},
   "source": [
    "To view interactive Bokeh visualizations in a Jupyter notebook, you need to run this cell:"
   ]
  },
  {
   "cell_type": "code",
   "execution_count": 4,
   "metadata": {},
   "outputs": [
    {
     "data": {
      "text/html": [
       "<style>\n",
       "        .bk-notebook-logo {\n",
       "            display: block;\n",
       "            width: 20px;\n",
       "            height: 20px;\n",
       "            background-image: url(data:image/png;base64,iVBORw0KGgoAAAANSUhEUgAAABQAAAAUCAYAAACNiR0NAAAABHNCSVQICAgIfAhkiAAAAAlwSFlzAAALEgAACxIB0t1+/AAAABx0RVh0U29mdHdhcmUAQWRvYmUgRmlyZXdvcmtzIENTNui8sowAAAOkSURBVDiNjZRtaJVlGMd/1/08zzln5zjP1LWcU9N0NkN8m2CYjpgQYQXqSs0I84OLIC0hkEKoPtiH3gmKoiJDU7QpLgoLjLIQCpEsNJ1vqUOdO7ppbuec5+V+rj4ctwzd8IIbbi6u+8f1539dt3A78eXC7QizUF7gyV1fD1Yqg4JWz84yffhm0qkFqBogB9rM8tZdtwVsPUhWhGcFJngGeWrPzHm5oaMmkfEg1usvLFyc8jLRqDOMru7AyC8saQr7GG7f5fvDeH7Ej8CM66nIF+8yngt6HWaKh7k49Soy9nXurCi1o3qUbS3zWfrYeQDTB/Qj6kX6Ybhw4B+bOYoLKCC9H3Nu/leUTZ1JdRWkkn2ldcCamzrcf47KKXdAJllSlxAOkRgyHsGC/zRday5Qld9DyoM4/q/rUoy/CXh3jzOu3bHUVZeU+DEn8FInkPBFlu3+nW3Nw0mk6vCDiWg8CeJaxEwuHS3+z5RgY+YBR6V1Z1nxSOfoaPa4LASWxxdNp+VWTk7+4vzaou8v8PN+xo+KY2xsw6une2frhw05CTYOmQvsEhjhWjn0bmXPjpE1+kplmmkP3suftwTubK9Vq22qKmrBhpY4jvd5afdRA3wGjFAgcnTK2s4hY0/GPNIb0nErGMCRxWOOX64Z8RAC4oCXdklmEvcL8o0BfkNK4lUg9HTl+oPlQxdNo3Mg4Nv175e/1LDGzZen30MEjRUtmXSfiTVu1kK8W4txyV6BMKlbgk3lMwYCiusNy9fVfvvwMxv8Ynl6vxoByANLTWplvuj/nF9m2+PDtt1eiHPBr1oIfhCChQMBw6Aw0UulqTKZdfVvfG7VcfIqLG9bcldL/+pdWTLxLUy8Qq38heUIjh4XlzZxzQm19lLFlr8vdQ97rjZVOLf8nclzckbcD4wxXMidpX30sFd37Fv/GtwwhzhxGVAprjbg0gCAEeIgwCZyTV2Z1REEW8O4py0wsjeloKoMr6iCY6dP92H6Vw/oTyICIthibxjm/DfN9lVz8IqtqKYLUXfoKVMVQVVJOElGjrnnUt9T9wbgp8AyYKaGlqingHZU/uG2NTZSVqwHQTWkx9hxjkpWDaCg6Ckj5qebgBVbT3V3NNXMSiWSDdGV3hrtzla7J+duwPOToIg42ChPQOQjspnSlp1V+Gjdged7+8UN5CRAV7a5EdFNwCjEaBR27b3W890TE7g24NAP/mMDXRWrGoFPQI9ls/MWO2dWFAar/xcOIImbbpA3zgAAAABJRU5ErkJggg==);\n",
       "        }\n",
       "    </style>\n",
       "    <div>\n",
       "        <a href=\"https://bokeh.org\" target=\"_blank\" class=\"bk-notebook-logo\"></a>\n",
       "        <span id=\"p1001\">Loading BokehJS ...</span>\n",
       "    </div>\n"
      ]
     },
     "metadata": {},
     "output_type": "display_data"
    },
    {
     "data": {
      "application/javascript": "(function(root) {\n  function now() {\n    return new Date();\n  }\n\n  const force = true;\n\n  if (typeof root._bokeh_onload_callbacks === \"undefined\" || force === true) {\n    root._bokeh_onload_callbacks = [];\n    root._bokeh_is_loading = undefined;\n  }\n\nconst JS_MIME_TYPE = 'application/javascript';\n  const HTML_MIME_TYPE = 'text/html';\n  const EXEC_MIME_TYPE = 'application/vnd.bokehjs_exec.v0+json';\n  const CLASS_NAME = 'output_bokeh rendered_html';\n\n  /**\n   * Render data to the DOM node\n   */\n  function render(props, node) {\n    const script = document.createElement(\"script\");\n    node.appendChild(script);\n  }\n\n  /**\n   * Handle when an output is cleared or removed\n   */\n  function handleClearOutput(event, handle) {\n    const cell = handle.cell;\n\n    const id = cell.output_area._bokeh_element_id;\n    const server_id = cell.output_area._bokeh_server_id;\n    // Clean up Bokeh references\n    if (id != null && id in Bokeh.index) {\n      Bokeh.index[id].model.document.clear();\n      delete Bokeh.index[id];\n    }\n\n    if (server_id !== undefined) {\n      // Clean up Bokeh references\n      const cmd_clean = \"from bokeh.io.state import curstate; print(curstate().uuid_to_server['\" + server_id + \"'].get_sessions()[0].document.roots[0]._id)\";\n      cell.notebook.kernel.execute(cmd_clean, {\n        iopub: {\n          output: function(msg) {\n            const id = msg.content.text.trim();\n            if (id in Bokeh.index) {\n              Bokeh.index[id].model.document.clear();\n              delete Bokeh.index[id];\n            }\n          }\n        }\n      });\n      // Destroy server and session\n      const cmd_destroy = \"import bokeh.io.notebook as ion; ion.destroy_server('\" + server_id + \"')\";\n      cell.notebook.kernel.execute(cmd_destroy);\n    }\n  }\n\n  /**\n   * Handle when a new output is added\n   */\n  function handleAddOutput(event, handle) {\n    const output_area = handle.output_area;\n    const output = handle.output;\n\n    // limit handleAddOutput to display_data with EXEC_MIME_TYPE content only\n    if ((output.output_type != \"display_data\") || (!Object.prototype.hasOwnProperty.call(output.data, EXEC_MIME_TYPE))) {\n      return\n    }\n\n    const toinsert = output_area.element.find(\".\" + CLASS_NAME.split(' ')[0]);\n\n    if (output.metadata[EXEC_MIME_TYPE][\"id\"] !== undefined) {\n      toinsert[toinsert.length - 1].firstChild.textContent = output.data[JS_MIME_TYPE];\n      // store reference to embed id on output_area\n      output_area._bokeh_element_id = output.metadata[EXEC_MIME_TYPE][\"id\"];\n    }\n    if (output.metadata[EXEC_MIME_TYPE][\"server_id\"] !== undefined) {\n      const bk_div = document.createElement(\"div\");\n      bk_div.innerHTML = output.data[HTML_MIME_TYPE];\n      const script_attrs = bk_div.children[0].attributes;\n      for (let i = 0; i < script_attrs.length; i++) {\n        toinsert[toinsert.length - 1].firstChild.setAttribute(script_attrs[i].name, script_attrs[i].value);\n        toinsert[toinsert.length - 1].firstChild.textContent = bk_div.children[0].textContent\n      }\n      // store reference to server id on output_area\n      output_area._bokeh_server_id = output.metadata[EXEC_MIME_TYPE][\"server_id\"];\n    }\n  }\n\n  function register_renderer(events, OutputArea) {\n\n    function append_mime(data, metadata, element) {\n      // create a DOM node to render to\n      const toinsert = this.create_output_subarea(\n        metadata,\n        CLASS_NAME,\n        EXEC_MIME_TYPE\n      );\n      this.keyboard_manager.register_events(toinsert);\n      // Render to node\n      const props = {data: data, metadata: metadata[EXEC_MIME_TYPE]};\n      render(props, toinsert[toinsert.length - 1]);\n      element.append(toinsert);\n      return toinsert\n    }\n\n    /* Handle when an output is cleared or removed */\n    events.on('clear_output.CodeCell', handleClearOutput);\n    events.on('delete.Cell', handleClearOutput);\n\n    /* Handle when a new output is added */\n    events.on('output_added.OutputArea', handleAddOutput);\n\n    /**\n     * Register the mime type and append_mime function with output_area\n     */\n    OutputArea.prototype.register_mime_type(EXEC_MIME_TYPE, append_mime, {\n      /* Is output safe? */\n      safe: true,\n      /* Index of renderer in `output_area.display_order` */\n      index: 0\n    });\n  }\n\n  // register the mime type if in Jupyter Notebook environment and previously unregistered\n  if (root.Jupyter !== undefined) {\n    const events = require('base/js/events');\n    const OutputArea = require('notebook/js/outputarea').OutputArea;\n\n    if (OutputArea.prototype.mime_types().indexOf(EXEC_MIME_TYPE) == -1) {\n      register_renderer(events, OutputArea);\n    }\n  }\n  if (typeof (root._bokeh_timeout) === \"undefined\" || force === true) {\n    root._bokeh_timeout = Date.now() + 5000;\n    root._bokeh_failed_load = false;\n  }\n\n  const NB_LOAD_WARNING = {'data': {'text/html':\n     \"<div style='background-color: #fdd'>\\n\"+\n     \"<p>\\n\"+\n     \"BokehJS does not appear to have successfully loaded. If loading BokehJS from CDN, this \\n\"+\n     \"may be due to a slow or bad network connection. Possible fixes:\\n\"+\n     \"</p>\\n\"+\n     \"<ul>\\n\"+\n     \"<li>re-rerun `output_notebook()` to attempt to load from CDN again, or</li>\\n\"+\n     \"<li>use INLINE resources instead, as so:</li>\\n\"+\n     \"</ul>\\n\"+\n     \"<code>\\n\"+\n     \"from bokeh.resources import INLINE\\n\"+\n     \"output_notebook(resources=INLINE)\\n\"+\n     \"</code>\\n\"+\n     \"</div>\"}};\n\n  function display_loaded() {\n    const el = document.getElementById(\"p1001\");\n    if (el != null) {\n      el.textContent = \"BokehJS is loading...\";\n    }\n    if (root.Bokeh !== undefined) {\n      if (el != null) {\n        el.textContent = \"BokehJS \" + root.Bokeh.version + \" successfully loaded.\";\n      }\n    } else if (Date.now() < root._bokeh_timeout) {\n      setTimeout(display_loaded, 100)\n    }\n  }\n\n  function run_callbacks() {\n    try {\n      root._bokeh_onload_callbacks.forEach(function(callback) {\n        if (callback != null)\n          callback();\n      });\n    } finally {\n      delete root._bokeh_onload_callbacks\n    }\n    console.debug(\"Bokeh: all callbacks have finished\");\n  }\n\n  function load_libs(css_urls, js_urls, callback) {\n    if (css_urls == null) css_urls = [];\n    if (js_urls == null) js_urls = [];\n\n    root._bokeh_onload_callbacks.push(callback);\n    if (root._bokeh_is_loading > 0) {\n      console.debug(\"Bokeh: BokehJS is being loaded, scheduling callback at\", now());\n      return null;\n    }\n    if (js_urls == null || js_urls.length === 0) {\n      run_callbacks();\n      return null;\n    }\n    console.debug(\"Bokeh: BokehJS not loaded, scheduling load and callback at\", now());\n    root._bokeh_is_loading = css_urls.length + js_urls.length;\n\n    function on_load() {\n      root._bokeh_is_loading--;\n      if (root._bokeh_is_loading === 0) {\n        console.debug(\"Bokeh: all BokehJS libraries/stylesheets loaded\");\n        run_callbacks()\n      }\n    }\n\n    function on_error(url) {\n      console.error(\"failed to load \" + url);\n    }\n\n    for (let i = 0; i < css_urls.length; i++) {\n      const url = css_urls[i];\n      const element = document.createElement(\"link\");\n      element.onload = on_load;\n      element.onerror = on_error.bind(null, url);\n      element.rel = \"stylesheet\";\n      element.type = \"text/css\";\n      element.href = url;\n      console.debug(\"Bokeh: injecting link tag for BokehJS stylesheet: \", url);\n      document.body.appendChild(element);\n    }\n\n    for (let i = 0; i < js_urls.length; i++) {\n      const url = js_urls[i];\n      const element = document.createElement('script');\n      element.onload = on_load;\n      element.onerror = on_error.bind(null, url);\n      element.async = false;\n      element.src = url;\n      console.debug(\"Bokeh: injecting script tag for BokehJS library: \", url);\n      document.head.appendChild(element);\n    }\n  };\n\n  function inject_raw_css(css) {\n    const element = document.createElement(\"style\");\n    element.appendChild(document.createTextNode(css));\n    document.body.appendChild(element);\n  }\n\n  const js_urls = [\"https://cdn.bokeh.org/bokeh/release/bokeh-3.0.2.min.js\", \"https://cdn.bokeh.org/bokeh/release/bokeh-gl-3.0.2.min.js\", \"https://cdn.bokeh.org/bokeh/release/bokeh-widgets-3.0.2.min.js\", \"https://cdn.bokeh.org/bokeh/release/bokeh-tables-3.0.2.min.js\", \"https://cdn.bokeh.org/bokeh/release/bokeh-mathjax-3.0.2.min.js\"];\n  const css_urls = [];\n\n  const inline_js = [    function(Bokeh) {\n      Bokeh.set_log_level(\"info\");\n    },\nfunction(Bokeh) {\n    }\n  ];\n\n  function run_inline_js() {\n    if (root.Bokeh !== undefined || force === true) {\n          for (let i = 0; i < inline_js.length; i++) {\n      inline_js[i].call(root, root.Bokeh);\n    }\nif (force === true) {\n        display_loaded();\n      }} else if (Date.now() < root._bokeh_timeout) {\n      setTimeout(run_inline_js, 100);\n    } else if (!root._bokeh_failed_load) {\n      console.log(\"Bokeh: BokehJS failed to load within specified timeout.\");\n      root._bokeh_failed_load = true;\n    } else if (force !== true) {\n      const cell = $(document.getElementById(\"p1001\")).parents('.cell').data().cell;\n      cell.output_area.append_execute_result(NB_LOAD_WARNING)\n    }\n  }\n\n  if (root._bokeh_is_loading === 0) {\n    console.debug(\"Bokeh: BokehJS loaded, going straight to plotting\");\n    run_inline_js();\n  } else {\n    load_libs(css_urls, js_urls, function() {\n      console.debug(\"Bokeh: BokehJS plotting callback run at\", now());\n      run_inline_js();\n    });\n  }\n}(window));",
      "application/vnd.bokehjs_load.v0+json": ""
     },
     "metadata": {},
     "output_type": "display_data"
    }
   ],
   "source": [
    "output_notebook()"
   ]
  },
  {
   "cell_type": "markdown",
   "metadata": {},
   "source": [
    "## Create Network From Pandas DataFrame"
   ]
  },
  {
   "cell_type": "markdown",
   "metadata": {},
   "source": [
    "We read in a CSV file of *Game of Thrones* network data from Andrew Beveridge and Jie Shan's paper, [\"Network of Thrones.\"](https://www.maa.org/sites/default/files/pdf/Mathhorizons/NetworkofThrones%20%281%29.pdf)\n"
   ]
  },
  {
   "cell_type": "markdown",
   "metadata": {},
   "source": [
    "<div class=\"admonition pandasreview\" name=\"html-admonition\" style=\"background: black; color: white; padding: 10px\">\n",
    "<p class=\"title\">Pandas</p>\n",
    " Do you need a refresher or introduction to the Python data analysis library Pandas? Be sure to check out <a href=\"https://melaniewalsh.github.io/Intro-Cultural-Analytics/Data-Analysis/Pandas-Basics-Part1.html\"> Pandas Basics (1-3) </a> in this textbook!\n",
    "    \n",
    "</div>"
   ]
  },
  {
   "cell_type": "code",
   "execution_count": 27,
   "metadata": {},
   "outputs": [],
   "source": [
    "got_df = pd.read_csv('../data/GOT/game-of-thrones/got-edges.csv')"
   ]
  },
  {
   "cell_type": "code",
   "execution_count": 28,
   "metadata": {},
   "outputs": [
    {
     "data": {
      "text/html": [
       "<div>\n",
       "<style scoped>\n",
       "    .dataframe tbody tr th:only-of-type {\n",
       "        vertical-align: middle;\n",
       "    }\n",
       "\n",
       "    .dataframe tbody tr th {\n",
       "        vertical-align: top;\n",
       "    }\n",
       "\n",
       "    .dataframe thead th {\n",
       "        text-align: right;\n",
       "    }\n",
       "</style>\n",
       "<table border=\"1\" class=\"dataframe\">\n",
       "  <thead>\n",
       "    <tr style=\"text-align: right;\">\n",
       "      <th></th>\n",
       "      <th>Source</th>\n",
       "      <th>Target</th>\n",
       "      <th>Weight</th>\n",
       "    </tr>\n",
       "  </thead>\n",
       "  <tbody>\n",
       "    <tr>\n",
       "      <th>0</th>\n",
       "      <td>Aemon</td>\n",
       "      <td>Grenn</td>\n",
       "      <td>5</td>\n",
       "    </tr>\n",
       "    <tr>\n",
       "      <th>1</th>\n",
       "      <td>Aemon</td>\n",
       "      <td>Samwell</td>\n",
       "      <td>31</td>\n",
       "    </tr>\n",
       "    <tr>\n",
       "      <th>2</th>\n",
       "      <td>Aerys</td>\n",
       "      <td>Jaime</td>\n",
       "      <td>18</td>\n",
       "    </tr>\n",
       "    <tr>\n",
       "      <th>3</th>\n",
       "      <td>Aerys</td>\n",
       "      <td>Robert</td>\n",
       "      <td>6</td>\n",
       "    </tr>\n",
       "    <tr>\n",
       "      <th>4</th>\n",
       "      <td>Aerys</td>\n",
       "      <td>Tyrion</td>\n",
       "      <td>5</td>\n",
       "    </tr>\n",
       "    <tr>\n",
       "      <th>...</th>\n",
       "      <td>...</td>\n",
       "      <td>...</td>\n",
       "      <td>...</td>\n",
       "    </tr>\n",
       "    <tr>\n",
       "      <th>347</th>\n",
       "      <td>Walder</td>\n",
       "      <td>Petyr</td>\n",
       "      <td>6</td>\n",
       "    </tr>\n",
       "    <tr>\n",
       "      <th>348</th>\n",
       "      <td>Walder</td>\n",
       "      <td>Roslin</td>\n",
       "      <td>6</td>\n",
       "    </tr>\n",
       "    <tr>\n",
       "      <th>349</th>\n",
       "      <td>Walton</td>\n",
       "      <td>Jaime</td>\n",
       "      <td>10</td>\n",
       "    </tr>\n",
       "    <tr>\n",
       "      <th>350</th>\n",
       "      <td>Ygritte</td>\n",
       "      <td>Qhorin</td>\n",
       "      <td>7</td>\n",
       "    </tr>\n",
       "    <tr>\n",
       "      <th>351</th>\n",
       "      <td>Ygritte</td>\n",
       "      <td>Rattleshirt</td>\n",
       "      <td>9</td>\n",
       "    </tr>\n",
       "  </tbody>\n",
       "</table>\n",
       "<p>352 rows × 3 columns</p>\n",
       "</div>"
      ],
      "text/plain": [
       "      Source       Target  Weight\n",
       "0      Aemon        Grenn       5\n",
       "1      Aemon      Samwell      31\n",
       "2      Aerys        Jaime      18\n",
       "3      Aerys       Robert       6\n",
       "4      Aerys       Tyrion       5\n",
       "..       ...          ...     ...\n",
       "347   Walder        Petyr       6\n",
       "348   Walder       Roslin       6\n",
       "349   Walton        Jaime      10\n",
       "350  Ygritte       Qhorin       7\n",
       "351  Ygritte  Rattleshirt       9\n",
       "\n",
       "[352 rows x 3 columns]"
      ]
     },
     "execution_count": 28,
     "metadata": {},
     "output_type": "execute_result"
    }
   ],
   "source": [
    "got_df"
   ]
  },
  {
   "cell_type": "markdown",
   "metadata": {},
   "source": [
    "Then we make a network with `networkx.from_pandas_edgelist()`:"
   ]
  },
  {
   "cell_type": "code",
   "execution_count": 29,
   "metadata": {},
   "outputs": [],
   "source": [
    "got_df[\"Source\"] = got_df[\"Source\"].apply(lambda x: int(hash(x)/1e16))\n",
    "got_df[\"Target\"] = got_df[\"Target\"].apply(lambda x: int(hash(x)/1e16))\n"
   ]
  },
  {
   "cell_type": "code",
   "execution_count": 30,
   "metadata": {},
   "outputs": [
    {
     "data": {
      "text/html": [
       "<div>\n",
       "<style scoped>\n",
       "    .dataframe tbody tr th:only-of-type {\n",
       "        vertical-align: middle;\n",
       "    }\n",
       "\n",
       "    .dataframe tbody tr th {\n",
       "        vertical-align: top;\n",
       "    }\n",
       "\n",
       "    .dataframe thead th {\n",
       "        text-align: right;\n",
       "    }\n",
       "</style>\n",
       "<table border=\"1\" class=\"dataframe\">\n",
       "  <thead>\n",
       "    <tr style=\"text-align: right;\">\n",
       "      <th></th>\n",
       "      <th>Source</th>\n",
       "      <th>Target</th>\n",
       "      <th>Weight</th>\n",
       "    </tr>\n",
       "  </thead>\n",
       "  <tbody>\n",
       "    <tr>\n",
       "      <th>0</th>\n",
       "      <td>-290</td>\n",
       "      <td>-706</td>\n",
       "      <td>5</td>\n",
       "    </tr>\n",
       "    <tr>\n",
       "      <th>1</th>\n",
       "      <td>-290</td>\n",
       "      <td>119</td>\n",
       "      <td>31</td>\n",
       "    </tr>\n",
       "    <tr>\n",
       "      <th>2</th>\n",
       "      <td>-615</td>\n",
       "      <td>-329</td>\n",
       "      <td>18</td>\n",
       "    </tr>\n",
       "    <tr>\n",
       "      <th>3</th>\n",
       "      <td>-615</td>\n",
       "      <td>333</td>\n",
       "      <td>6</td>\n",
       "    </tr>\n",
       "    <tr>\n",
       "      <th>4</th>\n",
       "      <td>-615</td>\n",
       "      <td>-636</td>\n",
       "      <td>5</td>\n",
       "    </tr>\n",
       "    <tr>\n",
       "      <th>...</th>\n",
       "      <td>...</td>\n",
       "      <td>...</td>\n",
       "      <td>...</td>\n",
       "    </tr>\n",
       "    <tr>\n",
       "      <th>347</th>\n",
       "      <td>755</td>\n",
       "      <td>891</td>\n",
       "      <td>6</td>\n",
       "    </tr>\n",
       "    <tr>\n",
       "      <th>348</th>\n",
       "      <td>755</td>\n",
       "      <td>-331</td>\n",
       "      <td>6</td>\n",
       "    </tr>\n",
       "    <tr>\n",
       "      <th>349</th>\n",
       "      <td>166</td>\n",
       "      <td>-329</td>\n",
       "      <td>10</td>\n",
       "    </tr>\n",
       "    <tr>\n",
       "      <th>350</th>\n",
       "      <td>302</td>\n",
       "      <td>-125</td>\n",
       "      <td>7</td>\n",
       "    </tr>\n",
       "    <tr>\n",
       "      <th>351</th>\n",
       "      <td>302</td>\n",
       "      <td>742</td>\n",
       "      <td>9</td>\n",
       "    </tr>\n",
       "  </tbody>\n",
       "</table>\n",
       "<p>352 rows × 3 columns</p>\n",
       "</div>"
      ],
      "text/plain": [
       "     Source  Target  Weight\n",
       "0      -290    -706       5\n",
       "1      -290     119      31\n",
       "2      -615    -329      18\n",
       "3      -615     333       6\n",
       "4      -615    -636       5\n",
       "..      ...     ...     ...\n",
       "347     755     891       6\n",
       "348     755    -331       6\n",
       "349     166    -329      10\n",
       "350     302    -125       7\n",
       "351     302     742       9\n",
       "\n",
       "[352 rows x 3 columns]"
      ]
     },
     "execution_count": 30,
     "metadata": {},
     "output_type": "execute_result"
    }
   ],
   "source": [
    "got_df"
   ]
  },
  {
   "cell_type": "code",
   "execution_count": 31,
   "metadata": {},
   "outputs": [],
   "source": [
    "G = networkx.from_pandas_edgelist(got_df, 'Source', 'Target', 'Weight')"
   ]
  },
  {
   "cell_type": "markdown",
   "metadata": {},
   "source": [
    "## Basic Network "
   ]
  },
  {
   "cell_type": "markdown",
   "metadata": {},
   "source": [
    "The code below shows how to make a basic network viz that includes Hover Tooltips (a text box that will display when a user hovers over nodes) as well as Zoom and Pan/Drag functionality.\n",
    "\n",
    "For more details about visualizing network graphs with Bokeh, see [the documentation](https://docs.bokeh.org/en/latest/docs/user_guide/graph.html?highlight=networks)."
   ]
  },
  {
   "cell_type": "code",
   "execution_count": 32,
   "metadata": {},
   "outputs": [],
   "source": [
    "from bokeh.io import output_notebook, show, save\n",
    "from bokeh.models import Range1d, Circle, ColumnDataSource, MultiLine\n",
    "from bokeh.plotting import figure\n",
    "from bokeh.plotting import from_networkx"
   ]
  },
  {
   "cell_type": "code",
   "execution_count": 34,
   "metadata": {},
   "outputs": [
    {
     "data": {
      "text/html": [
       "\n",
       "  <div id=\"d149d234-f91f-43ff-a662-9f943c21d10d\" data-root-id=\"p1421\" style=\"display: contents;\"></div>\n"
      ]
     },
     "metadata": {},
     "output_type": "display_data"
    },
    {
     "data": {
      "application/javascript": "(function(root) {\n  function embed_document(root) {\n  const docs_json = {\"0b33a467-06fd-473c-9846-2f1997373467\":{\"version\":\"3.0.2\",\"title\":\"Bokeh Application\",\"defs\":[],\"roots\":[{\"type\":\"object\",\"name\":\"Figure\",\"id\":\"p1421\",\"attributes\":{\"x_range\":{\"type\":\"object\",\"name\":\"Range1d\",\"id\":\"p1419\",\"attributes\":{\"start\":-10.1,\"end\":10.1}},\"y_range\":{\"type\":\"object\",\"name\":\"Range1d\",\"id\":\"p1420\",\"attributes\":{\"start\":-10.1,\"end\":10.1}},\"x_scale\":{\"type\":\"object\",\"name\":\"LinearScale\",\"id\":\"p1433\"},\"y_scale\":{\"type\":\"object\",\"name\":\"LinearScale\",\"id\":\"p1435\"},\"title\":{\"type\":\"object\",\"name\":\"Title\",\"id\":\"p1424\",\"attributes\":{\"text\":\"Game of Thrones Network\"}},\"renderers\":[{\"type\":\"object\",\"name\":\"GraphRenderer\",\"id\":\"p1462\",\"attributes\":{\"layout_provider\":{\"type\":\"object\",\"name\":\"StaticLayoutProvider\",\"id\":\"p1493\",\"attributes\":{\"graph_layout\":{\"type\":\"map\",\"entries\":[[-290,{\"type\":\"ndarray\",\"array\":{\"type\":\"bytes\",\"data\":\"qpjXb9Zc3T+5p8uHZSYEQA==\"},\"shape\":[2],\"dtype\":\"float64\",\"order\":\"little\"}],[-706,{\"type\":\"ndarray\",\"array\":{\"type\":\"bytes\",\"data\":\"/iiwilnQwb+bNUz7P+ASQA==\"},\"shape\":[2],\"dtype\":\"float64\",\"order\":\"little\"}],[119,{\"type\":\"ndarray\",\"array\":{\"type\":\"bytes\",\"data\":\"+Ks4M28r5b/+SibGq6oQQA==\"},\"shape\":[2],\"dtype\":\"float64\",\"order\":\"little\"}],[-615,{\"type\":\"ndarray\",\"array\":{\"type\":\"bytes\",\"data\":\"zNGaFMvs8T/+8kscXW38vw==\"},\"shape\":[2],\"dtype\":\"float64\",\"order\":\"little\"}],[-329,{\"type\":\"ndarray\",\"array\":{\"type\":\"bytes\",\"data\":\"pI3cOQUXzj8rXITWqIjpvw==\"},\"shape\":[2],\"dtype\":\"float64\",\"order\":\"little\"}],[333,{\"type\":\"ndarray\",\"array\":{\"type\":\"bytes\",\"data\":\"FK4rROl79T993mWNwiPlvw==\"},\"shape\":[2],\"dtype\":\"float64\",\"order\":\"little\"}],[-636,{\"type\":\"ndarray\",\"array\":{\"type\":\"bytes\",\"data\":\"Oj+59ofA5b/lFeouXeX9vw==\"},\"shape\":[2],\"dtype\":\"float64\",\"order\":\"little\"}],[911,{\"type\":\"ndarray\",\"array\":{\"type\":\"bytes\",\"data\":\"zf/4s7327b9l3QnIgQr0vw==\"},\"shape\":[2],\"dtype\":\"float64\",\"order\":\"little\"}],[572,{\"type\":\"ndarray\",\"array\":{\"type\":\"bytes\",\"data\":\"TCbhK/aM2z+ECvI5aUcSQA==\"},\"shape\":[2],\"dtype\":\"float64\",\"order\":\"little\"}],[710,{\"type\":\"ndarray\",\"array\":{\"type\":\"bytes\",\"data\":\"b0CbjLty6z9VlQYOx3USQA==\"},\"shape\":[2],\"dtype\":\"float64\",\"order\":\"little\"}],[704,{\"type\":\"ndarray\",\"array\":{\"type\":\"bytes\",\"data\":\"rYoCmIBNFMBKZPTuFYsUwA==\"},\"shape\":[2],\"dtype\":\"float64\",\"order\":\"little\"}],[89,{\"type\":\"ndarray\",\"array\":{\"type\":\"bytes\",\"data\":\"lWTSrp0kBcBNKPTKtoUKwA==\"},\"shape\":[2],\"dtype\":\"float64\",\"order\":\"little\"}],[-39,{\"type\":\"ndarray\",\"array\":{\"type\":\"bytes\",\"data\":\"Uecq2qen8r8UM/awmOvTvw==\"},\"shape\":[2],\"dtype\":\"float64\",\"order\":\"little\"}],[-499,{\"type\":\"ndarray\",\"array\":{\"type\":\"bytes\",\"data\":\"ynLHNLYVD8BlTHjRENb3vw==\"},\"shape\":[2],\"dtype\":\"float64\",\"order\":\"little\"}],[-101,{\"type\":\"ndarray\",\"array\":{\"type\":\"bytes\",\"data\":\"BM9pLHra+78blQLd8nX7vw==\"},\"shape\":[2],\"dtype\":\"float64\",\"order\":\"little\"}],[525,{\"type\":\"ndarray\",\"array\":{\"type\":\"bytes\",\"data\":\"jE3qyoAEAcCzEb6910oCQA==\"},\"shape\":[2],\"dtype\":\"float64\",\"order\":\"little\"}],[-504,{\"type\":\"ndarray\",\"array\":{\"type\":\"bytes\",\"data\":\"io2DMzJ7CcAgMjNn2JnTvw==\"},\"shape\":[2],\"dtype\":\"float64\",\"order\":\"little\"}],[-29,{\"type\":\"ndarray\",\"array\":{\"type\":\"bytes\",\"data\":\"xdkxS4O5w7/sgkEL70j8vw==\"},\"shape\":[2],\"dtype\":\"float64\",\"order\":\"little\"}],[-607,{\"type\":\"ndarray\",\"array\":{\"type\":\"bytes\",\"data\":\"kjD7kwda9L8Dh6rb7/sEwA==\"},\"shape\":[2],\"dtype\":\"float64\",\"order\":\"little\"}],[737,{\"type\":\"ndarray\",\"array\":{\"type\":\"bytes\",\"data\":\"epBoLvvI5L92EIXN9EAEwA==\"},\"shape\":[2],\"dtype\":\"float64\",\"order\":\"little\"}],[84,{\"type\":\"ndarray\",\"array\":{\"type\":\"bytes\",\"data\":\"5Qb7cIz7878OSJIvqxv5vw==\"},\"shape\":[2],\"dtype\":\"float64\",\"order\":\"little\"}],[-451,{\"type\":\"ndarray\",\"array\":{\"type\":\"bytes\",\"data\":\"RyjRcDYEs7+N81g8xaoJQA==\"},\"shape\":[2],\"dtype\":\"float64\",\"order\":\"little\"}],[-243,{\"type\":\"ndarray\",\"array\":{\"type\":\"bytes\",\"data\":\"P4Opq7hE/b9ZANJhopj0Pw==\"},\"shape\":[2],\"dtype\":\"float64\",\"order\":\"little\"}],[913,{\"type\":\"ndarray\",\"array\":{\"type\":\"bytes\",\"data\":\"XuqnmVNgBcBR86hVXxbnPw==\"},\"shape\":[2],\"dtype\":\"float64\",\"order\":\"little\"}],[-782,{\"type\":\"ndarray\",\"array\":{\"type\":\"bytes\",\"data\":\"bLDpB5Yd0b/iqABwvin4vw==\"},\"shape\":[2],\"dtype\":\"float64\",\"order\":\"little\"}],[853,{\"type\":\"ndarray\",\"array\":{\"type\":\"bytes\",\"data\":\"tiVBv05vyT8AWO5CD6j/vw==\"},\"shape\":[2],\"dtype\":\"float64\",\"order\":\"little\"}],[370,{\"type\":\"ndarray\",\"array\":{\"type\":\"bytes\",\"data\":\"YLJrrH428r+dqGU8xFDKPw==\"},\"shape\":[2],\"dtype\":\"float64\",\"order\":\"little\"}],[-601,{\"type\":\"ndarray\",\"array\":{\"type\":\"bytes\",\"data\":\"GVDb5SWm/L/Jnna3sY7evw==\"},\"shape\":[2],\"dtype\":\"float64\",\"order\":\"little\"}],[-292,{\"type\":\"ndarray\",\"array\":{\"type\":\"bytes\",\"data\":\"nRRIGZ1fHUAYfxU9N98CwA==\"},\"shape\":[2],\"dtype\":\"float64\",\"order\":\"little\"}],[612,{\"type\":\"ndarray\",\"array\":{\"type\":\"bytes\",\"data\":\"OwUn4Zj4EEBTgnTAwlr/vw==\"},\"shape\":[2],\"dtype\":\"float64\",\"order\":\"little\"}],[-596,{\"type\":\"ndarray\",\"array\":{\"type\":\"bytes\",\"data\":\"////////I0Ce9rGIjLYAwA==\"},\"shape\":[2],\"dtype\":\"float64\",\"order\":\"little\"}],[39,{\"type\":\"ndarray\",\"array\":{\"type\":\"bytes\",\"data\":\"fAHR5/+VCMDD/tyPMT4JQA==\"},\"shape\":[2],\"dtype\":\"float64\",\"order\":\"little\"}],[-523,{\"type\":\"ndarray\",\"array\":{\"type\":\"bytes\",\"data\":\"MEwUuWBfBcCwC5xwzBESQA==\"},\"shape\":[2],\"dtype\":\"float64\",\"order\":\"little\"}],[149,{\"type\":\"ndarray\",\"array\":{\"type\":\"bytes\",\"data\":\"3wn43Pn8EMBfJ+lnl8gQQA==\"},\"shape\":[2],\"dtype\":\"float64\",\"order\":\"little\"}],[758,{\"type\":\"ndarray\",\"array\":{\"type\":\"bytes\",\"data\":\"lgWubnkH/r8YDwBTbwQRQA==\"},\"shape\":[2],\"dtype\":\"float64\",\"order\":\"little\"}],[753,{\"type\":\"ndarray\",\"array\":{\"type\":\"bytes\",\"data\":\"HclztLrGEsC4Fk92L4sNQA==\"},\"shape\":[2],\"dtype\":\"float64\",\"order\":\"little\"}],[660,{\"type\":\"ndarray\",\"array\":{\"type\":\"bytes\",\"data\":\"TVie/7LV/r8VPXvUaRkGQA==\"},\"shape\":[2],\"dtype\":\"float64\",\"order\":\"little\"}],[-395,{\"type\":\"ndarray\",\"array\":{\"type\":\"bytes\",\"data\":\"+lqCDUKG67/sUYhup7qzPw==\"},\"shape\":[2],\"dtype\":\"float64\",\"order\":\"little\"}],[-122,{\"type\":\"ndarray\",\"array\":{\"type\":\"bytes\",\"data\":\"4FnFzPjE7b8BbSEn9PQOwA==\"},\"shape\":[2],\"dtype\":\"float64\",\"order\":\"little\"}],[652,{\"type\":\"ndarray\",\"array\":{\"type\":\"bytes\",\"data\":\"bY/m3X57/b837HdqbdEEwA==\"},\"shape\":[2],\"dtype\":\"float64\",\"order\":\"little\"}],[-31,{\"type\":\"ndarray\",\"array\":{\"type\":\"bytes\",\"data\":\"i3C5w2wqEcD1B9cXWt7jvw==\"},\"shape\":[2],\"dtype\":\"float64\",\"order\":\"little\"}],[755,{\"type\":\"ndarray\",\"array\":{\"type\":\"bytes\",\"data\":\"hycGMn8SCcCPHl9WAknqvw==\"},\"shape\":[2],\"dtype\":\"float64\",\"order\":\"little\"}],[479,{\"type\":\"ndarray\",\"array\":{\"type\":\"bytes\",\"data\":\"VNyBX4aH+b8+05J9AxbRvw==\"},\"shape\":[2],\"dtype\":\"float64\",\"order\":\"little\"}],[754,{\"type\":\"ndarray\",\"array\":{\"type\":\"bytes\",\"data\":\"TH2YXuPIBMD5MSlSbf3xvw==\"},\"shape\":[2],\"dtype\":\"float64\",\"order\":\"little\"}],[618,{\"type\":\"ndarray\",\"array\":{\"type\":\"bytes\",\"data\":\"UT1s/0914r817XtBTDYCwA==\"},\"shape\":[2],\"dtype\":\"float64\",\"order\":\"little\"}],[-126,{\"type\":\"ndarray\",\"array\":{\"type\":\"bytes\",\"data\":\"+u6tliZV9L/DpRjvtJf8Pw==\"},\"shape\":[2],\"dtype\":\"float64\",\"order\":\"little\"}],[-889,{\"type\":\"ndarray\",\"array\":{\"type\":\"bytes\",\"data\":\"ooWFxjAu4T8obsLoLOXxvw==\"},\"shape\":[2],\"dtype\":\"float64\",\"order\":\"little\"}],[891,{\"type\":\"ndarray\",\"array\":{\"type\":\"bytes\",\"data\":\"hM39x5Pc97+90UR7w6vrvw==\"},\"shape\":[2],\"dtype\":\"float64\",\"order\":\"little\"}],[478,{\"type\":\"ndarray\",\"array\":{\"type\":\"bytes\",\"data\":\"OrJK/Ly0AMDc4VS9bzzgPw==\"},\"shape\":[2],\"dtype\":\"float64\",\"order\":\"little\"}],[-331,{\"type\":\"ndarray\",\"array\":{\"type\":\"bytes\",\"data\":\"BBSs4SRLD8B9pEXvM2r8vw==\"},\"shape\":[2],\"dtype\":\"float64\",\"order\":\"little\"}],[197,{\"type\":\"ndarray\",\"array\":{\"type\":\"bytes\",\"data\":\"RcyvUO1B6b+J96bky33hvw==\"},\"shape\":[2],\"dtype\":\"float64\",\"order\":\"little\"}],[310,{\"type\":\"ndarray\",\"array\":{\"type\":\"bytes\",\"data\":\"ZohzvH+J8r+X4HD4AwH1Pw==\"},\"shape\":[2],\"dtype\":\"float64\",\"order\":\"little\"}],[771,{\"type\":\"ndarray\",\"array\":{\"type\":\"bytes\",\"data\":\"dkN9IIhN9z/yortlN5AEwA==\"},\"shape\":[2],\"dtype\":\"float64\",\"order\":\"little\"}],[114,{\"type\":\"ndarray\",\"array\":{\"type\":\"bytes\",\"data\":\"B7rv2bpdpj/wQvjgF3gIwA==\"},\"shape\":[2],\"dtype\":\"float64\",\"order\":\"little\"}],[309,{\"type\":\"ndarray\",\"array\":{\"type\":\"bytes\",\"data\":\"A+rv7B762D8k/KJT120EwA==\"},\"shape\":[2],\"dtype\":\"float64\",\"order\":\"little\"}],[-512,{\"type\":\"ndarray\",\"array\":{\"type\":\"bytes\",\"data\":\"4i29RffM1T/T9GcH9U0LwA==\"},\"shape\":[2],\"dtype\":\"float64\",\"order\":\"little\"}],[-867,{\"type\":\"ndarray\",\"array\":{\"type\":\"bytes\",\"data\":\"1NjcWz9C1L8GRBwpqUMMwA==\"},\"shape\":[2],\"dtype\":\"float64\",\"order\":\"little\"}],[36,{\"type\":\"ndarray\",\"array\":{\"type\":\"bytes\",\"data\":\"iQLxZJ+h4b+ePp7gMlcIwA==\"},\"shape\":[2],\"dtype\":\"float64\",\"order\":\"little\"}],[499,{\"type\":\"ndarray\",\"array\":{\"type\":\"bytes\",\"data\":\"mYOk6+x89z8XtLOnNXUWQA==\"},\"shape\":[2],\"dtype\":\"float64\",\"order\":\"little\"}],[-907,{\"type\":\"ndarray\",\"array\":{\"type\":\"bytes\",\"data\":\"FUPnppfBCECH/2tXOX8fQA==\"},\"shape\":[2],\"dtype\":\"float64\",\"order\":\"little\"}],[-814,{\"type\":\"ndarray\",\"array\":{\"type\":\"bytes\",\"data\":\"xRDqZGOvHUD8zTEcAfgRwA==\"},\"shape\":[2],\"dtype\":\"float64\",\"order\":\"little\"}],[-818,{\"type\":\"ndarray\",\"array\":{\"type\":\"bytes\",\"data\":\"DeHaa+D3HkBBNajmAXYPwA==\"},\"shape\":[2],\"dtype\":\"float64\",\"order\":\"little\"}],[35,{\"type\":\"ndarray\",\"array\":{\"type\":\"bytes\",\"data\":\"J+29Ik2wIEC9JhN5PqERwA==\"},\"shape\":[2],\"dtype\":\"float64\",\"order\":\"little\"}],[110,{\"type\":\"ndarray\",\"array\":{\"type\":\"bytes\",\"data\":\"IVPcv2MUGUBZoeUjs4cJwA==\"},\"shape\":[2],\"dtype\":\"float64\",\"order\":\"little\"}],[-134,{\"type\":\"ndarray\",\"array\":{\"type\":\"bytes\",\"data\":\"AuGDpIu6HkBa978hNAoWwA==\"},\"shape\":[2],\"dtype\":\"float64\",\"order\":\"little\"}],[542,{\"type\":\"ndarray\",\"array\":{\"type\":\"bytes\",\"data\":\"BFijGc3bGEB/d6B9unwLwA==\"},\"shape\":[2],\"dtype\":\"float64\",\"order\":\"little\"}],[801,{\"type\":\"ndarray\",\"array\":{\"type\":\"bytes\",\"data\":\"rB2//tniIECmuf2WUGEUwA==\"},\"shape\":[2],\"dtype\":\"float64\",\"order\":\"little\"}],[-294,{\"type\":\"ndarray\",\"array\":{\"type\":\"bytes\",\"data\":\"PAxVti3ZIUDG8M0kPrkQwA==\"},\"shape\":[2],\"dtype\":\"float64\",\"order\":\"little\"}],[-400,{\"type\":\"ndarray\",\"array\":{\"type\":\"bytes\",\"data\":\"ldpmoW7zIUAW4lK8l5YLwA==\"},\"shape\":[2],\"dtype\":\"float64\",\"order\":\"little\"}],[-865,{\"type\":\"ndarray\",\"array\":{\"type\":\"bytes\",\"data\":\"u/TEwvY0EEB57KOhRU0FwA==\"},\"shape\":[2],\"dtype\":\"float64\",\"order\":\"little\"}],[921,{\"type\":\"ndarray\",\"array\":{\"type\":\"bytes\",\"data\":\"e/9pEaeTCUCiRdNucnUJwA==\"},\"shape\":[2],\"dtype\":\"float64\",\"order\":\"little\"}],[-106,{\"type\":\"ndarray\",\"array\":{\"type\":\"bytes\",\"data\":\"OpIIc1OLIUCOMQfqBf8FwA==\"},\"shape\":[2],\"dtype\":\"float64\",\"order\":\"little\"}],[489,{\"type\":\"ndarray\",\"array\":{\"type\":\"bytes\",\"data\":\"HZfLybFjEsA/gKATz+sTQA==\"},\"shape\":[2],\"dtype\":\"float64\",\"order\":\"little\"}],[143,{\"type\":\"ndarray\",\"array\":{\"type\":\"bytes\",\"data\":\"jNx4FMcxGMCEkSXuSwkdQA==\"},\"shape\":[2],\"dtype\":\"float64\",\"order\":\"little\"}],[-764,{\"type\":\"ndarray\",\"array\":{\"type\":\"bytes\",\"data\":\"zGcW/3YSHMDYpxJzPdIYQA==\"},\"shape\":[2],\"dtype\":\"float64\",\"order\":\"little\"}],[-351,{\"type\":\"ndarray\",\"array\":{\"type\":\"bytes\",\"data\":\"sKBtYEqL4b+L0Q1+eZbbPw==\"},\"shape\":[2],\"dtype\":\"float64\",\"order\":\"little\"}],[218,{\"type\":\"ndarray\",\"array\":{\"type\":\"bytes\",\"data\":\"w0XmpKLd5L8ILjEWGa8WQA==\"},\"shape\":[2],\"dtype\":\"float64\",\"order\":\"little\"}],[-403,{\"type\":\"ndarray\",\"array\":{\"type\":\"bytes\",\"data\":\"OkQgmEfR5z8p9FZ/VzIVQA==\"},\"shape\":[2],\"dtype\":\"float64\",\"order\":\"little\"}],[-584,{\"type\":\"ndarray\",\"array\":{\"type\":\"bytes\",\"data\":\"jGMm6JplCUDFOJZZwnrcvw==\"},\"shape\":[2],\"dtype\":\"float64\",\"order\":\"little\"}],[-444,{\"type\":\"ndarray\",\"array\":{\"type\":\"bytes\",\"data\":\"5+YD/x0o1r+wddmFipXovw==\"},\"shape\":[2],\"dtype\":\"float64\",\"order\":\"little\"}],[-95,{\"type\":\"ndarray\",\"array\":{\"type\":\"bytes\",\"data\":\"TcFaNYspAcAfHX+DHYT5vw==\"},\"shape\":[2],\"dtype\":\"float64\",\"order\":\"little\"}],[-44,{\"type\":\"ndarray\",\"array\":{\"type\":\"bytes\",\"data\":\"LyROS0zY178DJTEm8UQGQA==\"},\"shape\":[2],\"dtype\":\"float64\",\"order\":\"little\"}],[859,{\"type\":\"ndarray\",\"array\":{\"type\":\"bytes\",\"data\":\"C5bltdkr9b/ensYlXaUVQA==\"},\"shape\":[2],\"dtype\":\"float64\",\"order\":\"little\"}],[-239,{\"type\":\"ndarray\",\"array\":{\"type\":\"bytes\",\"data\":\"pUn45UD++7+15ddNUYQKwA==\"},\"shape\":[2],\"dtype\":\"float64\",\"order\":\"little\"}],[-502,{\"type\":\"ndarray\",\"array\":{\"type\":\"bytes\",\"data\":\"AhU6qjzY/r8hwesuH+30vw==\"},\"shape\":[2],\"dtype\":\"float64\",\"order\":\"little\"}],[-723,{\"type\":\"ndarray\",\"array\":{\"type\":\"bytes\",\"data\":\"rsESIypUBMBjO7GGzgoCwA==\"},\"shape\":[2],\"dtype\":\"float64\",\"order\":\"little\"}],[592,{\"type\":\"ndarray\",\"array\":{\"type\":\"bytes\",\"data\":\"KoUyXPPf/T9Tptt9MZUPQA==\"},\"shape\":[2],\"dtype\":\"float64\",\"order\":\"little\"}],[-602,{\"type\":\"ndarray\",\"array\":{\"type\":\"bytes\",\"data\":\"PI9NcDH9AcAWpQkOTFMPQA==\"},\"shape\":[2],\"dtype\":\"float64\",\"order\":\"little\"}],[-194,{\"type\":\"ndarray\",\"array\":{\"type\":\"bytes\",\"data\":\"xfnXGzk+A0DRiwY2aGcUQA==\"},\"shape\":[2],\"dtype\":\"float64\",\"order\":\"little\"}],[-125,{\"type\":\"ndarray\",\"array\":{\"type\":\"bytes\",\"data\":\"jzd0OvwmsD8qEUakS0gWQA==\"},\"shape\":[2],\"dtype\":\"float64\",\"order\":\"little\"}],[742,{\"type\":\"ndarray\",\"array\":{\"type\":\"bytes\",\"data\":\"IueO9Go16T+hPwKmd9AXQA==\"},\"shape\":[2],\"dtype\":\"float64\",\"order\":\"little\"}],[126,{\"type\":\"ndarray\",\"array\":{\"type\":\"bytes\",\"data\":\"oaaKYlW59z/9JqRJ5dUXQA==\"},\"shape\":[2],\"dtype\":\"float64\",\"order\":\"little\"}],[-75,{\"type\":\"ndarray\",\"array\":{\"type\":\"bytes\",\"data\":\"i0gbcbhU7D/DVaKgN9YBQA==\"},\"shape\":[2],\"dtype\":\"float64\",\"order\":\"little\"}],[302,{\"type\":\"ndarray\",\"array\":{\"type\":\"bytes\",\"data\":\"sQAjnpIb1T/LXJWOcI8YQA==\"},\"shape\":[2],\"dtype\":\"float64\",\"order\":\"little\"}],[698,{\"type\":\"ndarray\",\"array\":{\"type\":\"bytes\",\"data\":\"riYSwu4SB0A11JYeEaH2vw==\"},\"shape\":[2],\"dtype\":\"float64\",\"order\":\"little\"}],[102,{\"type\":\"ndarray\",\"array\":{\"type\":\"bytes\",\"data\":\"01qLcILJCMAS3ITOSpkYwA==\"},\"shape\":[2],\"dtype\":\"float64\",\"order\":\"little\"}],[-311,{\"type\":\"ndarray\",\"array\":{\"type\":\"bytes\",\"data\":\"I1f6ktqNC8AabDEz/A3OPw==\"},\"shape\":[2],\"dtype\":\"float64\",\"order\":\"little\"}],[918,{\"type\":\"ndarray\",\"array\":{\"type\":\"bytes\",\"data\":\"Hr3P3mhF+z9VdcDHd3S6vw==\"},\"shape\":[2],\"dtype\":\"float64\",\"order\":\"little\"}],[-139,{\"type\":\"ndarray\",\"array\":{\"type\":\"bytes\",\"data\":\"XMHhz4sZ/j9toI9SslXrvw==\"},\"shape\":[2],\"dtype\":\"float64\",\"order\":\"little\"}],[-416,{\"type\":\"ndarray\",\"array\":{\"type\":\"bytes\",\"data\":\"Z/n0KqrXBsBfAhQ0L3oRwA==\"},\"shape\":[2],\"dtype\":\"float64\",\"order\":\"little\"}],[-406,{\"type\":\"ndarray\",\"array\":{\"type\":\"bytes\",\"data\":\"Uwqd64fKAMC8tDPx3nwNwA==\"},\"shape\":[2],\"dtype\":\"float64\",\"order\":\"little\"}],[719,{\"type\":\"ndarray\",\"array\":{\"type\":\"bytes\",\"data\":\"2OB93PBME8AHvGrz0YrcPw==\"},\"shape\":[2],\"dtype\":\"float64\",\"order\":\"little\"}],[-252,{\"type\":\"ndarray\",\"array\":{\"type\":\"bytes\",\"data\":\"wk04lgOEFMA4y7lrkML2Pw==\"},\"shape\":[2],\"dtype\":\"float64\",\"order\":\"little\"}],[158,{\"type\":\"ndarray\",\"array\":{\"type\":\"bytes\",\"data\":\"S+lf/TdJ1L+ckWCi2NUTwA==\"},\"shape\":[2],\"dtype\":\"float64\",\"order\":\"little\"}],[724,{\"type\":\"ndarray\",\"array\":{\"type\":\"bytes\",\"data\":\"H5tyi3p/GsAR3rcPg0AbQA==\"},\"shape\":[2],\"dtype\":\"float64\",\"order\":\"little\"}],[-337,{\"type\":\"ndarray\",\"array\":{\"type\":\"bytes\",\"data\":\"vpUpfibi+b/vgJt6pYkUwA==\"},\"shape\":[2],\"dtype\":\"float64\",\"order\":\"little\"}],[166,{\"type\":\"ndarray\",\"array\":{\"type\":\"bytes\",\"data\":\"DsAJye2fB0BFTr6YyQ/YPw==\"},\"shape\":[2],\"dtype\":\"float64\",\"order\":\"little\"}]]}}},\"node_renderer\":{\"type\":\"object\",\"name\":\"GlyphRenderer\",\"id\":\"p1467\",\"attributes\":{\"data_source\":{\"type\":\"object\",\"name\":\"ColumnDataSource\",\"id\":\"p1464\",\"attributes\":{\"selected\":{\"type\":\"object\",\"name\":\"Selection\",\"id\":\"p1465\",\"attributes\":{\"indices\":[],\"line_indices\":[]}},\"selection_policy\":{\"type\":\"object\",\"name\":\"UnionRenderers\",\"id\":\"p1466\"},\"data\":{\"type\":\"map\",\"entries\":[[\"index\",[-290,-706,119,-615,-329,333,-636,911,572,710,704,89,-39,-499,-101,525,-504,-29,-607,737,84,-451,-243,913,-782,853,370,-601,-292,612,-596,39,-523,149,758,753,660,-395,-122,652,-31,755,479,754,618,-126,-889,891,478,-331,197,310,771,114,309,-512,-867,36,499,-907,-814,-818,35,110,-134,542,801,-294,-400,-865,921,-106,489,143,-764,-351,218,-403,-584,-444,-95,-44,859,-239,-502,-723,592,-602,-194,-125,742,126,-75,302,698,102,-311,918,-139,-416,-406,719,-252,158,724,-337,166]]]}}},\"view\":{\"type\":\"object\",\"name\":\"CDSView\",\"id\":\"p1468\",\"attributes\":{\"filter\":{\"type\":\"object\",\"name\":\"AllIndices\",\"id\":\"p1469\"}}},\"glyph\":{\"type\":\"object\",\"name\":\"Circle\",\"id\":\"p1494\",\"attributes\":{\"size\":{\"type\":\"value\",\"value\":15},\"fill_color\":{\"type\":\"value\",\"value\":\"skyblue\"}}}}},\"edge_renderer\":{\"type\":\"object\",\"name\":\"GlyphRenderer\",\"id\":\"p1475\",\"attributes\":{\"data_source\":{\"type\":\"object\",\"name\":\"ColumnDataSource\",\"id\":\"p1472\",\"attributes\":{\"selected\":{\"type\":\"object\",\"name\":\"Selection\",\"id\":\"p1473\",\"attributes\":{\"indices\":[],\"line_indices\":[]}},\"selection_policy\":{\"type\":\"object\",\"name\":\"UnionRenderers\",\"id\":\"p1474\"},\"data\":{\"type\":\"map\",\"entries\":[[\"Weight\",[5,31,30,4,4,8,25,43,11,11,52,7,5,6,34,12,36,6,10,5,13,18,6,5,8,11,19,36,6,6,4,88,5,4,6,15,16,11,11,7,17,5,8,31,15,10,13,10,4,16,5,10,5,6,6,5,4,5,4,6,5,9,11,5,5,46,54,5,4,12,77,4,31,5,5,5,4,22,5,5,11,6,9,7,5,25,12,28,11,6,4,21,6,18,39,4,4,12,5,4,16,7,13,14,5,6,4,5,5,15,4,4,6,4,5,9,15,4,69,11,8,7,10,9,7,8,12,5,24,4,6,6,11,23,9,6,5,43,7,6,7,8,5,46,18,18,15,22,4,4,21,8,15,96,46,12,4,54,14,35,11,4,15,23,10,4,5,8,7,4,17,4,5,4,4,6,7,23,10,4,6,4,4,6,4,16,7,5,5,9,7,7,12,5,4,8,7,28,5,5,14,10,9,10,35,8,7,6,4,9,8,4,7,6,31,20,9,16,8,12,54,14,4,8,8,15,7,4,4,4,5,4,4,10,6,4,6,4,7,9,5,8,14,18,10,26,13,20,11,5,35,41,5,33,4,11,7,6,5,19,4,8,4,4,10,12,19,9,26,6,6,16,9,10,8,5,43,6,8,4,5,16,9,32,6,18,5,10,29,9,28,5,28,13,4,7,15,4,6,5,36,9,4,7,4,6,8,32,20,15,7,5,4,4,8,5,4,6,17,4,5,14,7,18,7,6,17,4,8,47,10,26,7,12,8,14,5,7,4,16,30,5,7,5,5,5,7,7,6,7,9,4]],[\"start\",[-290,-290,-290,-290,-290,-706,-706,-706,119,119,119,119,119,119,119,119,119,119,119,119,119,-615,-615,-615,-615,-329,-329,-329,-329,-329,-329,-329,-329,-329,-329,-329,-329,-329,-329,-329,-329,-329,-329,-329,-329,-329,-329,-329,333,333,333,333,333,333,333,333,333,333,333,333,333,333,333,-636,-636,-636,-636,-636,-636,-636,-636,-636,-636,-636,-636,-636,-636,-636,-636,-636,-636,-636,-636,-636,-636,-636,-636,-636,-636,-636,-636,-636,-636,-636,-636,-636,911,911,911,911,911,911,911,911,911,911,911,911,911,911,911,911,911,911,572,572,572,710,710,710,710,710,710,710,710,710,710,704,89,89,89,89,-39,-39,-39,-39,-39,-39,-39,-39,-39,-39,-39,-39,-39,-39,-39,-39,-499,-101,-101,-101,-101,525,525,525,525,525,525,525,525,525,525,525,525,-504,-504,-504,-504,-504,-504,-29,-29,-29,-29,-29,-29,-29,-29,-29,-29,-29,-29,-29,-29,-29,-607,-607,737,737,737,737,737,737,84,84,84,84,84,84,84,84,84,84,84,-451,-451,-451,-451,-451,-451,-451,-451,-451,-451,-451,-451,-451,-451,-451,-451,-451,-451,-243,-243,-243,-243,913,913,913,-782,-782,-782,-782,-782,370,370,370,-601,-601,-601,-601,-601,-292,-292,-292,-292,612,612,612,39,39,39,-523,149,660,-395,-395,-395,-122,652,652,-31,-31,-31,-31,755,755,755,755,755,479,479,479,479,479,479,479,479,479,479,754,754,754,618,-126,-889,-889,-889,-889,-889,891,891,478,478,478,478,478,197,197,197,197,197,197,197,197,197,310,310,310,771,114,-512,-867,-867,36,36,499,499,-814,-814,-814,-814,-818,-818,-818,35,35,110,110,110,110,110,110,110,110,542,-865,489,489,489,489,-444,-95,-95,-44,-239,592,-125,-125,742,918]],[\"end\",[-706,119,-451,333,310,218,-451,119,525,-523,-451,758,-602,859,499,218,-403,-44,710,-125,310,-329,333,-636,911,-39,479,-29,-351,370,612,-395,754,771,737,84,-601,309,-584,-444,333,310,-95,-636,478,197,911,166,-39,-29,110,-351,-451,698,-865,612,-444,310,853,-782,197,-636,911,-39,479,-29,84,-889,-723,478,197,370,-122,158,-337,771,-416,737,114,-44,-239,-601,-406,-502,309,89,891,652,-512,-444,-782,-867,310,36,911,921,-889,478,370,-504,-29,737,84,-239,-406,89,891,652,-512,310,-95,-75,36,755,710,-44,-451,-44,-451,499,592,-403,-125,742,126,-75,302,89,737,84,-416,-406,-499,-101,525,-504,-29,-607,737,84,-451,-243,913,-782,853,-351,478,197,-101,-607,853,-351,-782,39,-523,-451,149,758,753,-243,660,479,-351,478,197,-31,755,479,754,719,478,479,-395,-122,771,737,114,84,309,-512,-782,-867,36,-351,-889,197,853,-782,-122,771,114,309,-782,84,114,-239,-601,-502,309,-723,-782,310,-95,478,197,-351,499,592,218,-403,-44,758,-602,-194,-125,742,310,126,660,-75,302,478,197,-351,660,478,197,479,478,-395,-351,114,309,853,197,-601,478,310,-395,-502,-311,-444,197,612,-596,110,542,110,542,-865,-523,758,478,758,753,478,479,478,197,652,-502,197,754,-331,478,755,479,754,478,891,-331,754,618,-126,-889,891,478,-331,197,310,-351,-331,618,478,-889,478,698,918,891,-139,197,478,197,-351,-252,719,197,310,-351,-239,-502,918,-723,-311,-444,-139,-867,489,-602,-444,-865,309,36,158,36,-239,-444,-907,-403,-818,35,110,542,110,35,542,110,-294,-134,542,801,-294,-400,-865,921,-106,-865,921,143,-764,-602,724,-502,-723,-502,859,102,-75,742,302,302,-139]]]}}},\"view\":{\"type\":\"object\",\"name\":\"CDSView\",\"id\":\"p1476\",\"attributes\":{\"filter\":{\"type\":\"object\",\"name\":\"AllIndices\",\"id\":\"p1477\"}}},\"glyph\":{\"type\":\"object\",\"name\":\"MultiLine\",\"id\":\"p1502\",\"attributes\":{\"line_alpha\":{\"type\":\"value\",\"value\":0.5}}}}},\"selection_policy\":{\"type\":\"object\",\"name\":\"NodesOnly\",\"id\":\"p1478\"},\"inspection_policy\":{\"type\":\"object\",\"name\":\"NodesOnly\",\"id\":\"p1470\"}}}],\"toolbar\":{\"type\":\"object\",\"name\":\"Toolbar\",\"id\":\"p1426\",\"attributes\":{\"tools\":[{\"type\":\"object\",\"name\":\"PanTool\",\"id\":\"p1451\"},{\"type\":\"object\",\"name\":\"WheelZoomTool\",\"id\":\"p1452\"},{\"type\":\"object\",\"name\":\"SaveTool\",\"id\":\"p1453\"},{\"type\":\"object\",\"name\":\"ResetTool\",\"id\":\"p1454\"},{\"type\":\"object\",\"name\":\"HoverTool\",\"id\":\"p1455\",\"attributes\":{\"renderers\":\"auto\",\"tooltips\":[[\"Character\",\"@index\"]]}}],\"active_scroll\":{\"id\":\"p1452\"}}},\"left\":[{\"type\":\"object\",\"name\":\"LinearAxis\",\"id\":\"p1444\",\"attributes\":{\"ticker\":{\"type\":\"object\",\"name\":\"BasicTicker\",\"id\":\"p1447\",\"attributes\":{\"mantissas\":[1,2,5]}},\"formatter\":{\"type\":\"object\",\"name\":\"BasicTickFormatter\",\"id\":\"p1445\"},\"major_label_policy\":{\"type\":\"object\",\"name\":\"AllLabels\",\"id\":\"p1446\"}}}],\"below\":[{\"type\":\"object\",\"name\":\"LinearAxis\",\"id\":\"p1437\",\"attributes\":{\"ticker\":{\"type\":\"object\",\"name\":\"BasicTicker\",\"id\":\"p1440\",\"attributes\":{\"mantissas\":[1,2,5]}},\"formatter\":{\"type\":\"object\",\"name\":\"BasicTickFormatter\",\"id\":\"p1438\"},\"major_label_policy\":{\"type\":\"object\",\"name\":\"AllLabels\",\"id\":\"p1439\"}}}],\"center\":[{\"type\":\"object\",\"name\":\"Grid\",\"id\":\"p1443\",\"attributes\":{\"axis\":{\"id\":\"p1437\"}}},{\"type\":\"object\",\"name\":\"Grid\",\"id\":\"p1450\",\"attributes\":{\"dimension\":1,\"axis\":{\"id\":\"p1444\"}}}]}}]}};\n  const render_items = [{\"docid\":\"0b33a467-06fd-473c-9846-2f1997373467\",\"roots\":{\"p1421\":\"d149d234-f91f-43ff-a662-9f943c21d10d\"},\"root_ids\":[\"p1421\"]}];\n  root.Bokeh.embed.embed_items_notebook(docs_json, render_items);\n  }\n  if (root.Bokeh !== undefined) {\n    embed_document(root);\n  } else {\n    let attempts = 0;\n    const timer = setInterval(function(root) {\n      if (root.Bokeh !== undefined) {\n        clearInterval(timer);\n        embed_document(root);\n      } else {\n        attempts++;\n        if (attempts > 100) {\n          clearInterval(timer);\n          console.log(\"Bokeh: ERROR: Unable to run BokehJS code because BokehJS library is missing\");\n        }\n      }\n    }, 10, root)\n  }\n})(window);",
      "application/vnd.bokehjs_exec.v0+json": ""
     },
     "metadata": {
      "application/vnd.bokehjs_exec.v0+json": {
       "id": "p1421"
      }
     },
     "output_type": "display_data"
    }
   ],
   "source": [
    "#Choose a title!\n",
    "title = 'Game of Thrones Network'\n",
    "\n",
    "#Establish which categories will appear when hovering over each node\n",
    "HOVER_TOOLTIPS = [(\"Character\", \"@index\")]\n",
    "\n",
    "#Create a plot — set dimensions, toolbar, and title\n",
    "plot = figure(tooltips = HOVER_TOOLTIPS,\n",
    "              tools=\"pan,wheel_zoom,save,reset\", active_scroll='wheel_zoom',\n",
    "            x_range=Range1d(-10.1, 10.1), y_range=Range1d(-10.1, 10.1), title=title)\n",
    "\n",
    "#Create a network graph object with spring layout\n",
    "# https://networkx.github.io/documentation/networkx-1.9/reference/generated/networkx.drawing.layout.spring_layout.html\n",
    "network_graph = from_networkx(G, networkx.spring_layout, scale=10, center=(0, 0))\n",
    "\n",
    "#Set node size and color\n",
    "network_graph.node_renderer.glyph = Circle(size=15, fill_color='skyblue')\n",
    "\n",
    "#Set edge opacity and width\n",
    "network_graph.edge_renderer.glyph = MultiLine(line_alpha=0.5, line_width=1)\n",
    "\n",
    "#Add network graph to the plot\n",
    "plot.renderers.append(network_graph)\n",
    "\n",
    "show(plot)\n",
    "#save(plot, filename=f\"{title}.html\")"
   ]
  },
  {
   "cell_type": "markdown",
   "metadata": {},
   "source": [
    "## Network with Nodes Sized and Colored By Attribute (Degree)"
   ]
  },
  {
   "cell_type": "markdown",
   "metadata": {},
   "source": [
    "The code below shows how to size and color nodes by degree."
   ]
  },
  {
   "cell_type": "markdown",
   "metadata": {},
   "source": [
    "**Include Bokeh color palettes**"
   ]
  },
  {
   "cell_type": "code",
   "execution_count": 35,
   "metadata": {},
   "outputs": [],
   "source": [
    "from bokeh.io import output_notebook, show, save\n",
    "from bokeh.models import Range1d, Circle, ColumnDataSource, MultiLine\n",
    "from bokeh.plotting import figure\n",
    "from bokeh.plotting import from_networkx\n",
    "from bokeh.palettes import Blues8, Reds8, Purples8, Oranges8, Viridis8, Spectral8\n",
    "from bokeh.transform import linear_cmap"
   ]
  },
  {
   "cell_type": "markdown",
   "metadata": {},
   "source": [
    "**Calculate degree for each node and add as node attribute**"
   ]
  },
  {
   "cell_type": "code",
   "execution_count": 36,
   "metadata": {},
   "outputs": [],
   "source": [
    "degrees = dict(networkx.degree(G))\n",
    "networkx.set_node_attributes(G, name='degree', values=degrees)"
   ]
  },
  {
   "cell_type": "markdown",
   "metadata": {},
   "source": [
    "**Slightly adjust degree so that the nodes with very small degrees are still visible**"
   ]
  },
  {
   "cell_type": "code",
   "execution_count": 37,
   "metadata": {},
   "outputs": [],
   "source": [
    "number_to_adjust_by = 5\n",
    "adjusted_node_size = dict([(node, degree+number_to_adjust_by) for node, degree in networkx.degree(G)])\n",
    "networkx.set_node_attributes(G, name='adjusted_node_size', values=adjusted_node_size)"
   ]
  },
  {
   "cell_type": "code",
   "execution_count": 38,
   "metadata": {},
   "outputs": [
    {
     "data": {
      "text/html": [
       "\n",
       "  <div id=\"3f65b44c-2d41-4a7a-af61-99b0ef634ec8\" data-root-id=\"p1871\" style=\"display: contents;\"></div>\n"
      ]
     },
     "metadata": {},
     "output_type": "display_data"
    },
    {
     "data": {
      "application/javascript": "(function(root) {\n  function embed_document(root) {\n  const docs_json = {\"262d2832-4fa0-4156-9a4d-44455d047bdb\":{\"version\":\"3.0.2\",\"title\":\"Bokeh Application\",\"defs\":[],\"roots\":[{\"type\":\"object\",\"name\":\"Figure\",\"id\":\"p1871\",\"attributes\":{\"x_range\":{\"type\":\"object\",\"name\":\"Range1d\",\"id\":\"p1869\",\"attributes\":{\"start\":-10.1,\"end\":10.1}},\"y_range\":{\"type\":\"object\",\"name\":\"Range1d\",\"id\":\"p1870\",\"attributes\":{\"start\":-10.1,\"end\":10.1}},\"x_scale\":{\"type\":\"object\",\"name\":\"LinearScale\",\"id\":\"p1883\"},\"y_scale\":{\"type\":\"object\",\"name\":\"LinearScale\",\"id\":\"p1885\"},\"title\":{\"type\":\"object\",\"name\":\"Title\",\"id\":\"p1874\",\"attributes\":{\"text\":\"Game of Thrones Network\"}},\"renderers\":[{\"type\":\"object\",\"name\":\"GraphRenderer\",\"id\":\"p1912\",\"attributes\":{\"layout_provider\":{\"type\":\"object\",\"name\":\"StaticLayoutProvider\",\"id\":\"p1943\",\"attributes\":{\"graph_layout\":{\"type\":\"map\",\"entries\":[[-290,{\"type\":\"ndarray\",\"array\":{\"type\":\"bytes\",\"data\":\"GLhgF+T+8D8jyoV2DFUCwA==\"},\"shape\":[2],\"dtype\":\"float64\",\"order\":\"little\"}],[-706,{\"type\":\"ndarray\",\"array\":{\"type\":\"bytes\",\"data\":\"+MFzLGoz/T9CsY+LHAsSwA==\"},\"shape\":[2],\"dtype\":\"float64\",\"order\":\"little\"}],[119,{\"type\":\"ndarray\",\"array\":{\"type\":\"bytes\",\"data\":\"tLxtIcld/j/H7dVPlwkQwA==\"},\"shape\":[2],\"dtype\":\"float64\",\"order\":\"little\"}],[-615,{\"type\":\"ndarray\",\"array\":{\"type\":\"bytes\",\"data\":\"XgkM2jA7s7+MgfTv2kQDQA==\"},\"shape\":[2],\"dtype\":\"float64\",\"order\":\"little\"}],[-329,{\"type\":\"ndarray\",\"array\":{\"type\":\"bytes\",\"data\":\"7CXPrP2U5b8CkOHS29/tPw==\"},\"shape\":[2],\"dtype\":\"float64\",\"order\":\"little\"}],[333,{\"type\":\"ndarray\",\"array\":{\"type\":\"bytes\",\"data\":\"lVU2PRAI6b8Dbc6dI6X0Pw==\"},\"shape\":[2],\"dtype\":\"float64\",\"order\":\"little\"}],[-636,{\"type\":\"ndarray\",\"array\":{\"type\":\"bytes\",\"data\":\"SsTTbXsW6T+2/lKBTHP3Pw==\"},\"shape\":[2],\"dtype\":\"float64\",\"order\":\"little\"}],[911,{\"type\":\"ndarray\",\"array\":{\"type\":\"bytes\",\"data\":\"8MIoW8HJ6j9TadlhUQnjPw==\"},\"shape\":[2],\"dtype\":\"float64\",\"order\":\"little\"}],[572,{\"type\":\"ndarray\",\"array\":{\"type\":\"bytes\",\"data\":\"H0slTj0bD0CvyFiZf/UJwA==\"},\"shape\":[2],\"dtype\":\"float64\",\"order\":\"little\"}],[710,{\"type\":\"ndarray\",\"array\":{\"type\":\"bytes\",\"data\":\"wN2KsDy6C0AZHCJYd5UPwA==\"},\"shape\":[2],\"dtype\":\"float64\",\"order\":\"little\"}],[704,{\"type\":\"ndarray\",\"array\":{\"type\":\"bytes\",\"data\":\"pNJzjvo2E0CXNkhAzTIRQA==\"},\"shape\":[2],\"dtype\":\"float64\",\"order\":\"little\"}],[89,{\"type\":\"ndarray\",\"array\":{\"type\":\"bytes\",\"data\":\"b/Z3czmJAkAbRwfKePwEQA==\"},\"shape\":[2],\"dtype\":\"float64\",\"order\":\"little\"}],[-39,{\"type\":\"ndarray\",\"array\":{\"type\":\"bytes\",\"data\":\"uW6mC1BE77+Kjg13KD/Rvw==\"},\"shape\":[2],\"dtype\":\"float64\",\"order\":\"little\"}],[-499,{\"type\":\"ndarray\",\"array\":{\"type\":\"bytes\",\"data\":\"jpuoBG0wD8CvqA/fsgfZvw==\"},\"shape\":[2],\"dtype\":\"float64\",\"order\":\"little\"}],[-101,{\"type\":\"ndarray\",\"array\":{\"type\":\"bytes\",\"data\":\"jrX2yAyeBcD4Kh4AO8WmPw==\"},\"shape\":[2],\"dtype\":\"float64\",\"order\":\"little\"}],[525,{\"type\":\"ndarray\",\"array\":{\"type\":\"bytes\",\"data\":\"eqdQnK6c179Gyqo1RG4IwA==\"},\"shape\":[2],\"dtype\":\"float64\",\"order\":\"little\"}],[-504,{\"type\":\"ndarray\",\"array\":{\"type\":\"bytes\",\"data\":\"iTxz+euK+L8wih9lfafzvw==\"},\"shape\":[2],\"dtype\":\"float64\",\"order\":\"little\"}],[-29,{\"type\":\"ndarray\",\"array\":{\"type\":\"bytes\",\"data\":\"mEmXdloRgT/NsbQTGRD0Pw==\"},\"shape\":[2],\"dtype\":\"float64\",\"order\":\"little\"}],[-607,{\"type\":\"ndarray\",\"array\":{\"type\":\"bytes\",\"data\":\"yg9Y2MtHCcCaA8cOg7vjPw==\"},\"shape\":[2],\"dtype\":\"float64\",\"order\":\"little\"}],[737,{\"type\":\"ndarray\",\"array\":{\"type\":\"bytes\",\"data\":\"PMuGCw0ktT/sT/kqVWf+Pw==\"},\"shape\":[2],\"dtype\":\"float64\",\"order\":\"little\"}],[84,{\"type\":\"ndarray\",\"array\":{\"type\":\"bytes\",\"data\":\"TjrvJCLJ3j9YN5U2VLXuPw==\"},\"shape\":[2],\"dtype\":\"float64\",\"order\":\"little\"}],[-451,{\"type\":\"ndarray\",\"array\":{\"type\":\"bytes\",\"data\":\"fOntdHyY/D/uTcFp43QIwA==\"},\"shape\":[2],\"dtype\":\"float64\",\"order\":\"little\"}],[-243,{\"type\":\"ndarray\",\"array\":{\"type\":\"bytes\",\"data\":\"vkQIQpU047+g2cwflXIAwA==\"},\"shape\":[2],\"dtype\":\"float64\",\"order\":\"little\"}],[913,{\"type\":\"ndarray\",\"array\":{\"type\":\"bytes\",\"data\":\"KeX9ZbzAAMDronLRHKvrvw==\"},\"shape\":[2],\"dtype\":\"float64\",\"order\":\"little\"}],[-782,{\"type\":\"ndarray\",\"array\":{\"type\":\"bytes\",\"data\":\"VgEmI+1u8r9Q+jUDUprvPw==\"},\"shape\":[2],\"dtype\":\"float64\",\"order\":\"little\"}],[853,{\"type\":\"ndarray\",\"array\":{\"type\":\"bytes\",\"data\":\"5HYeuJpnBMBQaadb7YDvPw==\"},\"shape\":[2],\"dtype\":\"float64\",\"order\":\"little\"}],[370,{\"type\":\"ndarray\",\"array\":{\"type\":\"bytes\",\"data\":\"Ul/fKPsN0T+aVV9n/1Otvw==\"},\"shape\":[2],\"dtype\":\"float64\",\"order\":\"little\"}],[-601,{\"type\":\"ndarray\",\"array\":{\"type\":\"bytes\",\"data\":\"gSZ5EK1y9T+PQT0wLoPjPw==\"},\"shape\":[2],\"dtype\":\"float64\",\"order\":\"little\"}],[-292,{\"type\":\"ndarray\",\"array\":{\"type\":\"bytes\",\"data\":\"x9yl0UzhB8CQ8ShWY7AdQA==\"},\"shape\":[2],\"dtype\":\"float64\",\"order\":\"little\"}],[612,{\"type\":\"ndarray\",\"array\":{\"type\":\"bytes\",\"data\":\"wAOrmiJsA8CaLyPAlDgRQA==\"},\"shape\":[2],\"dtype\":\"float64\",\"order\":\"little\"}],[-596,{\"type\":\"ndarray\",\"array\":{\"type\":\"bytes\",\"data\":\"tkqc+VzuCMAAAAAAAAAkQA==\"},\"shape\":[2],\"dtype\":\"float64\",\"order\":\"little\"}],[39,{\"type\":\"ndarray\",\"array\":{\"type\":\"bytes\",\"data\":\"wFkA8fw9679zH5nf0sgQwA==\"},\"shape\":[2],\"dtype\":\"float64\",\"order\":\"little\"}],[-523,{\"type\":\"ndarray\",\"array\":{\"type\":\"bytes\",\"data\":\"ipkDKAGgrT+pzaNnKMYUwA==\"},\"shape\":[2],\"dtype\":\"float64\",\"order\":\"little\"}],[149,{\"type\":\"ndarray\",\"array\":{\"type\":\"bytes\",\"data\":\"AO8RSCui/b/arHAJkZEWwA==\"},\"shape\":[2],\"dtype\":\"float64\",\"order\":\"little\"}],[758,{\"type\":\"ndarray\",\"array\":{\"type\":\"bytes\",\"data\":\"7G00UtXU3T+2JlCS9uUSwA==\"},\"shape\":[2],\"dtype\":\"float64\",\"order\":\"little\"}],[753,{\"type\":\"ndarray\",\"array\":{\"type\":\"bytes\",\"data\":\"/YarrLXSAsCbwuoKWicVwA==\"},\"shape\":[2],\"dtype\":\"float64\",\"order\":\"little\"}],[660,{\"type\":\"ndarray\",\"array\":{\"type\":\"bytes\",\"data\":\"gAjDzPhPq7+n+lGl5F0LwA==\"},\"shape\":[2],\"dtype\":\"float64\",\"order\":\"little\"}],[-395,{\"type\":\"ndarray\",\"array\":{\"type\":\"bytes\",\"data\":\"8ImCv0YO4L8YLI1AcUqYPw==\"},\"shape\":[2],\"dtype\":\"float64\",\"order\":\"little\"}],[-122,{\"type\":\"ndarray\",\"array\":{\"type\":\"bytes\",\"data\":\"ToATxVmJ8j8k8EXQqmUIQA==\"},\"shape\":[2],\"dtype\":\"float64\",\"order\":\"little\"}],[652,{\"type\":\"ndarray\",\"array\":{\"type\":\"bytes\",\"data\":\"bD3/04AmAkATKmpfvZ/6Pw==\"},\"shape\":[2],\"dtype\":\"float64\",\"order\":\"little\"}],[-31,{\"type\":\"ndarray\",\"array\":{\"type\":\"bytes\",\"data\":\"6vA24UY1AMDmEksC8lAEwA==\"},\"shape\":[2],\"dtype\":\"float64\",\"order\":\"little\"}],[755,{\"type\":\"ndarray\",\"array\":{\"type\":\"bytes\",\"data\":\"xf6tcLxh4r/173A10iX7vw==\"},\"shape\":[2],\"dtype\":\"float64\",\"order\":\"little\"}],[479,{\"type\":\"ndarray\",\"array\":{\"type\":\"bytes\",\"data\":\"lhCJW6hv3r8iKiYvxQDuvw==\"},\"shape\":[2],\"dtype\":\"float64\",\"order\":\"little\"}],[754,{\"type\":\"ndarray\",\"array\":{\"type\":\"bytes\",\"data\":\"mL9j9M9787+fA1jCCaH6vw==\"},\"shape\":[2],\"dtype\":\"float64\",\"order\":\"little\"}],[618,{\"type\":\"ndarray\",\"array\":{\"type\":\"bytes\",\"data\":\"OidNFMGG5j8uqfwZ0AT9vw==\"},\"shape\":[2],\"dtype\":\"float64\",\"order\":\"little\"}],[-126,{\"type\":\"ndarray\",\"array\":{\"type\":\"bytes\",\"data\":\"GYDLFyflA8Ak0HhMfsAAwA==\"},\"shape\":[2],\"dtype\":\"float64\",\"order\":\"little\"}],[-889,{\"type\":\"ndarray\",\"array\":{\"type\":\"bytes\",\"data\":\"rM/USVbW8j9+RuCLK//Hvw==\"},\"shape\":[2],\"dtype\":\"float64\",\"order\":\"little\"}],[891,{\"type\":\"ndarray\",\"array\":{\"type\":\"bytes\",\"data\":\"YBvxpHGi4D9Kn0y1+//ivw==\"},\"shape\":[2],\"dtype\":\"float64\",\"order\":\"little\"}],[478,{\"type\":\"ndarray\",\"array\":{\"type\":\"bytes\",\"data\":\"wQP7l9HS5b+dCmuIdtj1vw==\"},\"shape\":[2],\"dtype\":\"float64\",\"order\":\"little\"}],[-331,{\"type\":\"ndarray\",\"array\":{\"type\":\"bytes\",\"data\":\"5VzLEFO6+L9h4iIoge0GwA==\"},\"shape\":[2],\"dtype\":\"float64\",\"order\":\"little\"}],[197,{\"type\":\"ndarray\",\"array\":{\"type\":\"bytes\",\"data\":\"F5nWRQUO7D9Y8KCQDlVLPw==\"},\"shape\":[2],\"dtype\":\"float64\",\"order\":\"little\"}],[310,{\"type\":\"ndarray\",\"array\":{\"type\":\"bytes\",\"data\":\"SXOq0Ne42z/rf+FhaV/5vw==\"},\"shape\":[2],\"dtype\":\"float64\",\"order\":\"little\"}],[771,{\"type\":\"ndarray\",\"array\":{\"type\":\"bytes\",\"data\":\"N2sg/29p679IlAACjrEHQA==\"},\"shape\":[2],\"dtype\":\"float64\",\"order\":\"little\"}],[114,{\"type\":\"ndarray\",\"array\":{\"type\":\"bytes\",\"data\":\"mxxuwdUj4r+rV0e3BioDQA==\"},\"shape\":[2],\"dtype\":\"float64\",\"order\":\"little\"}],[309,{\"type\":\"ndarray\",\"array\":{\"type\":\"bytes\",\"data\":\"lbWhPAHn6L9E4Yc/IxcAQA==\"},\"shape\":[2],\"dtype\":\"float64\",\"order\":\"little\"}],[-512,{\"type\":\"ndarray\",\"array\":{\"type\":\"bytes\",\"data\":\"yZLwfgml4z9ObJrHmWcGQA==\"},\"shape\":[2],\"dtype\":\"float64\",\"order\":\"little\"}],[-867,{\"type\":\"ndarray\",\"array\":{\"type\":\"bytes\",\"data\":\"UajEv4DW+D+tCkE0nfADQA==\"},\"shape\":[2],\"dtype\":\"float64\",\"order\":\"little\"}],[36,{\"type\":\"ndarray\",\"array\":{\"type\":\"bytes\",\"data\":\"TsFtS3sU8T+mCpcuwHkCQA==\"},\"shape\":[2],\"dtype\":\"float64\",\"order\":\"little\"}],[499,{\"type\":\"ndarray\",\"array\":{\"type\":\"bytes\",\"data\":\"SrETvHTGC0CgYDywQXkWwA==\"},\"shape\":[2],\"dtype\":\"float64\",\"order\":\"little\"}],[-907,{\"type\":\"ndarray\",\"array\":{\"type\":\"bytes\",\"data\":\"SfYJHopLFEBryt4LiAsfwA==\"},\"shape\":[2],\"dtype\":\"float64\",\"order\":\"little\"}],[-814,{\"type\":\"ndarray\",\"array\":{\"type\":\"bytes\",\"data\":\"9fqDJJtaEcCzhS+6cv4eQA==\"},\"shape\":[2],\"dtype\":\"float64\",\"order\":\"little\"}],[-818,{\"type\":\"ndarray\",\"array\":{\"type\":\"bytes\",\"data\":\"daPoi7vrEsC+AKSEP0cdQA==\"},\"shape\":[2],\"dtype\":\"float64\",\"order\":\"little\"}],[35,{\"type\":\"ndarray\",\"array\":{\"type\":\"bytes\",\"data\":\"TLRqhQAlFcC+6V0FmRkfQA==\"},\"shape\":[2],\"dtype\":\"float64\",\"order\":\"little\"}],[110,{\"type\":\"ndarray\",\"array\":{\"type\":\"bytes\",\"data\":\"SnSIaISjDcDjdrLhmJEYQA==\"},\"shape\":[2],\"dtype\":\"float64\",\"order\":\"little\"}],[-134,{\"type\":\"ndarray\",\"array\":{\"type\":\"bytes\",\"data\":\"qZfa11SKGMAXftqrBc8bQA==\"},\"shape\":[2],\"dtype\":\"float64\",\"order\":\"little\"}],[542,{\"type\":\"ndarray\",\"array\":{\"type\":\"bytes\",\"data\":\"OLbIjEkSC8B28b6nXNgZQA==\"},\"shape\":[2],\"dtype\":\"float64\",\"order\":\"little\"}],[801,{\"type\":\"ndarray\",\"array\":{\"type\":\"bytes\",\"data\":\"P0CsAvazFcDa752iIuUgQA==\"},\"shape\":[2],\"dtype\":\"float64\",\"order\":\"little\"}],[-294,{\"type\":\"ndarray\",\"array\":{\"type\":\"bytes\",\"data\":\"ZMdDtMTbF8D9PrbBo9UeQA==\"},\"shape\":[2],\"dtype\":\"float64\",\"order\":\"little\"}],[-400,{\"type\":\"ndarray\",\"array\":{\"type\":\"bytes\",\"data\":\"61X7J4XKEsBqisTC42AhQA==\"},\"shape\":[2],\"dtype\":\"float64\",\"order\":\"little\"}],[-865,{\"type\":\"ndarray\",\"array\":{\"type\":\"bytes\",\"data\":\"VPkjZaWhAcCZ/pt+RB0SQA==\"},\"shape\":[2],\"dtype\":\"float64\",\"order\":\"little\"}],[921,{\"type\":\"ndarray\",\"array\":{\"type\":\"bytes\",\"data\":\"VlvhVH379b/Q6+kURDYSQA==\"},\"shape\":[2],\"dtype\":\"float64\",\"order\":\"little\"}],[-106,{\"type\":\"ndarray\",\"array\":{\"type\":\"bytes\",\"data\":\"w7bXM56cD8BT2EKEzoMhQA==\"},\"shape\":[2],\"dtype\":\"float64\",\"order\":\"little\"}],[489,{\"type\":\"ndarray\",\"array\":{\"type\":\"bytes\",\"data\":\"0ihyDsfmxb/3hTYA3NEZwA==\"},\"shape\":[2],\"dtype\":\"float64\",\"order\":\"little\"}],[143,{\"type\":\"ndarray\",\"array\":{\"type\":\"bytes\",\"data\":\"DvDrgXRF5L9jmJ/WZyUiwA==\"},\"shape\":[2],\"dtype\":\"float64\",\"order\":\"little\"}],[-764,{\"type\":\"ndarray\",\"array\":{\"type\":\"bytes\",\"data\":\"46EN4dsY9b/KThW6PrshwA==\"},\"shape\":[2],\"dtype\":\"float64\",\"order\":\"little\"}],[-351,{\"type\":\"ndarray\",\"array\":{\"type\":\"bytes\",\"data\":\"7JNO1moK4L/6PfJ8bB7lvw==\"},\"shape\":[2],\"dtype\":\"float64\",\"order\":\"little\"}],[218,{\"type\":\"ndarray\",\"array\":{\"type\":\"bytes\",\"data\":\"nmdBOlZzAED8ADoatKgVwA==\"},\"shape\":[2],\"dtype\":\"float64\",\"order\":\"little\"}],[-403,{\"type\":\"ndarray\",\"array\":{\"type\":\"bytes\",\"data\":\"eAEMYyjEBkDKIwUsChkUwA==\"},\"shape\":[2],\"dtype\":\"float64\",\"order\":\"little\"}],[-584,{\"type\":\"ndarray\",\"array\":{\"type\":\"bytes\",\"data\":\"eL2CUtlpCMBx+fNDlYcEQA==\"},\"shape\":[2],\"dtype\":\"float64\",\"order\":\"little\"}],[-444,{\"type\":\"ndarray\",\"array\":{\"type\":\"bytes\",\"data\":\"URXPR/ra6T/qZmzc3ejqPw==\"},\"shape\":[2],\"dtype\":\"float64\",\"order\":\"little\"}],[-95,{\"type\":\"ndarray\",\"array\":{\"type\":\"bytes\",\"data\":\"1VVniozQ9D/K9xGCZS/7Pw==\"},\"shape\":[2],\"dtype\":\"float64\",\"order\":\"little\"}],[-44,{\"type\":\"ndarray\",\"array\":{\"type\":\"bytes\",\"data\":\"b0MKk2UqBkCwz5AFu9sBwA==\"},\"shape\":[2],\"dtype\":\"float64\",\"order\":\"little\"}],[859,{\"type\":\"ndarray\",\"array\":{\"type\":\"bytes\",\"data\":\"VAGKaErDEEDOpda1zFQOwA==\"},\"shape\":[2],\"dtype\":\"float64\",\"order\":\"little\"}],[-239,{\"type\":\"ndarray\",\"array\":{\"type\":\"bytes\",\"data\":\"YjxVVwboAEAqXW4HBzQCQA==\"},\"shape\":[2],\"dtype\":\"float64\",\"order\":\"little\"}],[-502,{\"type\":\"ndarray\",\"array\":{\"type\":\"bytes\",\"data\":\"r8c0jLwGAEA/BMu8d2/uPw==\"},\"shape\":[2],\"dtype\":\"float64\",\"order\":\"little\"}],[-723,{\"type\":\"ndarray\",\"array\":{\"type\":\"bytes\",\"data\":\"8nMPG7VcAEBMiUYXvv71Pw==\"},\"shape\":[2],\"dtype\":\"float64\",\"order\":\"little\"}],[592,{\"type\":\"ndarray\",\"array\":{\"type\":\"bytes\",\"data\":\"m0aE+nI2EUCBnRLc3BEIwA==\"},\"shape\":[2],\"dtype\":\"float64\",\"order\":\"little\"}],[-602,{\"type\":\"ndarray\",\"array\":{\"type\":\"bytes\",\"data\":\"PPzRDgiA6j86SkKo3bMRwA==\"},\"shape\":[2],\"dtype\":\"float64\",\"order\":\"little\"}],[-194,{\"type\":\"ndarray\",\"array\":{\"type\":\"bytes\",\"data\":\"pLKL4VRqBECknz1n1VUYwA==\"},\"shape\":[2],\"dtype\":\"float64\",\"order\":\"little\"}],[-125,{\"type\":\"ndarray\",\"array\":{\"type\":\"bytes\",\"data\":\"TnWlOcVVCkB0qH1+99YSwA==\"},\"shape\":[2],\"dtype\":\"float64\",\"order\":\"little\"}],[742,{\"type\":\"ndarray\",\"array\":{\"type\":\"bytes\",\"data\":\"dMLsL6ZmEECRFUDYVvYSwA==\"},\"shape\":[2],\"dtype\":\"float64\",\"order\":\"little\"}],[126,{\"type\":\"ndarray\",\"array\":{\"type\":\"bytes\",\"data\":\"4oTSX7E/EkA3c6q/KjoRwA==\"},\"shape\":[2],\"dtype\":\"float64\",\"order\":\"little\"}],[-75,{\"type\":\"ndarray\",\"array\":{\"type\":\"bytes\",\"data\":\"M5oDHkY9CUAeSN5lu9z+vw==\"},\"shape\":[2],\"dtype\":\"float64\",\"order\":\"little\"}],[302,{\"type\":\"ndarray\",\"array\":{\"type\":\"bytes\",\"data\":\"C7eLlrmVDkCT9Soso2oUwA==\"},\"shape\":[2],\"dtype\":\"float64\",\"order\":\"little\"}],[698,{\"type\":\"ndarray\",\"array\":{\"type\":\"bytes\",\"data\":\"/D+YpYt397+SAVOgmojgPw==\"},\"shape\":[2],\"dtype\":\"float64\",\"order\":\"little\"}],[102,{\"type\":\"ndarray\",\"array\":{\"type\":\"bytes\",\"data\":\"6eaHdXnFD0CQ4A4m5n0SQA==\"},\"shape\":[2],\"dtype\":\"float64\",\"order\":\"little\"}],[-311,{\"type\":\"ndarray\",\"array\":{\"type\":\"bytes\",\"data\":\"aRSWZCYGC0AaJZcO1TnlPw==\"},\"shape\":[2],\"dtype\":\"float64\",\"order\":\"little\"}],[918,{\"type\":\"ndarray\",\"array\":{\"type\":\"bytes\",\"data\":\"FlJuN1RsCEDr3kMfDurevw==\"},\"shape\":[2],\"dtype\":\"float64\",\"order\":\"little\"}],[-139,{\"type\":\"ndarray\",\"array\":{\"type\":\"bytes\",\"data\":\"z3M9pcljCUANIYqDAFujvw==\"},\"shape\":[2],\"dtype\":\"float64\",\"order\":\"little\"}],[-416,{\"type\":\"ndarray\",\"array\":{\"type\":\"bytes\",\"data\":\"NOs5Jhc8CEAs8BOxpqILQA==\"},\"shape\":[2],\"dtype\":\"float64\",\"order\":\"little\"}],[-406,{\"type\":\"ndarray\",\"array\":{\"type\":\"bytes\",\"data\":\"+E55eGtdB0CT1s1IRicAQA==\"},\"shape\":[2],\"dtype\":\"float64\",\"order\":\"little\"}],[719,{\"type\":\"ndarray\",\"array\":{\"type\":\"bytes\",\"data\":\"FWKX2oWgCcAGHDMXWZkAwA==\"},\"shape\":[2],\"dtype\":\"float64\",\"order\":\"little\"}],[-252,{\"type\":\"ndarray\",\"array\":{\"type\":\"bytes\",\"data\":\"hlZT/km2CsAgXLAIbeQIwA==\"},\"shape\":[2],\"dtype\":\"float64\",\"order\":\"little\"}],[158,{\"type\":\"ndarray\",\"array\":{\"type\":\"bytes\",\"data\":\"j5lfKeteAUAFXDl0FSUPQA==\"},\"shape\":[2],\"dtype\":\"float64\",\"order\":\"little\"}],[724,{\"type\":\"ndarray\",\"array\":{\"type\":\"bytes\",\"data\":\"lYYaU1QlrT8UPZ2ogTsiwA==\"},\"shape\":[2],\"dtype\":\"float64\",\"order\":\"little\"}],[-337,{\"type\":\"ndarray\",\"array\":{\"type\":\"bytes\",\"data\":\"XoEtWa/w+D+Jhq6McAISQA==\"},\"shape\":[2],\"dtype\":\"float64\",\"order\":\"little\"}],[166,{\"type\":\"ndarray\",\"array\":{\"type\":\"bytes\",\"data\":\"khT9r+FnDMAn7DQtwSz/Pw==\"},\"shape\":[2],\"dtype\":\"float64\",\"order\":\"little\"}]]}}},\"node_renderer\":{\"type\":\"object\",\"name\":\"GlyphRenderer\",\"id\":\"p1917\",\"attributes\":{\"data_source\":{\"type\":\"object\",\"name\":\"ColumnDataSource\",\"id\":\"p1914\",\"attributes\":{\"selected\":{\"type\":\"object\",\"name\":\"Selection\",\"id\":\"p1915\",\"attributes\":{\"indices\":[],\"line_indices\":[]}},\"selection_policy\":{\"type\":\"object\",\"name\":\"UnionRenderers\",\"id\":\"p1916\"},\"data\":{\"type\":\"map\",\"entries\":[[\"adjusted_node_size\",[10,9,20,9,29,23,41,27,8,17,6,12,24,7,11,19,13,25,9,17,23,31,11,9,18,10,11,14,9,11,6,9,9,7,10,7,9,12,9,10,10,13,23,13,8,7,15,12,30,9,31,19,10,11,12,9,10,12,10,6,9,9,9,19,6,11,6,7,6,11,8,6,10,6,6,17,8,9,6,13,10,11,7,11,12,9,8,9,6,10,9,7,9,9,7,6,7,8,8,7,8,7,6,7,6,6,6]],[\"degree\",[5,4,15,4,24,18,36,22,3,12,1,7,19,2,6,14,8,20,4,12,18,26,6,4,13,5,6,9,4,6,1,4,4,2,5,2,4,7,4,5,5,8,18,8,3,2,10,7,25,4,26,14,5,6,7,4,5,7,5,1,4,4,4,14,1,6,1,2,1,6,3,1,5,1,1,12,3,4,1,8,5,6,2,6,7,4,3,4,1,5,4,2,4,4,2,1,2,3,3,2,3,2,1,2,1,1,1]],[\"index\",[-290,-706,119,-615,-329,333,-636,911,572,710,704,89,-39,-499,-101,525,-504,-29,-607,737,84,-451,-243,913,-782,853,370,-601,-292,612,-596,39,-523,149,758,753,660,-395,-122,652,-31,755,479,754,618,-126,-889,891,478,-331,197,310,771,114,309,-512,-867,36,499,-907,-814,-818,35,110,-134,542,801,-294,-400,-865,921,-106,489,143,-764,-351,218,-403,-584,-444,-95,-44,859,-239,-502,-723,592,-602,-194,-125,742,126,-75,302,698,102,-311,918,-139,-416,-406,719,-252,158,724,-337,166]]]}}},\"view\":{\"type\":\"object\",\"name\":\"CDSView\",\"id\":\"p1918\",\"attributes\":{\"filter\":{\"type\":\"object\",\"name\":\"AllIndices\",\"id\":\"p1919\"}}},\"glyph\":{\"type\":\"object\",\"name\":\"Circle\",\"id\":\"p1959\",\"attributes\":{\"size\":{\"type\":\"field\",\"field\":\"adjusted_node_size\"},\"fill_color\":{\"type\":\"field\",\"field\":\"adjusted_node_size\",\"transform\":{\"type\":\"object\",\"name\":\"LinearColorMapper\",\"id\":\"p1958\",\"attributes\":{\"palette\":[\"#084594\",\"#2171b5\",\"#4292c6\",\"#6baed6\",\"#9ecae1\",\"#c6dbef\",\"#deebf7\",\"#f7fbff\"],\"low\":6,\"high\":41}}}}}}},\"edge_renderer\":{\"type\":\"object\",\"name\":\"GlyphRenderer\",\"id\":\"p1925\",\"attributes\":{\"data_source\":{\"type\":\"object\",\"name\":\"ColumnDataSource\",\"id\":\"p1922\",\"attributes\":{\"selected\":{\"type\":\"object\",\"name\":\"Selection\",\"id\":\"p1923\",\"attributes\":{\"indices\":[],\"line_indices\":[]}},\"selection_policy\":{\"type\":\"object\",\"name\":\"UnionRenderers\",\"id\":\"p1924\"},\"data\":{\"type\":\"map\",\"entries\":[[\"Weight\",[5,31,30,4,4,8,25,43,11,11,52,7,5,6,34,12,36,6,10,5,13,18,6,5,8,11,19,36,6,6,4,88,5,4,6,15,16,11,11,7,17,5,8,31,15,10,13,10,4,16,5,10,5,6,6,5,4,5,4,6,5,9,11,5,5,46,54,5,4,12,77,4,31,5,5,5,4,22,5,5,11,6,9,7,5,25,12,28,11,6,4,21,6,18,39,4,4,12,5,4,16,7,13,14,5,6,4,5,5,15,4,4,6,4,5,9,15,4,69,11,8,7,10,9,7,8,12,5,24,4,6,6,11,23,9,6,5,43,7,6,7,8,5,46,18,18,15,22,4,4,21,8,15,96,46,12,4,54,14,35,11,4,15,23,10,4,5,8,7,4,17,4,5,4,4,6,7,23,10,4,6,4,4,6,4,16,7,5,5,9,7,7,12,5,4,8,7,28,5,5,14,10,9,10,35,8,7,6,4,9,8,4,7,6,31,20,9,16,8,12,54,14,4,8,8,15,7,4,4,4,5,4,4,10,6,4,6,4,7,9,5,8,14,18,10,26,13,20,11,5,35,41,5,33,4,11,7,6,5,19,4,8,4,4,10,12,19,9,26,6,6,16,9,10,8,5,43,6,8,4,5,16,9,32,6,18,5,10,29,9,28,5,28,13,4,7,15,4,6,5,36,9,4,7,4,6,8,32,20,15,7,5,4,4,8,5,4,6,17,4,5,14,7,18,7,6,17,4,8,47,10,26,7,12,8,14,5,7,4,16,30,5,7,5,5,5,7,7,6,7,9,4]],[\"start\",[-290,-290,-290,-290,-290,-706,-706,-706,119,119,119,119,119,119,119,119,119,119,119,119,119,-615,-615,-615,-615,-329,-329,-329,-329,-329,-329,-329,-329,-329,-329,-329,-329,-329,-329,-329,-329,-329,-329,-329,-329,-329,-329,-329,333,333,333,333,333,333,333,333,333,333,333,333,333,333,333,-636,-636,-636,-636,-636,-636,-636,-636,-636,-636,-636,-636,-636,-636,-636,-636,-636,-636,-636,-636,-636,-636,-636,-636,-636,-636,-636,-636,-636,-636,-636,-636,-636,911,911,911,911,911,911,911,911,911,911,911,911,911,911,911,911,911,911,572,572,572,710,710,710,710,710,710,710,710,710,710,704,89,89,89,89,-39,-39,-39,-39,-39,-39,-39,-39,-39,-39,-39,-39,-39,-39,-39,-39,-499,-101,-101,-101,-101,525,525,525,525,525,525,525,525,525,525,525,525,-504,-504,-504,-504,-504,-504,-29,-29,-29,-29,-29,-29,-29,-29,-29,-29,-29,-29,-29,-29,-29,-607,-607,737,737,737,737,737,737,84,84,84,84,84,84,84,84,84,84,84,-451,-451,-451,-451,-451,-451,-451,-451,-451,-451,-451,-451,-451,-451,-451,-451,-451,-451,-243,-243,-243,-243,913,913,913,-782,-782,-782,-782,-782,370,370,370,-601,-601,-601,-601,-601,-292,-292,-292,-292,612,612,612,39,39,39,-523,149,660,-395,-395,-395,-122,652,652,-31,-31,-31,-31,755,755,755,755,755,479,479,479,479,479,479,479,479,479,479,754,754,754,618,-126,-889,-889,-889,-889,-889,891,891,478,478,478,478,478,197,197,197,197,197,197,197,197,197,310,310,310,771,114,-512,-867,-867,36,36,499,499,-814,-814,-814,-814,-818,-818,-818,35,35,110,110,110,110,110,110,110,110,542,-865,489,489,489,489,-444,-95,-95,-44,-239,592,-125,-125,742,918]],[\"end\",[-706,119,-451,333,310,218,-451,119,525,-523,-451,758,-602,859,499,218,-403,-44,710,-125,310,-329,333,-636,911,-39,479,-29,-351,370,612,-395,754,771,737,84,-601,309,-584,-444,333,310,-95,-636,478,197,911,166,-39,-29,110,-351,-451,698,-865,612,-444,310,853,-782,197,-636,911,-39,479,-29,84,-889,-723,478,197,370,-122,158,-337,771,-416,737,114,-44,-239,-601,-406,-502,309,89,891,652,-512,-444,-782,-867,310,36,911,921,-889,478,370,-504,-29,737,84,-239,-406,89,891,652,-512,310,-95,-75,36,755,710,-44,-451,-44,-451,499,592,-403,-125,742,126,-75,302,89,737,84,-416,-406,-499,-101,525,-504,-29,-607,737,84,-451,-243,913,-782,853,-351,478,197,-101,-607,853,-351,-782,39,-523,-451,149,758,753,-243,660,479,-351,478,197,-31,755,479,754,719,478,479,-395,-122,771,737,114,84,309,-512,-782,-867,36,-351,-889,197,853,-782,-122,771,114,309,-782,84,114,-239,-601,-502,309,-723,-782,310,-95,478,197,-351,499,592,218,-403,-44,758,-602,-194,-125,742,310,126,660,-75,302,478,197,-351,660,478,197,479,478,-395,-351,114,309,853,197,-601,478,310,-395,-502,-311,-444,197,612,-596,110,542,110,542,-865,-523,758,478,758,753,478,479,478,197,652,-502,197,754,-331,478,755,479,754,478,891,-331,754,618,-126,-889,891,478,-331,197,310,-351,-331,618,478,-889,478,698,918,891,-139,197,478,197,-351,-252,719,197,310,-351,-239,-502,918,-723,-311,-444,-139,-867,489,-602,-444,-865,309,36,158,36,-239,-444,-907,-403,-818,35,110,542,110,35,542,110,-294,-134,542,801,-294,-400,-865,921,-106,-865,921,143,-764,-602,724,-502,-723,-502,859,102,-75,742,302,302,-139]]]}}},\"view\":{\"type\":\"object\",\"name\":\"CDSView\",\"id\":\"p1926\",\"attributes\":{\"filter\":{\"type\":\"object\",\"name\":\"AllIndices\",\"id\":\"p1927\"}}},\"glyph\":{\"type\":\"object\",\"name\":\"MultiLine\",\"id\":\"p1967\",\"attributes\":{\"line_alpha\":{\"type\":\"value\",\"value\":0.5}}}}},\"selection_policy\":{\"type\":\"object\",\"name\":\"NodesOnly\",\"id\":\"p1928\"},\"inspection_policy\":{\"type\":\"object\",\"name\":\"NodesOnly\",\"id\":\"p1920\"}}}],\"toolbar\":{\"type\":\"object\",\"name\":\"Toolbar\",\"id\":\"p1876\",\"attributes\":{\"tools\":[{\"type\":\"object\",\"name\":\"PanTool\",\"id\":\"p1901\"},{\"type\":\"object\",\"name\":\"WheelZoomTool\",\"id\":\"p1902\"},{\"type\":\"object\",\"name\":\"SaveTool\",\"id\":\"p1903\"},{\"type\":\"object\",\"name\":\"ResetTool\",\"id\":\"p1904\"},{\"type\":\"object\",\"name\":\"HoverTool\",\"id\":\"p1905\",\"attributes\":{\"renderers\":\"auto\",\"tooltips\":[[\"Character\",\"@index\"],[\"Degree\",\"@degree\"]]}}],\"active_scroll\":{\"id\":\"p1902\"}}},\"left\":[{\"type\":\"object\",\"name\":\"LinearAxis\",\"id\":\"p1894\",\"attributes\":{\"ticker\":{\"type\":\"object\",\"name\":\"BasicTicker\",\"id\":\"p1897\",\"attributes\":{\"mantissas\":[1,2,5]}},\"formatter\":{\"type\":\"object\",\"name\":\"BasicTickFormatter\",\"id\":\"p1895\"},\"major_label_policy\":{\"type\":\"object\",\"name\":\"AllLabels\",\"id\":\"p1896\"}}}],\"below\":[{\"type\":\"object\",\"name\":\"LinearAxis\",\"id\":\"p1887\",\"attributes\":{\"ticker\":{\"type\":\"object\",\"name\":\"BasicTicker\",\"id\":\"p1890\",\"attributes\":{\"mantissas\":[1,2,5]}},\"formatter\":{\"type\":\"object\",\"name\":\"BasicTickFormatter\",\"id\":\"p1888\"},\"major_label_policy\":{\"type\":\"object\",\"name\":\"AllLabels\",\"id\":\"p1889\"}}}],\"center\":[{\"type\":\"object\",\"name\":\"Grid\",\"id\":\"p1893\",\"attributes\":{\"axis\":{\"id\":\"p1887\"}}},{\"type\":\"object\",\"name\":\"Grid\",\"id\":\"p1900\",\"attributes\":{\"dimension\":1,\"axis\":{\"id\":\"p1894\"}}}]}}]}};\n  const render_items = [{\"docid\":\"262d2832-4fa0-4156-9a4d-44455d047bdb\",\"roots\":{\"p1871\":\"3f65b44c-2d41-4a7a-af61-99b0ef634ec8\"},\"root_ids\":[\"p1871\"]}];\n  root.Bokeh.embed.embed_items_notebook(docs_json, render_items);\n  }\n  if (root.Bokeh !== undefined) {\n    embed_document(root);\n  } else {\n    let attempts = 0;\n    const timer = setInterval(function(root) {\n      if (root.Bokeh !== undefined) {\n        clearInterval(timer);\n        embed_document(root);\n      } else {\n        attempts++;\n        if (attempts > 100) {\n          clearInterval(timer);\n          console.log(\"Bokeh: ERROR: Unable to run BokehJS code because BokehJS library is missing\");\n        }\n      }\n    }, 10, root)\n  }\n})(window);",
      "application/vnd.bokehjs_exec.v0+json": ""
     },
     "metadata": {
      "application/vnd.bokehjs_exec.v0+json": {
       "id": "p1871"
      }
     },
     "output_type": "display_data"
    }
   ],
   "source": [
    "#Choose attributes from G network to size and color by — setting manual size (e.g. 10) or color (e.g. 'skyblue') also allowed\n",
    "size_by_this_attribute = 'adjusted_node_size'\n",
    "color_by_this_attribute = 'adjusted_node_size'\n",
    "\n",
    "#Pick a color palette — Blues8, Reds8, Purples8, Oranges8, Viridis8\n",
    "color_palette = Blues8\n",
    "\n",
    "#Choose a title!\n",
    "title = 'Game of Thrones Network'\n",
    "\n",
    "#Establish which categories will appear when hovering over each node\n",
    "HOVER_TOOLTIPS = [\n",
    "       (\"Character\", \"@index\"),\n",
    "        (\"Degree\", \"@degree\")\n",
    "]\n",
    "\n",
    "#Create a plot — set dimensions, toolbar, and title\n",
    "plot = figure(tooltips = HOVER_TOOLTIPS,\n",
    "              tools=\"pan,wheel_zoom,save,reset\", active_scroll='wheel_zoom',\n",
    "            x_range=Range1d(-10.1, 10.1), y_range=Range1d(-10.1, 10.1), title=title)\n",
    "\n",
    "#Create a network graph object\n",
    "# https://networkx.github.io/documentation/networkx-1.9/reference/generated/networkx.drawing.layout.spring_layout.html\\\n",
    "network_graph = from_networkx(G, networkx.spring_layout, scale=10, center=(0, 0))\n",
    "\n",
    "#Set node sizes and colors according to node degree (color as spectrum of color palette)\n",
    "minimum_value_color = min(network_graph.node_renderer.data_source.data[color_by_this_attribute])\n",
    "maximum_value_color = max(network_graph.node_renderer.data_source.data[color_by_this_attribute])\n",
    "network_graph.node_renderer.glyph = Circle(size=size_by_this_attribute, fill_color=linear_cmap(color_by_this_attribute, color_palette, minimum_value_color, maximum_value_color))\n",
    "\n",
    "#Set edge opacity and width\n",
    "network_graph.edge_renderer.glyph = MultiLine(line_alpha=0.5, line_width=1)\n",
    "\n",
    "plot.renderers.append(network_graph)\n",
    "\n",
    "show(plot)\n",
    "#save(plot, filename=f\"{title}.html\")"
   ]
  },
  {
   "cell_type": "markdown",
   "metadata": {},
   "source": [
    "## Network with Nodes Colored By Attribute (Community)"
   ]
  },
  {
   "cell_type": "markdown",
   "metadata": {},
   "source": [
    "The code below shows how to size and color nodes by modularity class."
   ]
  },
  {
   "cell_type": "markdown",
   "metadata": {},
   "source": [
    "**Include community module**"
   ]
  },
  {
   "cell_type": "code",
   "execution_count": 39,
   "metadata": {},
   "outputs": [],
   "source": [
    "from bokeh.io import output_notebook, show, save\n",
    "from bokeh.models import Range1d, Circle, ColumnDataSource, MultiLine\n",
    "from bokeh.plotting import figure\n",
    "from bokeh.plotting import from_networkx\n",
    "from bokeh.palettes import Blues8, Reds8, Purples8, Oranges8, Viridis8, Spectral8\n",
    "from bokeh.transform import linear_cmap\n",
    "from networkx.algorithms import community"
   ]
  },
  {
   "cell_type": "markdown",
   "metadata": {},
   "source": [
    "**Calculate degree for each node and add as node attribute**"
   ]
  },
  {
   "cell_type": "code",
   "execution_count": 40,
   "metadata": {
    "tags": [
     "hide-input"
    ]
   },
   "outputs": [],
   "source": [
    "degrees = dict(networkx.degree(G))\n",
    "networkx.set_node_attributes(G, name='degree', values=degrees)"
   ]
  },
  {
   "cell_type": "markdown",
   "metadata": {},
   "source": [
    "**Slightly adjust degree so that the nodes with very small degrees are still visible**"
   ]
  },
  {
   "cell_type": "code",
   "execution_count": 41,
   "metadata": {
    "tags": [
     "hide-input"
    ]
   },
   "outputs": [],
   "source": [
    "number_to_adjust_by = 5\n",
    "adjusted_node_size = dict([(node, degree+number_to_adjust_by) for node, degree in networkx.degree(G)])\n",
    "networkx.set_node_attributes(G, name='adjusted_node_size', values=adjusted_node_size)"
   ]
  },
  {
   "cell_type": "markdown",
   "metadata": {},
   "source": [
    "**Calculate communities**"
   ]
  },
  {
   "cell_type": "code",
   "execution_count": 42,
   "metadata": {},
   "outputs": [],
   "source": [
    "communities = community.greedy_modularity_communities(G)"
   ]
  },
  {
   "cell_type": "markdown",
   "metadata": {},
   "source": [
    "**Add modularity class and color as attributes to network graph**"
   ]
  },
  {
   "cell_type": "code",
   "execution_count": 43,
   "metadata": {},
   "outputs": [],
   "source": [
    "# Create empty dictionaries\n",
    "modularity_class = {}\n",
    "modularity_color = {}\n",
    "#Loop through each community in the network\n",
    "for community_number, community in enumerate(communities):\n",
    "    #For each member of the community, add their community number and a distinct color\n",
    "    for name in community: \n",
    "        modularity_class[name] = community_number\n",
    "        modularity_color[name] = Spectral8[community_number]"
   ]
  },
  {
   "cell_type": "code",
   "execution_count": 44,
   "metadata": {},
   "outputs": [],
   "source": [
    "# Add modularity class and color as attributes from the network above\n",
    "networkx.set_node_attributes(G, modularity_class, 'modularity_class')\n",
    "networkx.set_node_attributes(G, modularity_color, 'modularity_color')"
   ]
  },
  {
   "cell_type": "code",
   "execution_count": 45,
   "metadata": {},
   "outputs": [
    {
     "data": {
      "text/html": [
       "\n",
       "  <div id=\"58eaae23-5ffc-453f-8276-12d17aae5233\" data-root-id=\"p2369\" style=\"display: contents;\"></div>\n"
      ]
     },
     "metadata": {},
     "output_type": "display_data"
    },
    {
     "data": {
      "application/javascript": "(function(root) {\n  function embed_document(root) {\n  const docs_json = {\"57bbe8b8-f466-452a-8c33-15af0b00f8fe\":{\"version\":\"3.0.2\",\"title\":\"Bokeh Application\",\"defs\":[],\"roots\":[{\"type\":\"object\",\"name\":\"Figure\",\"id\":\"p2369\",\"attributes\":{\"x_range\":{\"type\":\"object\",\"name\":\"Range1d\",\"id\":\"p2367\",\"attributes\":{\"start\":-10.1,\"end\":10.1}},\"y_range\":{\"type\":\"object\",\"name\":\"Range1d\",\"id\":\"p2368\",\"attributes\":{\"start\":-10.1,\"end\":10.1}},\"x_scale\":{\"type\":\"object\",\"name\":\"LinearScale\",\"id\":\"p2381\"},\"y_scale\":{\"type\":\"object\",\"name\":\"LinearScale\",\"id\":\"p2383\"},\"title\":{\"type\":\"object\",\"name\":\"Title\",\"id\":\"p2372\",\"attributes\":{\"text\":\"Game of Thrones Network\"}},\"renderers\":[{\"type\":\"object\",\"name\":\"GraphRenderer\",\"id\":\"p2412\",\"attributes\":{\"layout_provider\":{\"type\":\"object\",\"name\":\"StaticLayoutProvider\",\"id\":\"p2443\",\"attributes\":{\"graph_layout\":{\"type\":\"map\",\"entries\":[[-290,{\"type\":\"ndarray\",\"array\":{\"type\":\"bytes\",\"data\":\"lzLb36UC+r954ALe0wP/Pw==\"},\"shape\":[2],\"dtype\":\"float64\",\"order\":\"little\"}],[-706,{\"type\":\"ndarray\",\"array\":{\"type\":\"bytes\",\"data\":\"EEmwRhfsC8BWFVXDt38KQA==\"},\"shape\":[2],\"dtype\":\"float64\",\"order\":\"little\"}],[119,{\"type\":\"ndarray\",\"array\":{\"type\":\"bytes\",\"data\":\"bIwJ79eSCMCMUvfZBfUEQA==\"},\"shape\":[2],\"dtype\":\"float64\",\"order\":\"little\"}],[-615,{\"type\":\"ndarray\",\"array\":{\"type\":\"bytes\",\"data\":\"kZae9W9JAEBwCPlw/Hfdvw==\"},\"shape\":[2],\"dtype\":\"float64\",\"order\":\"little\"}],[-329,{\"type\":\"ndarray\",\"array\":{\"type\":\"bytes\",\"data\":\"zAFUUIdG4j/YRbHzWDr5vw==\"},\"shape\":[2],\"dtype\":\"float64\",\"order\":\"little\"}],[333,{\"type\":\"ndarray\",\"array\":{\"type\":\"bytes\",\"data\":\"Ktz3+cAd8z/8fCFOJvbgPw==\"},\"shape\":[2],\"dtype\":\"float64\",\"order\":\"little\"}],[-636,{\"type\":\"ndarray\",\"array\":{\"type\":\"bytes\",\"data\":\"XqXNGGdq8D8ykZaLFrj0vw==\"},\"shape\":[2],\"dtype\":\"float64\",\"order\":\"little\"}],[911,{\"type\":\"ndarray\",\"array\":{\"type\":\"bytes\",\"data\":\"TpWOKTWV0D+sjqSLhY/1vw==\"},\"shape\":[2],\"dtype\":\"float64\",\"order\":\"little\"}],[572,{\"type\":\"ndarray\",\"array\":{\"type\":\"bytes\",\"data\":\"RG+4PVhp9r/JyQtZpTQSQA==\"},\"shape\":[2],\"dtype\":\"float64\",\"order\":\"little\"}],[710,{\"type\":\"ndarray\",\"array\":{\"type\":\"bytes\",\"data\":\"AAp5vQ5oAcDABnzKRaUQQA==\"},\"shape\":[2],\"dtype\":\"float64\",\"order\":\"little\"}],[704,{\"type\":\"ndarray\",\"array\":{\"type\":\"bytes\",\"data\":\"67AsNMQxFUAnpnsCD00QwA==\"},\"shape\":[2],\"dtype\":\"float64\",\"order\":\"little\"}],[89,{\"type\":\"ndarray\",\"array\":{\"type\":\"bytes\",\"data\":\"8FmI44Y7BkCAmqVDVo0CwA==\"},\"shape\":[2],\"dtype\":\"float64\",\"order\":\"little\"}],[-39,{\"type\":\"ndarray\",\"array\":{\"type\":\"bytes\",\"data\":\"EXLsspQA8L9LUckVvszFvw==\"},\"shape\":[2],\"dtype\":\"float64\",\"order\":\"little\"}],[-499,{\"type\":\"ndarray\",\"array\":{\"type\":\"bytes\",\"data\":\"Cari6wy0CsA3xoWFqQTqPw==\"},\"shape\":[2],\"dtype\":\"float64\",\"order\":\"little\"}],[-101,{\"type\":\"ndarray\",\"array\":{\"type\":\"bytes\",\"data\":\"E2auzC0K979znwS8P7LwPw==\"},\"shape\":[2],\"dtype\":\"float64\",\"order\":\"little\"}],[525,{\"type\":\"ndarray\",\"array\":{\"type\":\"bytes\",\"data\":\"h1LOKWfHCsDKiDZGrbfXPw==\"},\"shape\":[2],\"dtype\":\"float64\",\"order\":\"little\"}],[-504,{\"type\":\"ndarray\",\"array\":{\"type\":\"bytes\",\"data\":\"5elPwHuKA8AHkDoJNtQAwA==\"},\"shape\":[2],\"dtype\":\"float64\",\"order\":\"little\"}],[-29,{\"type\":\"ndarray\",\"array\":{\"type\":\"bytes\",\"data\":\"B5L++rxI4D+yqUDmyQ3wvw==\"},\"shape\":[2],\"dtype\":\"float64\",\"order\":\"little\"}],[-607,{\"type\":\"ndarray\",\"array\":{\"type\":\"bytes\",\"data\":\"e0A2SD8s4794D4ItNET3Pw==\"},\"shape\":[2],\"dtype\":\"float64\",\"order\":\"little\"}],[737,{\"type\":\"ndarray\",\"array\":{\"type\":\"bytes\",\"data\":\"2/i3PHdI9D+3T/cm1mDsvw==\"},\"shape\":[2],\"dtype\":\"float64\",\"order\":\"little\"}],[84,{\"type\":\"ndarray\",\"array\":{\"type\":\"bytes\",\"data\":\"q7zaFqpK1j+vD8Ikxiz6vw==\"},\"shape\":[2],\"dtype\":\"float64\",\"order\":\"little\"}],[-451,{\"type\":\"ndarray\",\"array\":{\"type\":\"bytes\",\"data\":\"UYFYcEPCAcClre48Z00DQA==\"},\"shape\":[2],\"dtype\":\"float64\",\"order\":\"little\"}],[-243,{\"type\":\"ndarray\",\"array\":{\"type\":\"bytes\",\"data\":\"hUgdWv8qA8BxIDXipRPLvw==\"},\"shape\":[2],\"dtype\":\"float64\",\"order\":\"little\"}],[913,{\"type\":\"ndarray\",\"array\":{\"type\":\"bytes\",\"data\":\"OPtZdulmBsBJCuP0fOH3vw==\"},\"shape\":[2],\"dtype\":\"float64\",\"order\":\"little\"}],[-782,{\"type\":\"ndarray\",\"array\":{\"type\":\"bytes\",\"data\":\"smpu1eKGvz8ymlxQxPSwPw==\"},\"shape\":[2],\"dtype\":\"float64\",\"order\":\"little\"}],[853,{\"type\":\"ndarray\",\"array\":{\"type\":\"bytes\",\"data\":\"pP3Dd59Dsj+t8DlSnVf2Pw==\"},\"shape\":[2],\"dtype\":\"float64\",\"order\":\"little\"}],[370,{\"type\":\"ndarray\",\"array\":{\"type\":\"bytes\",\"data\":\"iOUrZvrp6L9W6w6zzFf2vw==\"},\"shape\":[2],\"dtype\":\"float64\",\"order\":\"little\"}],[-601,{\"type\":\"ndarray\",\"array\":{\"type\":\"bytes\",\"data\":\"Y8/jLL64W7+xd70g7SwFwA==\"},\"shape\":[2],\"dtype\":\"float64\",\"order\":\"little\"}],[-292,{\"type\":\"ndarray\",\"array\":{\"type\":\"bytes\",\"data\":\"COqxgxF8HUCBhmJHz4P/Pw==\"},\"shape\":[2],\"dtype\":\"float64\",\"order\":\"little\"}],[612,{\"type\":\"ndarray\",\"array\":{\"type\":\"bytes\",\"data\":\"X+lwrjssEUBoKqe0GSTxPw==\"},\"shape\":[2],\"dtype\":\"float64\",\"order\":\"little\"}],[-596,{\"type\":\"ndarray\",\"array\":{\"type\":\"bytes\",\"data\":\"AAAAAAAAJECv5S5yxUgAQA==\"},\"shape\":[2],\"dtype\":\"float64\",\"order\":\"little\"}],[39,{\"type\":\"ndarray\",\"array\":{\"type\":\"bytes\",\"data\":\"tR3csTKjEsCIZ/5xmKXiPw==\"},\"shape\":[2],\"dtype\":\"float64\",\"order\":\"little\"}],[-523,{\"type\":\"ndarray\",\"array\":{\"type\":\"bytes\",\"data\":\"HKZvZUFOFMD3bufCfVv+Pw==\"},\"shape\":[2],\"dtype\":\"float64\",\"order\":\"little\"}],[149,{\"type\":\"ndarray\",\"array\":{\"type\":\"bytes\",\"data\":\"Oj4+W+PJGcBdc1w924LbPw==\"},\"shape\":[2],\"dtype\":\"float64\",\"order\":\"little\"}],[758,{\"type\":\"ndarray\",\"array\":{\"type\":\"bytes\",\"data\":\"48NMTPprEcBzW+FfZJIAQA==\"},\"shape\":[2],\"dtype\":\"float64\",\"order\":\"little\"}],[753,{\"type\":\"ndarray\",\"array\":{\"type\":\"bytes\",\"data\":\"xq3ea8SFGcBZ2ganlgHxPw==\"},\"shape\":[2],\"dtype\":\"float64\",\"order\":\"little\"}],[660,{\"type\":\"ndarray\",\"array\":{\"type\":\"bytes\",\"data\":\"WfIyGFWeCMDdIzY9W0/wPw==\"},\"shape\":[2],\"dtype\":\"float64\",\"order\":\"little\"}],[-395,{\"type\":\"ndarray\",\"array\":{\"type\":\"bytes\",\"data\":\"8As3zWyJ8r9DOYPgyLv/vw==\"},\"shape\":[2],\"dtype\":\"float64\",\"order\":\"little\"}],[-122,{\"type\":\"ndarray\",\"array\":{\"type\":\"bytes\",\"data\":\"OFepAibq+D+LjvK57MUEwA==\"},\"shape\":[2],\"dtype\":\"float64\",\"order\":\"little\"}],[652,{\"type\":\"ndarray\",\"array\":{\"type\":\"bytes\",\"data\":\"IPiDjurN4z/kE0HBCiMIwA==\"},\"shape\":[2],\"dtype\":\"float64\",\"order\":\"little\"}],[-31,{\"type\":\"ndarray\",\"array\":{\"type\":\"bytes\",\"data\":\"B3EowGigCsBqhWYFEM0JwA==\"},\"shape\":[2],\"dtype\":\"float64\",\"order\":\"little\"}],[755,{\"type\":\"ndarray\",\"array\":{\"type\":\"bytes\",\"data\":\"V+OV2g+uAcDAwu6TXiQGwA==\"},\"shape\":[2],\"dtype\":\"float64\",\"order\":\"little\"}],[479,{\"type\":\"ndarray\",\"array\":{\"type\":\"bytes\",\"data\":\"iTC1bPzd+r8RLOehbHz/vw==\"},\"shape\":[2],\"dtype\":\"float64\",\"order\":\"little\"}],[754,{\"type\":\"ndarray\",\"array\":{\"type\":\"bytes\",\"data\":\"jmupXfmvAMAUh0N3SVMJwA==\"},\"shape\":[2],\"dtype\":\"float64\",\"order\":\"little\"}],[618,{\"type\":\"ndarray\",\"array\":{\"type\":\"bytes\",\"data\":\"XtMvYeOMAMCG9k4lMmURwA==\"},\"shape\":[2],\"dtype\":\"float64\",\"order\":\"little\"}],[-126,{\"type\":\"ndarray\",\"array\":{\"type\":\"bytes\",\"data\":\"9lbMByf2DcBtti33wXgEwA==\"},\"shape\":[2],\"dtype\":\"float64\",\"order\":\"little\"}],[-889,{\"type\":\"ndarray\",\"array\":{\"type\":\"bytes\",\"data\":\"lOOrjwZd1r+wwsNyQFwIwA==\"},\"shape\":[2],\"dtype\":\"float64\",\"order\":\"little\"}],[891,{\"type\":\"ndarray\",\"array\":{\"type\":\"bytes\",\"data\":\"V3HZox207r/Mo9mAg7QDwA==\"},\"shape\":[2],\"dtype\":\"float64\",\"order\":\"little\"}],[478,{\"type\":\"ndarray\",\"array\":{\"type\":\"bytes\",\"data\":\"Bx3vmon6AMAqZFjvd1Lyvw==\"},\"shape\":[2],\"dtype\":\"float64\",\"order\":\"little\"}],[-331,{\"type\":\"ndarray\",\"array\":{\"type\":\"bytes\",\"data\":\"O8FS19gYCcA2BiuTzRwQwA==\"},\"shape\":[2],\"dtype\":\"float64\",\"order\":\"little\"}],[197,{\"type\":\"ndarray\",\"array\":{\"type\":\"bytes\",\"data\":\"Qvf72eOZ3r+3dAeH16b5vw==\"},\"shape\":[2],\"dtype\":\"float64\",\"order\":\"little\"}],[310,{\"type\":\"ndarray\",\"array\":{\"type\":\"bytes\",\"data\":\"v1vmM+mM+b8XtCgMFcHbvw==\"},\"shape\":[2],\"dtype\":\"float64\",\"order\":\"little\"}],[771,{\"type\":\"ndarray\",\"array\":{\"type\":\"bytes\",\"data\":\"G5YEGyolA0D1sWMUcYeVPw==\"},\"shape\":[2],\"dtype\":\"float64\",\"order\":\"little\"}],[114,{\"type\":\"ndarray\",\"array\":{\"type\":\"bytes\",\"data\":\"ExlrVSfw8j/qjFImLBFbvw==\"},\"shape\":[2],\"dtype\":\"float64\",\"order\":\"little\"}],[309,{\"type\":\"ndarray\",\"array\":{\"type\":\"bytes\",\"data\":\"UYvxFwBK9T8VG1wutXHavw==\"},\"shape\":[2],\"dtype\":\"float64\",\"order\":\"little\"}],[-512,{\"type\":\"ndarray\",\"array\":{\"type\":\"bytes\",\"data\":\"k246tkluAEA4TaWlmu75vw==\"},\"shape\":[2],\"dtype\":\"float64\",\"order\":\"little\"}],[-867,{\"type\":\"ndarray\",\"array\":{\"type\":\"bytes\",\"data\":\"ghppydxa/T+YnO+mC6oAwA==\"},\"shape\":[2],\"dtype\":\"float64\",\"order\":\"little\"}],[36,{\"type\":\"ndarray\",\"array\":{\"type\":\"bytes\",\"data\":\"4Uf7qyipAEBavtb0xVfzvw==\"},\"shape\":[2],\"dtype\":\"float64\",\"order\":\"little\"}],[499,{\"type\":\"ndarray\",\"array\":{\"type\":\"bytes\",\"data\":\"/LPHlxf/AcAKkyaDPD8VQA==\"},\"shape\":[2],\"dtype\":\"float64\",\"order\":\"little\"}],[-907,{\"type\":\"ndarray\",\"array\":{\"type\":\"bytes\",\"data\":\"jOdtahpYAcBSCvELTlcgQA==\"},\"shape\":[2],\"dtype\":\"float64\",\"order\":\"little\"}],[-814,{\"type\":\"ndarray\",\"array\":{\"type\":\"bytes\",\"data\":\"fETvv8eGHUBVdCqJ2oIOQA==\"},\"shape\":[2],\"dtype\":\"float64\",\"order\":\"little\"}],[-818,{\"type\":\"ndarray\",\"array\":{\"type\":\"bytes\",\"data\":\"xXm0llAQH0Ce9aW35ygLQA==\"},\"shape\":[2],\"dtype\":\"float64\",\"order\":\"little\"}],[35,{\"type\":\"ndarray\",\"array\":{\"type\":\"bytes\",\"data\":\"Ta1I4vNtH0BzX07dXZoRQA==\"},\"shape\":[2],\"dtype\":\"float64\",\"order\":\"little\"}],[110,{\"type\":\"ndarray\",\"array\":{\"type\":\"bytes\",\"data\":\"unbCVyL4F0BRV+13VgwJQA==\"},\"shape\":[2],\"dtype\":\"float64\",\"order\":\"little\"}],[-134,{\"type\":\"ndarray\",\"array\":{\"type\":\"bytes\",\"data\":\"unUK3G2lG0DS607fXYUWQA==\"},\"shape\":[2],\"dtype\":\"float64\",\"order\":\"little\"}],[542,{\"type\":\"ndarray\",\"array\":{\"type\":\"bytes\",\"data\":\"WsZcXM1rGUA5nr9LPt4DQA==\"},\"shape\":[2],\"dtype\":\"float64\",\"order\":\"little\"}],[801,{\"type\":\"ndarray\",\"array\":{\"type\":\"bytes\",\"data\":\"5Ok7GHATIEBqR4n9MxkVQA==\"},\"shape\":[2],\"dtype\":\"float64\",\"order\":\"little\"}],[-294,{\"type\":\"ndarray\",\"array\":{\"type\":\"bytes\",\"data\":\"DVmWE//IHUCVnyw6PGYUQA==\"},\"shape\":[2],\"dtype\":\"float64\",\"order\":\"little\"}],[-400,{\"type\":\"ndarray\",\"array\":{\"type\":\"bytes\",\"data\":\"1wvvS1sxIUCB5Ocqe9MRQA==\"},\"shape\":[2],\"dtype\":\"float64\",\"order\":\"little\"}],[-865,{\"type\":\"ndarray\",\"array\":{\"type\":\"bytes\",\"data\":\"X4cY2LPAEEAErKAJAxn9Pw==\"},\"shape\":[2],\"dtype\":\"float64\",\"order\":\"little\"}],[921,{\"type\":\"ndarray\",\"array\":{\"type\":\"bytes\",\"data\":\"eS598pXzDkDKyxWPiAvzPw==\"},\"shape\":[2],\"dtype\":\"float64\",\"order\":\"little\"}],[-106,{\"type\":\"ndarray\",\"array\":{\"type\":\"bytes\",\"data\":\"+CSfPSCDIUD+BxOaEMoMQA==\"},\"shape\":[2],\"dtype\":\"float64\",\"order\":\"little\"}],[489,{\"type\":\"ndarray\",\"array\":{\"type\":\"bytes\",\"data\":\"ShqGrhdFFcDs2L2+8BcJwA==\"},\"shape\":[2],\"dtype\":\"float64\",\"order\":\"little\"}],[143,{\"type\":\"ndarray\",\"array\":{\"type\":\"bytes\",\"data\":\"oLKXlLAqHsDOIcyGZBYTwA==\"},\"shape\":[2],\"dtype\":\"float64\",\"order\":\"little\"}],[-764,{\"type\":\"ndarray\",\"array\":{\"type\":\"bytes\",\"data\":\"YQGmDqEnHMABw58Pr4EVwA==\"},\"shape\":[2],\"dtype\":\"float64\",\"order\":\"little\"}],[-351,{\"type\":\"ndarray\",\"array\":{\"type\":\"bytes\",\"data\":\"x63O3hcC8r+dvHGUqHqSPw==\"},\"shape\":[2],\"dtype\":\"float64\",\"order\":\"little\"}],[218,{\"type\":\"ndarray\",\"array\":{\"type\":\"bytes\",\"data\":\"igdIKh93EcDGuJuSuNgNQA==\"},\"shape\":[2],\"dtype\":\"float64\",\"order\":\"little\"}],[-403,{\"type\":\"ndarray\",\"array\":{\"type\":\"bytes\",\"data\":\"5FykqIGLBsAPle9yDjESQA==\"},\"shape\":[2],\"dtype\":\"float64\",\"order\":\"little\"}],[-584,{\"type\":\"ndarray\",\"array\":{\"type\":\"bytes\",\"data\":\"rITZ7EqN9j/m6a9xWowTwA==\"},\"shape\":[2],\"dtype\":\"float64\",\"order\":\"little\"}],[-444,{\"type\":\"ndarray\",\"array\":{\"type\":\"bytes\",\"data\":\"Ek8jpOLW5z/D7ki7ZfP2vw==\"},\"shape\":[2],\"dtype\":\"float64\",\"order\":\"little\"}],[-95,{\"type\":\"ndarray\",\"array\":{\"type\":\"bytes\",\"data\":\"asYu45YX8j++XIKP/ZAKwA==\"},\"shape\":[2],\"dtype\":\"float64\",\"order\":\"little\"}],[-44,{\"type\":\"ndarray\",\"array\":{\"type\":\"bytes\",\"data\":\"niKVDR+o8r+gJAXuHNYEQA==\"},\"shape\":[2],\"dtype\":\"float64\",\"order\":\"little\"}],[859,{\"type\":\"ndarray\",\"array\":{\"type\":\"bytes\",\"data\":\"y4r+P7ndBcAN7H4rJjYQQA==\"},\"shape\":[2],\"dtype\":\"float64\",\"order\":\"little\"}],[-239,{\"type\":\"ndarray\",\"array\":{\"type\":\"bytes\",\"data\":\"+cTqOa45A0DV1st67ob+vw==\"},\"shape\":[2],\"dtype\":\"float64\",\"order\":\"little\"}],[-502,{\"type\":\"ndarray\",\"array\":{\"type\":\"bytes\",\"data\":\"hXHqaCG66j+LFbWXioQFwA==\"},\"shape\":[2],\"dtype\":\"float64\",\"order\":\"little\"}],[-723,{\"type\":\"ndarray\",\"array\":{\"type\":\"bytes\",\"data\":\"yoDf2f4n4D+KfrUB6pgLwA==\"},\"shape\":[2],\"dtype\":\"float64\",\"order\":\"little\"}],[592,{\"type\":\"ndarray\",\"array\":{\"type\":\"bytes\",\"data\":\"7a4KW5gs7r835moBhvAQQA==\"},\"shape\":[2],\"dtype\":\"float64\",\"order\":\"little\"}],[-602,{\"type\":\"ndarray\",\"array\":{\"type\":\"bytes\",\"data\":\"sPtSQC7QD8CNYPC+Syu9Pw==\"},\"shape\":[2],\"dtype\":\"float64\",\"order\":\"little\"}],[-194,{\"type\":\"ndarray\",\"array\":{\"type\":\"bytes\",\"data\":\"JP1Wt5iMBMAbCtkSnnQXQA==\"},\"shape\":[2],\"dtype\":\"float64\",\"order\":\"little\"}],[-125,{\"type\":\"ndarray\",\"array\":{\"type\":\"bytes\",\"data\":\"BHGYPebHDMA0Uyx+hQURQA==\"},\"shape\":[2],\"dtype\":\"float64\",\"order\":\"little\"}],[742,{\"type\":\"ndarray\",\"array\":{\"type\":\"bytes\",\"data\":\"Eu65MHL6CsA0Q//JTE0UQA==\"},\"shape\":[2],\"dtype\":\"float64\",\"order\":\"little\"}],[126,{\"type\":\"ndarray\",\"array\":{\"type\":\"bytes\",\"data\":\"y3djdgMWBsDxCZ+r2y4VQA==\"},\"shape\":[2],\"dtype\":\"float64\",\"order\":\"little\"}],[-75,{\"type\":\"ndarray\",\"array\":{\"type\":\"bytes\",\"data\":\"SQlE6L4Y5L965sdrwEUDQA==\"},\"shape\":[2],\"dtype\":\"float64\",\"order\":\"little\"}],[302,{\"type\":\"ndarray\",\"array\":{\"type\":\"bytes\",\"data\":\"gwgjEgtSDsB+b6Wy5GATQA==\"},\"shape\":[2],\"dtype\":\"float64\",\"order\":\"little\"}],[698,{\"type\":\"ndarray\",\"array\":{\"type\":\"bytes\",\"data\":\"sMKMUYnd/z/ueGPAJ58DwA==\"},\"shape\":[2],\"dtype\":\"float64\",\"order\":\"little\"}],[102,{\"type\":\"ndarray\",\"array\":{\"type\":\"bytes\",\"data\":\"7LYskMthFUCk5eXlQ4UGwA==\"},\"shape\":[2],\"dtype\":\"float64\",\"order\":\"little\"}],[-311,{\"type\":\"ndarray\",\"array\":{\"type\":\"bytes\",\"data\":\"uHdti2ipt7+mD+tUpP8RwA==\"},\"shape\":[2],\"dtype\":\"float64\",\"order\":\"little\"}],[918,{\"type\":\"ndarray\",\"array\":{\"type\":\"bytes\",\"data\":\"7odxr5Xl5r/QuBSTdoMSwA==\"},\"shape\":[2],\"dtype\":\"float64\",\"order\":\"little\"}],[-139,{\"type\":\"ndarray\",\"array\":{\"type\":\"bytes\",\"data\":\"nN2eus+68r8ou6CMqssRwA==\"},\"shape\":[2],\"dtype\":\"float64\",\"order\":\"little\"}],[-416,{\"type\":\"ndarray\",\"array\":{\"type\":\"bytes\",\"data\":\"TsyvjtCfD0BwgM9Gqbb9vw==\"},\"shape\":[2],\"dtype\":\"float64\",\"order\":\"little\"}],[-406,{\"type\":\"ndarray\",\"array\":{\"type\":\"bytes\",\"data\":\"4oDwg/rcAkDe0VB19ewHwA==\"},\"shape\":[2],\"dtype\":\"float64\",\"order\":\"little\"}],[719,{\"type\":\"ndarray\",\"array\":{\"type\":\"bytes\",\"data\":\"CS/755lbEcAWFGZ75jECwA==\"},\"shape\":[2],\"dtype\":\"float64\",\"order\":\"little\"}],[-252,{\"type\":\"ndarray\",\"array\":{\"type\":\"bytes\",\"data\":\"y4Tuj5TiFMCMd1Ucjhf8vw==\"},\"shape\":[2],\"dtype\":\"float64\",\"order\":\"little\"}],[158,{\"type\":\"ndarray\",\"array\":{\"type\":\"bytes\",\"data\":\"j1FVwqsgDEC/CV04h0oFwA==\"},\"shape\":[2],\"dtype\":\"float64\",\"order\":\"little\"}],[724,{\"type\":\"ndarray\",\"array\":{\"type\":\"bytes\",\"data\":\"CbT7GKi1GcBmorNEUg4XwA==\"},\"shape\":[2],\"dtype\":\"float64\",\"order\":\"little\"}],[-337,{\"type\":\"ndarray\",\"array\":{\"type\":\"bytes\",\"data\":\"ZtUxEhiBC0AyVByAZjcNwA==\"},\"shape\":[2],\"dtype\":\"float64\",\"order\":\"little\"}],[166,{\"type\":\"ndarray\",\"array\":{\"type\":\"bytes\",\"data\":\"k9qXytFxAUC1qZJYHVISwA==\"},\"shape\":[2],\"dtype\":\"float64\",\"order\":\"little\"}]]}}},\"node_renderer\":{\"type\":\"object\",\"name\":\"GlyphRenderer\",\"id\":\"p2417\",\"attributes\":{\"data_source\":{\"type\":\"object\",\"name\":\"ColumnDataSource\",\"id\":\"p2414\",\"attributes\":{\"selected\":{\"type\":\"object\",\"name\":\"Selection\",\"id\":\"p2415\",\"attributes\":{\"indices\":[],\"line_indices\":[]}},\"selection_policy\":{\"type\":\"object\",\"name\":\"UnionRenderers\",\"id\":\"p2416\"},\"data\":{\"type\":\"map\",\"entries\":[[\"adjusted_node_size\",[10,9,20,9,29,23,41,27,8,17,6,12,24,7,11,19,13,25,9,17,23,31,11,9,18,10,11,14,9,11,6,9,9,7,10,7,9,12,9,10,10,13,23,13,8,7,15,12,30,9,31,19,10,11,12,9,10,12,10,6,9,9,9,19,6,11,6,7,6,11,8,6,10,6,6,17,8,9,6,13,10,11,7,11,12,9,8,9,6,10,9,7,9,9,7,6,7,8,8,7,8,7,6,7,6,6,6]],[\"degree\",[5,4,15,4,24,18,36,22,3,12,1,7,19,2,6,14,8,20,4,12,18,26,6,4,13,5,6,9,4,6,1,4,4,2,5,2,4,7,4,5,5,8,18,8,3,2,10,7,25,4,26,14,5,6,7,4,5,7,5,1,4,4,4,14,1,6,1,2,1,6,3,1,5,1,1,12,3,4,1,8,5,6,2,6,7,4,3,4,1,5,4,2,4,4,2,1,2,3,3,2,3,2,1,2,1,1,1]],[\"modularity_color\",[\"#abdda4\",\"#abdda4\",\"#abdda4\",\"#3288bd\",\"#3288bd\",\"#e6f598\",\"#3288bd\",\"#3288bd\",\"#abdda4\",\"#abdda4\",\"#3288bd\",\"#3288bd\",\"#66c2a5\",\"#fee08b\",\"#fee08b\",\"#66c2a5\",\"#66c2a5\",\"#66c2a5\",\"#fee08b\",\"#3288bd\",\"#3288bd\",\"#abdda4\",\"#66c2a5\",\"#66c2a5\",\"#3288bd\",\"#fee08b\",\"#3288bd\",\"#3288bd\",\"#e6f598\",\"#e6f598\",\"#e6f598\",\"#abdda4\",\"#abdda4\",\"#66c2a5\",\"#abdda4\",\"#66c2a5\",\"#66c2a5\",\"#66c2a5\",\"#3288bd\",\"#3288bd\",\"#66c2a5\",\"#66c2a5\",\"#66c2a5\",\"#66c2a5\",\"#66c2a5\",\"#66c2a5\",\"#66c2a5\",\"#66c2a5\",\"#66c2a5\",\"#66c2a5\",\"#66c2a5\",\"#3288bd\",\"#3288bd\",\"#3288bd\",\"#3288bd\",\"#3288bd\",\"#3288bd\",\"#3288bd\",\"#abdda4\",\"#abdda4\",\"#e6f598\",\"#e6f598\",\"#e6f598\",\"#e6f598\",\"#e6f598\",\"#e6f598\",\"#e6f598\",\"#e6f598\",\"#e6f598\",\"#e6f598\",\"#e6f598\",\"#e6f598\",\"#fdae61\",\"#fdae61\",\"#fdae61\",\"#66c2a5\",\"#abdda4\",\"#abdda4\",\"#3288bd\",\"#3288bd\",\"#3288bd\",\"#abdda4\",\"#abdda4\",\"#3288bd\",\"#3288bd\",\"#3288bd\",\"#abdda4\",\"#abdda4\",\"#abdda4\",\"#abdda4\",\"#abdda4\",\"#abdda4\",\"#abdda4\",\"#abdda4\",\"#e6f598\",\"#3288bd\",\"#66c2a5\",\"#66c2a5\",\"#66c2a5\",\"#3288bd\",\"#3288bd\",\"#66c2a5\",\"#66c2a5\",\"#3288bd\",\"#fdae61\",\"#3288bd\",\"#3288bd\"]],[\"modularity_class\",[2,2,2,0,0,3,0,0,2,2,0,0,1,4,4,1,1,1,4,0,0,2,1,1,0,4,0,0,3,3,3,2,2,1,2,1,1,1,0,0,1,1,1,1,1,1,1,1,1,1,1,0,0,0,0,0,0,0,2,2,3,3,3,3,3,3,3,3,3,3,3,3,5,5,5,1,2,2,0,0,0,2,2,0,0,0,2,2,2,2,2,2,2,2,3,0,1,1,1,0,0,1,1,0,5,0,0]],[\"index\",[-290,-706,119,-615,-329,333,-636,911,572,710,704,89,-39,-499,-101,525,-504,-29,-607,737,84,-451,-243,913,-782,853,370,-601,-292,612,-596,39,-523,149,758,753,660,-395,-122,652,-31,755,479,754,618,-126,-889,891,478,-331,197,310,771,114,309,-512,-867,36,499,-907,-814,-818,35,110,-134,542,801,-294,-400,-865,921,-106,489,143,-764,-351,218,-403,-584,-444,-95,-44,859,-239,-502,-723,592,-602,-194,-125,742,126,-75,302,698,102,-311,918,-139,-416,-406,719,-252,158,724,-337,166]]]}}},\"view\":{\"type\":\"object\",\"name\":\"CDSView\",\"id\":\"p2418\",\"attributes\":{\"filter\":{\"type\":\"object\",\"name\":\"AllIndices\",\"id\":\"p2419\"}}},\"glyph\":{\"type\":\"object\",\"name\":\"Circle\",\"id\":\"p2444\",\"attributes\":{\"size\":{\"type\":\"field\",\"field\":\"adjusted_node_size\"},\"fill_color\":{\"type\":\"field\",\"field\":\"modularity_color\"}}}}},\"edge_renderer\":{\"type\":\"object\",\"name\":\"GlyphRenderer\",\"id\":\"p2425\",\"attributes\":{\"data_source\":{\"type\":\"object\",\"name\":\"ColumnDataSource\",\"id\":\"p2422\",\"attributes\":{\"selected\":{\"type\":\"object\",\"name\":\"Selection\",\"id\":\"p2423\",\"attributes\":{\"indices\":[],\"line_indices\":[]}},\"selection_policy\":{\"type\":\"object\",\"name\":\"UnionRenderers\",\"id\":\"p2424\"},\"data\":{\"type\":\"map\",\"entries\":[[\"Weight\",[5,31,30,4,4,8,25,43,11,11,52,7,5,6,34,12,36,6,10,5,13,18,6,5,8,11,19,36,6,6,4,88,5,4,6,15,16,11,11,7,17,5,8,31,15,10,13,10,4,16,5,10,5,6,6,5,4,5,4,6,5,9,11,5,5,46,54,5,4,12,77,4,31,5,5,5,4,22,5,5,11,6,9,7,5,25,12,28,11,6,4,21,6,18,39,4,4,12,5,4,16,7,13,14,5,6,4,5,5,15,4,4,6,4,5,9,15,4,69,11,8,7,10,9,7,8,12,5,24,4,6,6,11,23,9,6,5,43,7,6,7,8,5,46,18,18,15,22,4,4,21,8,15,96,46,12,4,54,14,35,11,4,15,23,10,4,5,8,7,4,17,4,5,4,4,6,7,23,10,4,6,4,4,6,4,16,7,5,5,9,7,7,12,5,4,8,7,28,5,5,14,10,9,10,35,8,7,6,4,9,8,4,7,6,31,20,9,16,8,12,54,14,4,8,8,15,7,4,4,4,5,4,4,10,6,4,6,4,7,9,5,8,14,18,10,26,13,20,11,5,35,41,5,33,4,11,7,6,5,19,4,8,4,4,10,12,19,9,26,6,6,16,9,10,8,5,43,6,8,4,5,16,9,32,6,18,5,10,29,9,28,5,28,13,4,7,15,4,6,5,36,9,4,7,4,6,8,32,20,15,7,5,4,4,8,5,4,6,17,4,5,14,7,18,7,6,17,4,8,47,10,26,7,12,8,14,5,7,4,16,30,5,7,5,5,5,7,7,6,7,9,4]],[\"start\",[-290,-290,-290,-290,-290,-706,-706,-706,119,119,119,119,119,119,119,119,119,119,119,119,119,-615,-615,-615,-615,-329,-329,-329,-329,-329,-329,-329,-329,-329,-329,-329,-329,-329,-329,-329,-329,-329,-329,-329,-329,-329,-329,-329,333,333,333,333,333,333,333,333,333,333,333,333,333,333,333,-636,-636,-636,-636,-636,-636,-636,-636,-636,-636,-636,-636,-636,-636,-636,-636,-636,-636,-636,-636,-636,-636,-636,-636,-636,-636,-636,-636,-636,-636,-636,-636,-636,911,911,911,911,911,911,911,911,911,911,911,911,911,911,911,911,911,911,572,572,572,710,710,710,710,710,710,710,710,710,710,704,89,89,89,89,-39,-39,-39,-39,-39,-39,-39,-39,-39,-39,-39,-39,-39,-39,-39,-39,-499,-101,-101,-101,-101,525,525,525,525,525,525,525,525,525,525,525,525,-504,-504,-504,-504,-504,-504,-29,-29,-29,-29,-29,-29,-29,-29,-29,-29,-29,-29,-29,-29,-29,-607,-607,737,737,737,737,737,737,84,84,84,84,84,84,84,84,84,84,84,-451,-451,-451,-451,-451,-451,-451,-451,-451,-451,-451,-451,-451,-451,-451,-451,-451,-451,-243,-243,-243,-243,913,913,913,-782,-782,-782,-782,-782,370,370,370,-601,-601,-601,-601,-601,-292,-292,-292,-292,612,612,612,39,39,39,-523,149,660,-395,-395,-395,-122,652,652,-31,-31,-31,-31,755,755,755,755,755,479,479,479,479,479,479,479,479,479,479,754,754,754,618,-126,-889,-889,-889,-889,-889,891,891,478,478,478,478,478,197,197,197,197,197,197,197,197,197,310,310,310,771,114,-512,-867,-867,36,36,499,499,-814,-814,-814,-814,-818,-818,-818,35,35,110,110,110,110,110,110,110,110,542,-865,489,489,489,489,-444,-95,-95,-44,-239,592,-125,-125,742,918]],[\"end\",[-706,119,-451,333,310,218,-451,119,525,-523,-451,758,-602,859,499,218,-403,-44,710,-125,310,-329,333,-636,911,-39,479,-29,-351,370,612,-395,754,771,737,84,-601,309,-584,-444,333,310,-95,-636,478,197,911,166,-39,-29,110,-351,-451,698,-865,612,-444,310,853,-782,197,-636,911,-39,479,-29,84,-889,-723,478,197,370,-122,158,-337,771,-416,737,114,-44,-239,-601,-406,-502,309,89,891,652,-512,-444,-782,-867,310,36,911,921,-889,478,370,-504,-29,737,84,-239,-406,89,891,652,-512,310,-95,-75,36,755,710,-44,-451,-44,-451,499,592,-403,-125,742,126,-75,302,89,737,84,-416,-406,-499,-101,525,-504,-29,-607,737,84,-451,-243,913,-782,853,-351,478,197,-101,-607,853,-351,-782,39,-523,-451,149,758,753,-243,660,479,-351,478,197,-31,755,479,754,719,478,479,-395,-122,771,737,114,84,309,-512,-782,-867,36,-351,-889,197,853,-782,-122,771,114,309,-782,84,114,-239,-601,-502,309,-723,-782,310,-95,478,197,-351,499,592,218,-403,-44,758,-602,-194,-125,742,310,126,660,-75,302,478,197,-351,660,478,197,479,478,-395,-351,114,309,853,197,-601,478,310,-395,-502,-311,-444,197,612,-596,110,542,110,542,-865,-523,758,478,758,753,478,479,478,197,652,-502,197,754,-331,478,755,479,754,478,891,-331,754,618,-126,-889,891,478,-331,197,310,-351,-331,618,478,-889,478,698,918,891,-139,197,478,197,-351,-252,719,197,310,-351,-239,-502,918,-723,-311,-444,-139,-867,489,-602,-444,-865,309,36,158,36,-239,-444,-907,-403,-818,35,110,542,110,35,542,110,-294,-134,542,801,-294,-400,-865,921,-106,-865,921,143,-764,-602,724,-502,-723,-502,859,102,-75,742,302,302,-139]]]}}},\"view\":{\"type\":\"object\",\"name\":\"CDSView\",\"id\":\"p2426\",\"attributes\":{\"filter\":{\"type\":\"object\",\"name\":\"AllIndices\",\"id\":\"p2427\"}}},\"glyph\":{\"type\":\"object\",\"name\":\"MultiLine\",\"id\":\"p2452\",\"attributes\":{\"line_alpha\":{\"type\":\"value\",\"value\":0.5}}}}},\"selection_policy\":{\"type\":\"object\",\"name\":\"NodesOnly\",\"id\":\"p2428\"},\"inspection_policy\":{\"type\":\"object\",\"name\":\"NodesOnly\",\"id\":\"p2420\"}}}],\"toolbar\":{\"type\":\"object\",\"name\":\"Toolbar\",\"id\":\"p2374\",\"attributes\":{\"tools\":[{\"type\":\"object\",\"name\":\"PanTool\",\"id\":\"p2399\"},{\"type\":\"object\",\"name\":\"WheelZoomTool\",\"id\":\"p2400\"},{\"type\":\"object\",\"name\":\"SaveTool\",\"id\":\"p2401\"},{\"type\":\"object\",\"name\":\"ResetTool\",\"id\":\"p2402\"},{\"type\":\"object\",\"name\":\"TapTool\",\"id\":\"p2403\",\"attributes\":{\"renderers\":\"auto\"}},{\"type\":\"object\",\"name\":\"HoverTool\",\"id\":\"p2404\",\"attributes\":{\"renderers\":\"auto\",\"tooltips\":[[\"Character\",\"@index\"],[\"Degree\",\"@degree\"],[\"Modularity Class\",\"@modularity_class\"],[\"Modularity Color\",\"$color[swatch]:modularity_color\"]]}}],\"active_scroll\":{\"id\":\"p2400\"}}},\"left\":[{\"type\":\"object\",\"name\":\"LinearAxis\",\"id\":\"p2392\",\"attributes\":{\"ticker\":{\"type\":\"object\",\"name\":\"BasicTicker\",\"id\":\"p2395\",\"attributes\":{\"mantissas\":[1,2,5]}},\"formatter\":{\"type\":\"object\",\"name\":\"BasicTickFormatter\",\"id\":\"p2393\"},\"major_label_policy\":{\"type\":\"object\",\"name\":\"AllLabels\",\"id\":\"p2394\"}}}],\"below\":[{\"type\":\"object\",\"name\":\"LinearAxis\",\"id\":\"p2385\",\"attributes\":{\"ticker\":{\"type\":\"object\",\"name\":\"BasicTicker\",\"id\":\"p2388\",\"attributes\":{\"mantissas\":[1,2,5]}},\"formatter\":{\"type\":\"object\",\"name\":\"BasicTickFormatter\",\"id\":\"p2386\"},\"major_label_policy\":{\"type\":\"object\",\"name\":\"AllLabels\",\"id\":\"p2387\"}}}],\"center\":[{\"type\":\"object\",\"name\":\"Grid\",\"id\":\"p2391\",\"attributes\":{\"axis\":{\"id\":\"p2385\"}}},{\"type\":\"object\",\"name\":\"Grid\",\"id\":\"p2398\",\"attributes\":{\"dimension\":1,\"axis\":{\"id\":\"p2392\"}}}]}}]}};\n  const render_items = [{\"docid\":\"57bbe8b8-f466-452a-8c33-15af0b00f8fe\",\"roots\":{\"p2369\":\"58eaae23-5ffc-453f-8276-12d17aae5233\"},\"root_ids\":[\"p2369\"]}];\n  root.Bokeh.embed.embed_items_notebook(docs_json, render_items);\n  }\n  if (root.Bokeh !== undefined) {\n    embed_document(root);\n  } else {\n    let attempts = 0;\n    const timer = setInterval(function(root) {\n      if (root.Bokeh !== undefined) {\n        clearInterval(timer);\n        embed_document(root);\n      } else {\n        attempts++;\n        if (attempts > 100) {\n          clearInterval(timer);\n          console.log(\"Bokeh: ERROR: Unable to run BokehJS code because BokehJS library is missing\");\n        }\n      }\n    }, 10, root)\n  }\n})(window);",
      "application/vnd.bokehjs_exec.v0+json": ""
     },
     "metadata": {
      "application/vnd.bokehjs_exec.v0+json": {
       "id": "p2369"
      }
     },
     "output_type": "display_data"
    }
   ],
   "source": [
    "#Choose attributes from G network to size and color by — setting manual size (e.g. 10) or color (e.g. 'skyblue') also allowed\n",
    "size_by_this_attribute = 'adjusted_node_size'\n",
    "color_by_this_attribute = 'modularity_color'\n",
    "#Pick a color palette — Blues8, Reds8, Purples8, Oranges8, Viridis8\n",
    "color_palette = Blues8\n",
    "#Choose a title!\n",
    "title = 'Game of Thrones Network'\n",
    "\n",
    "#Establish which categories will appear when hovering over each node\n",
    "HOVER_TOOLTIPS = [\n",
    "       (\"Character\", \"@index\"),\n",
    "        (\"Degree\", \"@degree\"),\n",
    "         (\"Modularity Class\", \"@modularity_class\"),\n",
    "        (\"Modularity Color\", \"$color[swatch]:modularity_color\"),\n",
    "]\n",
    "\n",
    "#Create a plot — set dimensions, toolbar, and title\n",
    "plot = figure(tooltips = HOVER_TOOLTIPS,\n",
    "              tools=\"pan,wheel_zoom,save,reset, tap\", active_scroll='wheel_zoom',\n",
    "            x_range=Range1d(-10.1, 10.1), y_range=Range1d(-10.1, 10.1), title=title)\n",
    "\n",
    "#Create a network graph object\n",
    "# https://networkx.github.io/documentation/networkx-1.9/reference/generated/networkx.drawing.layout.spring_layout.html\n",
    "network_graph = from_networkx(G, networkx.spring_layout, scale=10, center=(0, 0))\n",
    "\n",
    "#Set node sizes and colors according to node degree (color as category from attribute)\n",
    "network_graph.node_renderer.glyph = Circle(size=size_by_this_attribute, fill_color=color_by_this_attribute)\n",
    "\n",
    "#Set edge opacity and width\n",
    "network_graph.edge_renderer.glyph = MultiLine(line_alpha=0.5, line_width=1)\n",
    "\n",
    "plot.renderers.append(network_graph)\n",
    "\n",
    "show(plot)\n",
    "#save(plot, filename=f\"{title}.html\")"
   ]
  },
  {
   "cell_type": "markdown",
   "metadata": {},
   "source": [
    "## Network with Responsive Highlighting"
   ]
  },
  {
   "cell_type": "markdown",
   "metadata": {},
   "source": [
    "The code below shows how to create responsive highlighting when a user hovers over nodes or edges, which you can read more about in [Bokeh's NetworkX Integration documentation](https://docs.bokeh.org/en/latest/docs/user_guide/graph.html?highlight=networks#interaction-policies). "
   ]
  },
  {
   "cell_type": "markdown",
   "metadata": {},
   "source": [
    "**Include  EdgesAndLinkedNodes, NodesAndLinkedEdges**"
   ]
  },
  {
   "cell_type": "code",
   "execution_count": 46,
   "metadata": {},
   "outputs": [],
   "source": [
    "from bokeh.io import output_notebook, show, save\n",
    "from bokeh.models import Range1d, Circle, ColumnDataSource, MultiLine, EdgesAndLinkedNodes, NodesAndLinkedEdges\n",
    "from bokeh.plotting import figure\n",
    "from bokeh.plotting import from_networkx\n",
    "from bokeh.palettes import Blues8, Reds8, Purples8, Oranges8, Viridis8, Spectral8\n",
    "from bokeh.transform import linear_cmap\n",
    "from networkx.algorithms import community"
   ]
  },
  {
   "cell_type": "markdown",
   "metadata": {},
   "source": [
    "**Calculate degree for each node and add as node attribute**"
   ]
  },
  {
   "cell_type": "code",
   "execution_count": 47,
   "metadata": {},
   "outputs": [],
   "source": [
    "degrees = dict(networkx.degree(G))\n",
    "networkx.set_node_attributes(G, name='degree', values=degrees)"
   ]
  },
  {
   "cell_type": "markdown",
   "metadata": {},
   "source": [
    "**Slightly adjust degree so that the nodes with very small degrees are still visible**"
   ]
  },
  {
   "cell_type": "code",
   "execution_count": 48,
   "metadata": {
    "tags": [
     "hide-input"
    ]
   },
   "outputs": [],
   "source": [
    "number_to_adjust_by = 5\n",
    "adjusted_node_size = dict([(node, degree+number_to_adjust_by) for node, degree in networkx.degree(G)])\n",
    "networkx.set_node_attributes(G, name='adjusted_node_size', values=adjusted_node_size)"
   ]
  },
  {
   "cell_type": "markdown",
   "metadata": {},
   "source": [
    "**Calculate communities**"
   ]
  },
  {
   "cell_type": "code",
   "execution_count": 49,
   "metadata": {
    "tags": [
     "hide-input"
    ]
   },
   "outputs": [],
   "source": [
    "communities = community.greedy_modularity_communities(G)"
   ]
  },
  {
   "cell_type": "markdown",
   "metadata": {},
   "source": [
    "**Add modularity class and color as attributes to network graph**"
   ]
  },
  {
   "cell_type": "code",
   "execution_count": 50,
   "metadata": {
    "tags": [
     "hide-input"
    ]
   },
   "outputs": [],
   "source": [
    "# Create empty dictionaries\n",
    "modularity_class = {}\n",
    "modularity_color = {}\n",
    "#Loop through each community in the network\n",
    "for community_number, community in enumerate(communities):\n",
    "    #For each member of the community, add their community number and a distinct color\n",
    "    for name in community: \n",
    "        modularity_class[name] = community_number\n",
    "        modularity_color[name] = Spectral8[community_number]"
   ]
  },
  {
   "cell_type": "code",
   "execution_count": 51,
   "metadata": {
    "tags": [
     "hide-input"
    ]
   },
   "outputs": [],
   "source": [
    "# Add modularity class and color as attributes from the network above\n",
    "networkx.set_node_attributes(G, modularity_class, 'modularity_class')\n",
    "networkx.set_node_attributes(G, modularity_color, 'modularity_color')"
   ]
  },
  {
   "cell_type": "code",
   "execution_count": 52,
   "metadata": {},
   "outputs": [
    {
     "data": {
      "text/html": [
       "\n",
       "  <div id=\"7dd8b5e0-2688-48c2-8237-ad380fb5cf35\" data-root-id=\"p2887\" style=\"display: contents;\"></div>\n"
      ]
     },
     "metadata": {},
     "output_type": "display_data"
    },
    {
     "data": {
      "application/javascript": "(function(root) {\n  function embed_document(root) {\n  const docs_json = {\"6a45f282-eba0-4e89-82e3-eb3e720c41cc\":{\"version\":\"3.0.2\",\"title\":\"Bokeh Application\",\"defs\":[],\"roots\":[{\"type\":\"object\",\"name\":\"Figure\",\"id\":\"p2887\",\"attributes\":{\"x_range\":{\"type\":\"object\",\"name\":\"Range1d\",\"id\":\"p2885\",\"attributes\":{\"start\":-10.1,\"end\":10.1}},\"y_range\":{\"type\":\"object\",\"name\":\"Range1d\",\"id\":\"p2886\",\"attributes\":{\"start\":-10.1,\"end\":10.1}},\"x_scale\":{\"type\":\"object\",\"name\":\"LinearScale\",\"id\":\"p2899\"},\"y_scale\":{\"type\":\"object\",\"name\":\"LinearScale\",\"id\":\"p2901\"},\"title\":{\"type\":\"object\",\"name\":\"Title\",\"id\":\"p2890\",\"attributes\":{\"text\":\"Game of Thrones Network\"}},\"renderers\":[{\"type\":\"object\",\"name\":\"GraphRenderer\",\"id\":\"p2928\",\"attributes\":{\"layout_provider\":{\"type\":\"object\",\"name\":\"StaticLayoutProvider\",\"id\":\"p2959\",\"attributes\":{\"graph_layout\":{\"type\":\"map\",\"entries\":[[-290,{\"type\":\"ndarray\",\"array\":{\"type\":\"bytes\",\"data\":\"GTCI8N9O3D+R5JULOTgEwA==\"},\"shape\":[2],\"dtype\":\"float64\",\"order\":\"little\"}],[-706,{\"type\":\"ndarray\",\"array\":{\"type\":\"bytes\",\"data\":\"bX0FnwIw4L8HKw7JuB8SwA==\"},\"shape\":[2],\"dtype\":\"float64\",\"order\":\"little\"}],[119,{\"type\":\"ndarray\",\"array\":{\"type\":\"bytes\",\"data\":\"yI1y09Tl7b90Jy5Cen4QwA==\"},\"shape\":[2],\"dtype\":\"float64\",\"order\":\"little\"}],[-615,{\"type\":\"ndarray\",\"array\":{\"type\":\"bytes\",\"data\":\"Pu1QD3kOxr+DpVawv1XMvw==\"},\"shape\":[2],\"dtype\":\"float64\",\"order\":\"little\"}],[-329,{\"type\":\"ndarray\",\"array\":{\"type\":\"bytes\",\"data\":\"d4rcV56jvb8pjYbwv0btPw==\"},\"shape\":[2],\"dtype\":\"float64\",\"order\":\"little\"}],[333,{\"type\":\"ndarray\",\"array\":{\"type\":\"bytes\",\"data\":\"25gK4Dqm6D/c0sDnyonrPw==\"},\"shape\":[2],\"dtype\":\"float64\",\"order\":\"little\"}],[-636,{\"type\":\"ndarray\",\"array\":{\"type\":\"bytes\",\"data\":\"oUI1/EnTAMDwYTvqksPpPw==\"},\"shape\":[2],\"dtype\":\"float64\",\"order\":\"little\"}],[911,{\"type\":\"ndarray\",\"array\":{\"type\":\"bytes\",\"data\":\"tKB1xITA+b/3qXLT/krgPw==\"},\"shape\":[2],\"dtype\":\"float64\",\"order\":\"little\"}],[572,{\"type\":\"ndarray\",\"array\":{\"type\":\"bytes\",\"data\":\"6qdYOSFArr9CLn2aM2gTwA==\"},\"shape\":[2],\"dtype\":\"float64\",\"order\":\"little\"}],[710,{\"type\":\"ndarray\",\"array\":{\"type\":\"bytes\",\"data\":\"eAKkqph72b8Ob4J+qpMUwA==\"},\"shape\":[2],\"dtype\":\"float64\",\"order\":\"little\"}],[704,{\"type\":\"ndarray\",\"array\":{\"type\":\"bytes\",\"data\":\"9MjziVxhHsDjv+xI5L/Gvw==\"},\"shape\":[2],\"dtype\":\"float64\",\"order\":\"little\"}],[89,{\"type\":\"ndarray\",\"array\":{\"type\":\"bytes\",\"data\":\"tlpzAbbdEcD35/enm4vEPw==\"},\"shape\":[2],\"dtype\":\"float64\",\"order\":\"little\"}],[-39,{\"type\":\"ndarray\",\"array\":{\"type\":\"bytes\",\"data\":\"46nNI/6n8b+xEvpmPjDwPw==\"},\"shape\":[2],\"dtype\":\"float64\",\"order\":\"little\"}],[-499,{\"type\":\"ndarray\",\"array\":{\"type\":\"bytes\",\"data\":\"QWIAQ6b6BMBEYV7liGIPQA==\"},\"shape\":[2],\"dtype\":\"float64\",\"order\":\"little\"}],[-101,{\"type\":\"ndarray\",\"array\":{\"type\":\"bytes\",\"data\":\"6E+533ax/b9M3hl3FfAGQA==\"},\"shape\":[2],\"dtype\":\"float64\",\"order\":\"little\"}],[525,{\"type\":\"ndarray\",\"array\":{\"type\":\"bytes\",\"data\":\"NVDxNY/t/r/HgNyhJBH5vw==\"},\"shape\":[2],\"dtype\":\"float64\",\"order\":\"little\"}],[-504,{\"type\":\"ndarray\",\"array\":{\"type\":\"bytes\",\"data\":\"J/iilUWL5T+MR5NNyQP8Pw==\"},\"shape\":[2],\"dtype\":\"float64\",\"order\":\"little\"}],[-29,{\"type\":\"ndarray\",\"array\":{\"type\":\"bytes\",\"data\":\"o9wPeeTT/L8yu4ZlpmryPw==\"},\"shape\":[2],\"dtype\":\"float64\",\"order\":\"little\"}],[-607,{\"type\":\"ndarray\",\"array\":{\"type\":\"bytes\",\"data\":\"WQguNPPB+7/a8onf7BANQA==\"},\"shape\":[2],\"dtype\":\"float64\",\"order\":\"little\"}],[737,{\"type\":\"ndarray\",\"array\":{\"type\":\"bytes\",\"data\":\"5pZWCbbUAcDtWSQfntHRPw==\"},\"shape\":[2],\"dtype\":\"float64\",\"order\":\"little\"}],[84,{\"type\":\"ndarray\",\"array\":{\"type\":\"bytes\",\"data\":\"FrTz/voDA8C+/oHXpzPtPw==\"},\"shape\":[2],\"dtype\":\"float64\",\"order\":\"little\"}],[-451,{\"type\":\"ndarray\",\"array\":{\"type\":\"bytes\",\"data\":\"sNY4voDs4r/fixuSK5EIwA==\"},\"shape\":[2],\"dtype\":\"float64\",\"order\":\"little\"}],[-243,{\"type\":\"ndarray\",\"array\":{\"type\":\"bytes\",\"data\":\"oa6Mhn+t87+4ghlzPOrivw==\"},\"shape\":[2],\"dtype\":\"float64\",\"order\":\"little\"}],[913,{\"type\":\"ndarray\",\"array\":{\"type\":\"bytes\",\"data\":\"E13w3YKwtD/XpILbYYAFQA==\"},\"shape\":[2],\"dtype\":\"float64\",\"order\":\"little\"}],[-782,{\"type\":\"ndarray\",\"array\":{\"type\":\"bytes\",\"data\":\"OMBhPJ9I+r+mUgjbfWb8Pw==\"},\"shape\":[2],\"dtype\":\"float64\",\"order\":\"little\"}],[853,{\"type\":\"ndarray\",\"array\":{\"type\":\"bytes\",\"data\":\"oKm69nI55b/WfLORUDcIQA==\"},\"shape\":[2],\"dtype\":\"float64\",\"order\":\"little\"}],[370,{\"type\":\"ndarray\",\"array\":{\"type\":\"bytes\",\"data\":\"QO+Q2IOy578zePvPqoTTPw==\"},\"shape\":[2],\"dtype\":\"float64\",\"order\":\"little\"}],[-601,{\"type\":\"ndarray\",\"array\":{\"type\":\"bytes\",\"data\":\"UhQNa7WF/78EvXTow5kBQA==\"},\"shape\":[2],\"dtype\":\"float64\",\"order\":\"little\"}],[-292,{\"type\":\"ndarray\",\"array\":{\"type\":\"bytes\",\"data\":\"1tLyTW44HUC7gkQukPr4Pw==\"},\"shape\":[2],\"dtype\":\"float64\",\"order\":\"little\"}],[612,{\"type\":\"ndarray\",\"array\":{\"type\":\"bytes\",\"data\":\"KqOn/VZSEEBzRFLxvGz4Pw==\"},\"shape\":[2],\"dtype\":\"float64\",\"order\":\"little\"}],[-596,{\"type\":\"ndarray\",\"array\":{\"type\":\"bytes\",\"data\":\"AAAAAAAAJEDUgoEZ/uvxPw==\"},\"shape\":[2],\"dtype\":\"float64\",\"order\":\"little\"}],[39,{\"type\":\"ndarray\",\"array\":{\"type\":\"bytes\",\"data\":\"8EoTlRRX/b80mwFGYAQCwA==\"},\"shape\":[2],\"dtype\":\"float64\",\"order\":\"little\"}],[-523,{\"type\":\"ndarray\",\"array\":{\"type\":\"bytes\",\"data\":\"QU07/OcmBsB7V49hE2MNwA==\"},\"shape\":[2],\"dtype\":\"float64\",\"order\":\"little\"}],[149,{\"type\":\"ndarray\",\"array\":{\"type\":\"bytes\",\"data\":\"JF19wo5tEcC15EEGMjYNwA==\"},\"shape\":[2],\"dtype\":\"float64\",\"order\":\"little\"}],[758,{\"type\":\"ndarray\",\"array\":{\"type\":\"bytes\",\"data\":\"X63RRRh7AcDEsWvt0uAMwA==\"},\"shape\":[2],\"dtype\":\"float64\",\"order\":\"little\"}],[753,{\"type\":\"ndarray\",\"array\":{\"type\":\"bytes\",\"data\":\"b3TK0ljQEsDKS7w7iSsJwA==\"},\"shape\":[2],\"dtype\":\"float64\",\"order\":\"little\"}],[660,{\"type\":\"ndarray\",\"array\":{\"type\":\"bytes\",\"data\":\"dBGHV5H44r9lxjGIR+/7vw==\"},\"shape\":[2],\"dtype\":\"float64\",\"order\":\"little\"}],[-395,{\"type\":\"ndarray\",\"array\":{\"type\":\"bytes\",\"data\":\"K/Yh4HRF5b+oucLc+1YCQA==\"},\"shape\":[2],\"dtype\":\"float64\",\"order\":\"little\"}],[-122,{\"type\":\"ndarray\",\"array\":{\"type\":\"bytes\",\"data\":\"8pX7H4EqDcD53e4Pan23vw==\"},\"shape\":[2],\"dtype\":\"float64\",\"order\":\"little\"}],[652,{\"type\":\"ndarray\",\"array\":{\"type\":\"bytes\",\"data\":\"Fif96QfxC8CWfxlSEhvlPw==\"},\"shape\":[2],\"dtype\":\"float64\",\"order\":\"little\"}],[-31,{\"type\":\"ndarray\",\"array\":{\"type\":\"bytes\",\"data\":\"Q3v91C6h+D8HvBTuFbkGQA==\"},\"shape\":[2],\"dtype\":\"float64\",\"order\":\"little\"}],[755,{\"type\":\"ndarray\",\"array\":{\"type\":\"bytes\",\"data\":\"RD9i8MpD3j/tPbIRepICQA==\"},\"shape\":[2],\"dtype\":\"float64\",\"order\":\"little\"}],[479,{\"type\":\"ndarray\",\"array\":{\"type\":\"bytes\",\"data\":\"neJeLQkfyr9L+rqHzWD5Pw==\"},\"shape\":[2],\"dtype\":\"float64\",\"order\":\"little\"}],[754,{\"type\":\"ndarray\",\"array\":{\"type\":\"bytes\",\"data\":\"Xlv0w/467D/Q+P5Tl/EFQA==\"},\"shape\":[2],\"dtype\":\"float64\",\"order\":\"little\"}],[618,{\"type\":\"ndarray\",\"array\":{\"type\":\"bytes\",\"data\":\"Tyf8E0Nb0z9n9eaL11gRQA==\"},\"shape\":[2],\"dtype\":\"float64\",\"order\":\"little\"}],[-126,{\"type\":\"ndarray\",\"array\":{\"type\":\"bytes\",\"data\":\"9C/ugJ/Q/D8r+p8xksT1Pw==\"},\"shape\":[2],\"dtype\":\"float64\",\"order\":\"little\"}],[-889,{\"type\":\"ndarray\",\"array\":{\"type\":\"bytes\",\"data\":\"lMYmJ0J19L8MuWOCnhsIQA==\"},\"shape\":[2],\"dtype\":\"float64\",\"order\":\"little\"}],[891,{\"type\":\"ndarray\",\"array\":{\"type\":\"bytes\",\"data\":\"ZOEua9ym679o9OMJweT+Pw==\"},\"shape\":[2],\"dtype\":\"float64\",\"order\":\"little\"}],[478,{\"type\":\"ndarray\",\"array\":{\"type\":\"bytes\",\"data\":\"SsnVTOMcvb/6bdoYj8XiPw==\"},\"shape\":[2],\"dtype\":\"float64\",\"order\":\"little\"}],[-331,{\"type\":\"ndarray\",\"array\":{\"type\":\"bytes\",\"data\":\"idAx4QvU9T+xWPi6BB0OQA==\"},\"shape\":[2],\"dtype\":\"float64\",\"order\":\"little\"}],[197,{\"type\":\"ndarray\",\"array\":{\"type\":\"bytes\",\"data\":\"xGw/wD1l/b9uM5jMTqH2Pw==\"},\"shape\":[2],\"dtype\":\"float64\",\"order\":\"little\"}],[310,{\"type\":\"ndarray\",\"array\":{\"type\":\"bytes\",\"data\":\"2H7qLBM/oz8YlQqAYAPyvw==\"},\"shape\":[2],\"dtype\":\"float64\",\"order\":\"little\"}],[771,{\"type\":\"ndarray\",\"array\":{\"type\":\"bytes\",\"data\":\"KfQhw2pl2j+hbNvWsLzlPw==\"},\"shape\":[2],\"dtype\":\"float64\",\"order\":\"little\"}],[114,{\"type\":\"ndarray\",\"array\":{\"type\":\"bytes\",\"data\":\"FHANoJJ5CsA/7V11NszxPw==\"},\"shape\":[2],\"dtype\":\"float64\",\"order\":\"little\"}],[309,{\"type\":\"ndarray\",\"array\":{\"type\":\"bytes\",\"data\":\"iEP1DPVJBcA4KFKFq8HgPw==\"},\"shape\":[2],\"dtype\":\"float64\",\"order\":\"little\"}],[-512,{\"type\":\"ndarray\",\"array\":{\"type\":\"bytes\",\"data\":\"y4kpEfX2DsDkTzbNY6vmPw==\"},\"shape\":[2],\"dtype\":\"float64\",\"order\":\"little\"}],[-867,{\"type\":\"ndarray\",\"array\":{\"type\":\"bytes\",\"data\":\"Xjj4Pw/HDMB7vS0ljtsDQA==\"},\"shape\":[2],\"dtype\":\"float64\",\"order\":\"little\"}],[36,{\"type\":\"ndarray\",\"array\":{\"type\":\"bytes\",\"data\":\"iT9CPt4nCsD7w4AMSCr6Pw==\"},\"shape\":[2],\"dtype\":\"float64\",\"order\":\"little\"}],[499,{\"type\":\"ndarray\",\"array\":{\"type\":\"bytes\",\"data\":\"2bVz29Qy8r9CJ4UnLNIZwA==\"},\"shape\":[2],\"dtype\":\"float64\",\"order\":\"little\"}],[-907,{\"type\":\"ndarray\",\"array\":{\"type\":\"bytes\",\"data\":\"g9tR36Pr+L/BHjenJLMiwA==\"},\"shape\":[2],\"dtype\":\"float64\",\"order\":\"little\"}],[-814,{\"type\":\"ndarray\",\"array\":{\"type\":\"bytes\",\"data\":\"Fl9Ug60AIEBlcEqqp1EEQA==\"},\"shape\":[2],\"dtype\":\"float64\",\"order\":\"little\"}],[-818,{\"type\":\"ndarray\",\"array\":{\"type\":\"bytes\",\"data\":\"7XKyMprMHkDpYOpPjnQIQA==\"},\"shape\":[2],\"dtype\":\"float64\",\"order\":\"little\"}],[35,{\"type\":\"ndarray\",\"array\":{\"type\":\"bytes\",\"data\":\"a6J3WsqrIECG8E/B8GULQA==\"},\"shape\":[2],\"dtype\":\"float64\",\"order\":\"little\"}],[110,{\"type\":\"ndarray\",\"array\":{\"type\":\"bytes\",\"data\":\"SjzE1OwkGEAYRyl3MK0GQA==\"},\"shape\":[2],\"dtype\":\"float64\",\"order\":\"little\"}],[-134,{\"type\":\"ndarray\",\"array\":{\"type\":\"bytes\",\"data\":\"MfXRJDcCIEAjjv4c8IYTQA==\"},\"shape\":[2],\"dtype\":\"float64\",\"order\":\"little\"}],[542,{\"type\":\"ndarray\",\"array\":{\"type\":\"bytes\",\"data\":\"ozHLdDQsGUD5+/uQ/IIAQA==\"},\"shape\":[2],\"dtype\":\"float64\",\"order\":\"little\"}],[801,{\"type\":\"ndarray\",\"array\":{\"type\":\"bytes\",\"data\":\"AChNiK1xHUD63JptUI0UQA==\"},\"shape\":[2],\"dtype\":\"float64\",\"order\":\"little\"}],[-294,{\"type\":\"ndarray\",\"array\":{\"type\":\"bytes\",\"data\":\"lDZ/A/6JIECXHk0CAf0QQA==\"},\"shape\":[2],\"dtype\":\"float64\",\"order\":\"little\"}],[-400,{\"type\":\"ndarray\",\"array\":{\"type\":\"bytes\",\"data\":\"QbyHh7HHIUD+XFj6KA8QQA==\"},\"shape\":[2],\"dtype\":\"float64\",\"order\":\"little\"}],[-865,{\"type\":\"ndarray\",\"array\":{\"type\":\"bytes\",\"data\":\"zpzF6BVHDUD0RdMj0276Pw==\"},\"shape\":[2],\"dtype\":\"float64\",\"order\":\"little\"}],[921,{\"type\":\"ndarray\",\"array\":{\"type\":\"bytes\",\"data\":\"u2rWXzfdBEAC/NlspzX9Pw==\"},\"shape\":[2],\"dtype\":\"float64\",\"order\":\"little\"}],[-106,{\"type\":\"ndarray\",\"array\":{\"type\":\"bytes\",\"data\":\"4Dmshf8GIkAT6AUiI1EHQA==\"},\"shape\":[2],\"dtype\":\"float64\",\"order\":\"little\"}],[489,{\"type\":\"ndarray\",\"array\":{\"type\":\"bytes\",\"data\":\"0Fk9Ca83DUCXeabwVOERwA==\"},\"shape\":[2],\"dtype\":\"float64\",\"order\":\"little\"}],[143,{\"type\":\"ndarray\",\"array\":{\"type\":\"bytes\",\"data\":\"/oehWdcAF0CBL6Kz0w4ZwA==\"},\"shape\":[2],\"dtype\":\"float64\",\"order\":\"little\"}],[-764,{\"type\":\"ndarray\",\"array\":{\"type\":\"bytes\",\"data\":\"B0smE0K7FEBBoBPivvkawA==\"},\"shape\":[2],\"dtype\":\"float64\",\"order\":\"little\"}],[-351,{\"type\":\"ndarray\",\"array\":{\"type\":\"bytes\",\"data\":\"xFc/PS938L8qew/h5YO8Pw==\"},\"shape\":[2],\"dtype\":\"float64\",\"order\":\"little\"}],[218,{\"type\":\"ndarray\",\"array\":{\"type\":\"bytes\",\"data\":\"wi6S+WfZ+L9aArlJ8TUVwA==\"},\"shape\":[2],\"dtype\":\"float64\",\"order\":\"little\"}],[-403,{\"type\":\"ndarray\",\"array\":{\"type\":\"bytes\",\"data\":\"JYM2vaEE8b90sa1DrdcWwA==\"},\"shape\":[2],\"dtype\":\"float64\",\"order\":\"little\"}],[-584,{\"type\":\"ndarray\",\"array\":{\"type\":\"bytes\",\"data\":\"nxSLaKiABEDiaSN7A5bdvw==\"},\"shape\":[2],\"dtype\":\"float64\",\"order\":\"little\"}],[-444,{\"type\":\"ndarray\",\"array\":{\"type\":\"bytes\",\"data\":\"RDIx2/dg879HzpKRca7zPw==\"},\"shape\":[2],\"dtype\":\"float64\",\"order\":\"little\"}],[-95,{\"type\":\"ndarray\",\"array\":{\"type\":\"bytes\",\"data\":\"RvQMXQgBBcBOqW6f/En8Pw==\"},\"shape\":[2],\"dtype\":\"float64\",\"order\":\"little\"}],[-44,{\"type\":\"ndarray\",\"array\":{\"type\":\"bytes\",\"data\":\"eYBNGgHi+L+YjR9saI8LwA==\"},\"shape\":[2],\"dtype\":\"float64\",\"order\":\"little\"}],[859,{\"type\":\"ndarray\",\"array\":{\"type\":\"bytes\",\"data\":\"9ywUzBJgAsBBlUSCfYQXwA==\"},\"shape\":[2],\"dtype\":\"float64\",\"order\":\"little\"}],[-239,{\"type\":\"ndarray\",\"array\":{\"type\":\"bytes\",\"data\":\"fA1qeWJoEMDi1wddVHwAQA==\"},\"shape\":[2],\"dtype\":\"float64\",\"order\":\"little\"}],[-502,{\"type\":\"ndarray\",\"array\":{\"type\":\"bytes\",\"data\":\"JcIXp432B8AUY6/PzgsBQA==\"},\"shape\":[2],\"dtype\":\"float64\",\"order\":\"little\"}],[-723,{\"type\":\"ndarray\",\"array\":{\"type\":\"bytes\",\"data\":\"vhWST06mD8D35stx6TT5Pw==\"},\"shape\":[2],\"dtype\":\"float64\",\"order\":\"little\"}],[592,{\"type\":\"ndarray\",\"array\":{\"type\":\"bytes\",\"data\":\"N2ym6jpH6D8l6XeN0b0SwA==\"},\"shape\":[2],\"dtype\":\"float64\",\"order\":\"little\"}],[-602,{\"type\":\"ndarray\",\"array\":{\"type\":\"bytes\",\"data\":\"SGvvRzg29T/1flaJ0xkNwA==\"},\"shape\":[2],\"dtype\":\"float64\",\"order\":\"little\"}],[-194,{\"type\":\"ndarray\",\"array\":{\"type\":\"bytes\",\"data\":\"I2tvzGpPBsAdPsk++x0WwA==\"},\"shape\":[2],\"dtype\":\"float64\",\"order\":\"little\"}],[-125,{\"type\":\"ndarray\",\"array\":{\"type\":\"bytes\",\"data\":\"mAUeLF5JnT/mk5oIyWsWwA==\"},\"shape\":[2],\"dtype\":\"float64\",\"order\":\"little\"}],[742,{\"type\":\"ndarray\",\"array\":{\"type\":\"bytes\",\"data\":\"DfNmWNX56j9ORQQyZb8WwA==\"},\"shape\":[2],\"dtype\":\"float64\",\"order\":\"little\"}],[126,{\"type\":\"ndarray\",\"array\":{\"type\":\"bytes\",\"data\":\"NBJ2rxim1b9oytoXvicZwA==\"},\"shape\":[2],\"dtype\":\"float64\",\"order\":\"little\"}],[-75,{\"type\":\"ndarray\",\"array\":{\"type\":\"bytes\",\"data\":\"yducohWgzr9sGOAKf7cHwA==\"},\"shape\":[2],\"dtype\":\"float64\",\"order\":\"little\"}],[302,{\"type\":\"ndarray\",\"array\":{\"type\":\"bytes\",\"data\":\"UtZ77f2P3D9eo0V3J1oYwA==\"},\"shape\":[2],\"dtype\":\"float64\",\"order\":\"little\"}],[698,{\"type\":\"ndarray\",\"array\":{\"type\":\"bytes\",\"data\":\"Tvd57ymY1T/6RkxbK+8OQA==\"},\"shape\":[2],\"dtype\":\"float64\",\"order\":\"little\"}],[102,{\"type\":\"ndarray\",\"array\":{\"type\":\"bytes\",\"data\":\"wa4mX65jG8BITrfS2TENQA==\"},\"shape\":[2],\"dtype\":\"float64\",\"order\":\"little\"}],[-311,{\"type\":\"ndarray\",\"array\":{\"type\":\"bytes\",\"data\":\"oYeDwbYxDMAd8kQXCFYOQA==\"},\"shape\":[2],\"dtype\":\"float64\",\"order\":\"little\"}],[918,{\"type\":\"ndarray\",\"array\":{\"type\":\"bytes\",\"data\":\"ACeCUf22/b9tIDSl6ZESQA==\"},\"shape\":[2],\"dtype\":\"float64\",\"order\":\"little\"}],[-139,{\"type\":\"ndarray\",\"array\":{\"type\":\"bytes\",\"data\":\"Swpa4IuWA8Dx3zE5vEkSQA==\"},\"shape\":[2],\"dtype\":\"float64\",\"order\":\"little\"}],[-416,{\"type\":\"ndarray\",\"array\":{\"type\":\"bytes\",\"data\":\"xR1DX47dFcAmCBAP6QnYPw==\"},\"shape\":[2],\"dtype\":\"float64\",\"order\":\"little\"}],[-406,{\"type\":\"ndarray\",\"array\":{\"type\":\"bytes\",\"data\":\"cnBYQPiqD8CGA1PR2rfjvw==\"},\"shape\":[2],\"dtype\":\"float64\",\"order\":\"little\"}],[719,{\"type\":\"ndarray\",\"array\":{\"type\":\"bytes\",\"data\":\"leA4KUQYAUBe7I2kNrQAQA==\"},\"shape\":[2],\"dtype\":\"float64\",\"order\":\"little\"}],[-252,{\"type\":\"ndarray\",\"array\":{\"type\":\"bytes\",\"data\":\"iFATigzfA0BZbDCiDJEGQA==\"},\"shape\":[2],\"dtype\":\"float64\",\"order\":\"little\"}],[158,{\"type\":\"ndarray\",\"array\":{\"type\":\"bytes\",\"data\":\"oP0lulajE8DJpbiZWzYGQA==\"},\"shape\":[2],\"dtype\":\"float64\",\"order\":\"little\"}],[724,{\"type\":\"ndarray\",\"array\":{\"type\":\"bytes\",\"data\":\"gcneFeRrGEAqI7z3UHgWwA==\"},\"shape\":[2],\"dtype\":\"float64\",\"order\":\"little\"}],[-337,{\"type\":\"ndarray\",\"array\":{\"type\":\"bytes\",\"data\":\"YQxBhY1QFsBwKCalJWv5Pw==\"},\"shape\":[2],\"dtype\":\"float64\",\"order\":\"little\"}],[166,{\"type\":\"ndarray\",\"array\":{\"type\":\"bytes\",\"data\":\"tk79ZZBYBkAgPh0EPZbSPw==\"},\"shape\":[2],\"dtype\":\"float64\",\"order\":\"little\"}]]}}},\"node_renderer\":{\"type\":\"object\",\"name\":\"GlyphRenderer\",\"id\":\"p2933\",\"attributes\":{\"data_source\":{\"type\":\"object\",\"name\":\"ColumnDataSource\",\"id\":\"p2930\",\"attributes\":{\"selected\":{\"type\":\"object\",\"name\":\"Selection\",\"id\":\"p2931\",\"attributes\":{\"indices\":[],\"line_indices\":[]}},\"selection_policy\":{\"type\":\"object\",\"name\":\"UnionRenderers\",\"id\":\"p2932\"},\"data\":{\"type\":\"map\",\"entries\":[[\"adjusted_node_size\",[10,9,20,9,29,23,41,27,8,17,6,12,24,7,11,19,13,25,9,17,23,31,11,9,18,10,11,14,9,11,6,9,9,7,10,7,9,12,9,10,10,13,23,13,8,7,15,12,30,9,31,19,10,11,12,9,10,12,10,6,9,9,9,19,6,11,6,7,6,11,8,6,10,6,6,17,8,9,6,13,10,11,7,11,12,9,8,9,6,10,9,7,9,9,7,6,7,8,8,7,8,7,6,7,6,6,6]],[\"degree\",[5,4,15,4,24,18,36,22,3,12,1,7,19,2,6,14,8,20,4,12,18,26,6,4,13,5,6,9,4,6,1,4,4,2,5,2,4,7,4,5,5,8,18,8,3,2,10,7,25,4,26,14,5,6,7,4,5,7,5,1,4,4,4,14,1,6,1,2,1,6,3,1,5,1,1,12,3,4,1,8,5,6,2,6,7,4,3,4,1,5,4,2,4,4,2,1,2,3,3,2,3,2,1,2,1,1,1]],[\"modularity_color\",[\"#abdda4\",\"#abdda4\",\"#abdda4\",\"#3288bd\",\"#3288bd\",\"#e6f598\",\"#3288bd\",\"#3288bd\",\"#abdda4\",\"#abdda4\",\"#3288bd\",\"#3288bd\",\"#66c2a5\",\"#fee08b\",\"#fee08b\",\"#66c2a5\",\"#66c2a5\",\"#66c2a5\",\"#fee08b\",\"#3288bd\",\"#3288bd\",\"#abdda4\",\"#66c2a5\",\"#66c2a5\",\"#3288bd\",\"#fee08b\",\"#3288bd\",\"#3288bd\",\"#e6f598\",\"#e6f598\",\"#e6f598\",\"#abdda4\",\"#abdda4\",\"#66c2a5\",\"#abdda4\",\"#66c2a5\",\"#66c2a5\",\"#66c2a5\",\"#3288bd\",\"#3288bd\",\"#66c2a5\",\"#66c2a5\",\"#66c2a5\",\"#66c2a5\",\"#66c2a5\",\"#66c2a5\",\"#66c2a5\",\"#66c2a5\",\"#66c2a5\",\"#66c2a5\",\"#66c2a5\",\"#3288bd\",\"#3288bd\",\"#3288bd\",\"#3288bd\",\"#3288bd\",\"#3288bd\",\"#3288bd\",\"#abdda4\",\"#abdda4\",\"#e6f598\",\"#e6f598\",\"#e6f598\",\"#e6f598\",\"#e6f598\",\"#e6f598\",\"#e6f598\",\"#e6f598\",\"#e6f598\",\"#e6f598\",\"#e6f598\",\"#e6f598\",\"#fdae61\",\"#fdae61\",\"#fdae61\",\"#66c2a5\",\"#abdda4\",\"#abdda4\",\"#3288bd\",\"#3288bd\",\"#3288bd\",\"#abdda4\",\"#abdda4\",\"#3288bd\",\"#3288bd\",\"#3288bd\",\"#abdda4\",\"#abdda4\",\"#abdda4\",\"#abdda4\",\"#abdda4\",\"#abdda4\",\"#abdda4\",\"#abdda4\",\"#e6f598\",\"#3288bd\",\"#66c2a5\",\"#66c2a5\",\"#66c2a5\",\"#3288bd\",\"#3288bd\",\"#66c2a5\",\"#66c2a5\",\"#3288bd\",\"#fdae61\",\"#3288bd\",\"#3288bd\"]],[\"modularity_class\",[2,2,2,0,0,3,0,0,2,2,0,0,1,4,4,1,1,1,4,0,0,2,1,1,0,4,0,0,3,3,3,2,2,1,2,1,1,1,0,0,1,1,1,1,1,1,1,1,1,1,1,0,0,0,0,0,0,0,2,2,3,3,3,3,3,3,3,3,3,3,3,3,5,5,5,1,2,2,0,0,0,2,2,0,0,0,2,2,2,2,2,2,2,2,3,0,1,1,1,0,0,1,1,0,5,0,0]],[\"index\",[-290,-706,119,-615,-329,333,-636,911,572,710,704,89,-39,-499,-101,525,-504,-29,-607,737,84,-451,-243,913,-782,853,370,-601,-292,612,-596,39,-523,149,758,753,660,-395,-122,652,-31,755,479,754,618,-126,-889,891,478,-331,197,310,771,114,309,-512,-867,36,499,-907,-814,-818,35,110,-134,542,801,-294,-400,-865,921,-106,489,143,-764,-351,218,-403,-584,-444,-95,-44,859,-239,-502,-723,592,-602,-194,-125,742,126,-75,302,698,102,-311,918,-139,-416,-406,719,-252,158,724,-337,166]]]}}},\"view\":{\"type\":\"object\",\"name\":\"CDSView\",\"id\":\"p2934\",\"attributes\":{\"filter\":{\"type\":\"object\",\"name\":\"AllIndices\",\"id\":\"p2935\"}}},\"glyph\":{\"type\":\"object\",\"name\":\"Circle\",\"id\":\"p2960\",\"attributes\":{\"size\":{\"type\":\"field\",\"field\":\"adjusted_node_size\"},\"fill_color\":{\"type\":\"field\",\"field\":\"modularity_color\"}}},\"selection_glyph\":{\"type\":\"object\",\"name\":\"Circle\",\"id\":\"p2976\",\"attributes\":{\"size\":{\"type\":\"field\",\"field\":\"adjusted_node_size\"},\"line_width\":{\"type\":\"value\",\"value\":2},\"fill_color\":{\"type\":\"value\",\"value\":\"white\"}}},\"hover_glyph\":{\"type\":\"object\",\"name\":\"Circle\",\"id\":\"p2968\",\"attributes\":{\"size\":{\"type\":\"field\",\"field\":\"adjusted_node_size\"},\"line_width\":{\"type\":\"value\",\"value\":2},\"fill_color\":{\"type\":\"value\",\"value\":\"white\"}}}}},\"edge_renderer\":{\"type\":\"object\",\"name\":\"GlyphRenderer\",\"id\":\"p2941\",\"attributes\":{\"data_source\":{\"type\":\"object\",\"name\":\"ColumnDataSource\",\"id\":\"p2938\",\"attributes\":{\"selected\":{\"type\":\"object\",\"name\":\"Selection\",\"id\":\"p2939\",\"attributes\":{\"indices\":[],\"line_indices\":[]}},\"selection_policy\":{\"type\":\"object\",\"name\":\"UnionRenderers\",\"id\":\"p2940\"},\"data\":{\"type\":\"map\",\"entries\":[[\"Weight\",[5,31,30,4,4,8,25,43,11,11,52,7,5,6,34,12,36,6,10,5,13,18,6,5,8,11,19,36,6,6,4,88,5,4,6,15,16,11,11,7,17,5,8,31,15,10,13,10,4,16,5,10,5,6,6,5,4,5,4,6,5,9,11,5,5,46,54,5,4,12,77,4,31,5,5,5,4,22,5,5,11,6,9,7,5,25,12,28,11,6,4,21,6,18,39,4,4,12,5,4,16,7,13,14,5,6,4,5,5,15,4,4,6,4,5,9,15,4,69,11,8,7,10,9,7,8,12,5,24,4,6,6,11,23,9,6,5,43,7,6,7,8,5,46,18,18,15,22,4,4,21,8,15,96,46,12,4,54,14,35,11,4,15,23,10,4,5,8,7,4,17,4,5,4,4,6,7,23,10,4,6,4,4,6,4,16,7,5,5,9,7,7,12,5,4,8,7,28,5,5,14,10,9,10,35,8,7,6,4,9,8,4,7,6,31,20,9,16,8,12,54,14,4,8,8,15,7,4,4,4,5,4,4,10,6,4,6,4,7,9,5,8,14,18,10,26,13,20,11,5,35,41,5,33,4,11,7,6,5,19,4,8,4,4,10,12,19,9,26,6,6,16,9,10,8,5,43,6,8,4,5,16,9,32,6,18,5,10,29,9,28,5,28,13,4,7,15,4,6,5,36,9,4,7,4,6,8,32,20,15,7,5,4,4,8,5,4,6,17,4,5,14,7,18,7,6,17,4,8,47,10,26,7,12,8,14,5,7,4,16,30,5,7,5,5,5,7,7,6,7,9,4]],[\"start\",[-290,-290,-290,-290,-290,-706,-706,-706,119,119,119,119,119,119,119,119,119,119,119,119,119,-615,-615,-615,-615,-329,-329,-329,-329,-329,-329,-329,-329,-329,-329,-329,-329,-329,-329,-329,-329,-329,-329,-329,-329,-329,-329,-329,333,333,333,333,333,333,333,333,333,333,333,333,333,333,333,-636,-636,-636,-636,-636,-636,-636,-636,-636,-636,-636,-636,-636,-636,-636,-636,-636,-636,-636,-636,-636,-636,-636,-636,-636,-636,-636,-636,-636,-636,-636,-636,-636,911,911,911,911,911,911,911,911,911,911,911,911,911,911,911,911,911,911,572,572,572,710,710,710,710,710,710,710,710,710,710,704,89,89,89,89,-39,-39,-39,-39,-39,-39,-39,-39,-39,-39,-39,-39,-39,-39,-39,-39,-499,-101,-101,-101,-101,525,525,525,525,525,525,525,525,525,525,525,525,-504,-504,-504,-504,-504,-504,-29,-29,-29,-29,-29,-29,-29,-29,-29,-29,-29,-29,-29,-29,-29,-607,-607,737,737,737,737,737,737,84,84,84,84,84,84,84,84,84,84,84,-451,-451,-451,-451,-451,-451,-451,-451,-451,-451,-451,-451,-451,-451,-451,-451,-451,-451,-243,-243,-243,-243,913,913,913,-782,-782,-782,-782,-782,370,370,370,-601,-601,-601,-601,-601,-292,-292,-292,-292,612,612,612,39,39,39,-523,149,660,-395,-395,-395,-122,652,652,-31,-31,-31,-31,755,755,755,755,755,479,479,479,479,479,479,479,479,479,479,754,754,754,618,-126,-889,-889,-889,-889,-889,891,891,478,478,478,478,478,197,197,197,197,197,197,197,197,197,310,310,310,771,114,-512,-867,-867,36,36,499,499,-814,-814,-814,-814,-818,-818,-818,35,35,110,110,110,110,110,110,110,110,542,-865,489,489,489,489,-444,-95,-95,-44,-239,592,-125,-125,742,918]],[\"end\",[-706,119,-451,333,310,218,-451,119,525,-523,-451,758,-602,859,499,218,-403,-44,710,-125,310,-329,333,-636,911,-39,479,-29,-351,370,612,-395,754,771,737,84,-601,309,-584,-444,333,310,-95,-636,478,197,911,166,-39,-29,110,-351,-451,698,-865,612,-444,310,853,-782,197,-636,911,-39,479,-29,84,-889,-723,478,197,370,-122,158,-337,771,-416,737,114,-44,-239,-601,-406,-502,309,89,891,652,-512,-444,-782,-867,310,36,911,921,-889,478,370,-504,-29,737,84,-239,-406,89,891,652,-512,310,-95,-75,36,755,710,-44,-451,-44,-451,499,592,-403,-125,742,126,-75,302,89,737,84,-416,-406,-499,-101,525,-504,-29,-607,737,84,-451,-243,913,-782,853,-351,478,197,-101,-607,853,-351,-782,39,-523,-451,149,758,753,-243,660,479,-351,478,197,-31,755,479,754,719,478,479,-395,-122,771,737,114,84,309,-512,-782,-867,36,-351,-889,197,853,-782,-122,771,114,309,-782,84,114,-239,-601,-502,309,-723,-782,310,-95,478,197,-351,499,592,218,-403,-44,758,-602,-194,-125,742,310,126,660,-75,302,478,197,-351,660,478,197,479,478,-395,-351,114,309,853,197,-601,478,310,-395,-502,-311,-444,197,612,-596,110,542,110,542,-865,-523,758,478,758,753,478,479,478,197,652,-502,197,754,-331,478,755,479,754,478,891,-331,754,618,-126,-889,891,478,-331,197,310,-351,-331,618,478,-889,478,698,918,891,-139,197,478,197,-351,-252,719,197,310,-351,-239,-502,918,-723,-311,-444,-139,-867,489,-602,-444,-865,309,36,158,36,-239,-444,-907,-403,-818,35,110,542,110,35,542,110,-294,-134,542,801,-294,-400,-865,921,-106,-865,921,143,-764,-602,724,-502,-723,-502,859,102,-75,742,302,302,-139]]]}}},\"view\":{\"type\":\"object\",\"name\":\"CDSView\",\"id\":\"p2942\",\"attributes\":{\"filter\":{\"type\":\"object\",\"name\":\"AllIndices\",\"id\":\"p2943\"}}},\"glyph\":{\"type\":\"object\",\"name\":\"MultiLine\",\"id\":\"p2984\",\"attributes\":{\"line_alpha\":{\"type\":\"value\",\"value\":0.5}}},\"selection_glyph\":{\"type\":\"object\",\"name\":\"MultiLine\",\"id\":\"p2992\",\"attributes\":{\"line_width\":{\"type\":\"value\",\"value\":2}}},\"hover_glyph\":{\"type\":\"object\",\"name\":\"MultiLine\",\"id\":\"p3000\",\"attributes\":{\"line_width\":{\"type\":\"value\",\"value\":2}}}}},\"selection_policy\":{\"type\":\"object\",\"name\":\"NodesAndLinkedEdges\",\"id\":\"p3008\"},\"inspection_policy\":{\"type\":\"object\",\"name\":\"NodesAndLinkedEdges\",\"id\":\"p3010\"}}}],\"toolbar\":{\"type\":\"object\",\"name\":\"Toolbar\",\"id\":\"p2892\",\"attributes\":{\"tools\":[{\"type\":\"object\",\"name\":\"PanTool\",\"id\":\"p2917\"},{\"type\":\"object\",\"name\":\"WheelZoomTool\",\"id\":\"p2918\"},{\"type\":\"object\",\"name\":\"SaveTool\",\"id\":\"p2919\"},{\"type\":\"object\",\"name\":\"ResetTool\",\"id\":\"p2920\"},{\"type\":\"object\",\"name\":\"HoverTool\",\"id\":\"p2921\",\"attributes\":{\"renderers\":\"auto\",\"tooltips\":[[\"Character\",\"@index\"],[\"Degree\",\"@degree\"],[\"Modularity Class\",\"@modularity_class\"],[\"Modularity Color\",\"$color[swatch]:modularity_color\"]]}}],\"active_scroll\":{\"id\":\"p2918\"}}},\"left\":[{\"type\":\"object\",\"name\":\"LinearAxis\",\"id\":\"p2910\",\"attributes\":{\"ticker\":{\"type\":\"object\",\"name\":\"BasicTicker\",\"id\":\"p2913\",\"attributes\":{\"mantissas\":[1,2,5]}},\"formatter\":{\"type\":\"object\",\"name\":\"BasicTickFormatter\",\"id\":\"p2911\"},\"major_label_policy\":{\"type\":\"object\",\"name\":\"AllLabels\",\"id\":\"p2912\"}}}],\"below\":[{\"type\":\"object\",\"name\":\"LinearAxis\",\"id\":\"p2903\",\"attributes\":{\"ticker\":{\"type\":\"object\",\"name\":\"BasicTicker\",\"id\":\"p2906\",\"attributes\":{\"mantissas\":[1,2,5]}},\"formatter\":{\"type\":\"object\",\"name\":\"BasicTickFormatter\",\"id\":\"p2904\"},\"major_label_policy\":{\"type\":\"object\",\"name\":\"AllLabels\",\"id\":\"p2905\"}}}],\"center\":[{\"type\":\"object\",\"name\":\"Grid\",\"id\":\"p2909\",\"attributes\":{\"axis\":{\"id\":\"p2903\"}}},{\"type\":\"object\",\"name\":\"Grid\",\"id\":\"p2916\",\"attributes\":{\"dimension\":1,\"axis\":{\"id\":\"p2910\"}}}]}}]}};\n  const render_items = [{\"docid\":\"6a45f282-eba0-4e89-82e3-eb3e720c41cc\",\"roots\":{\"p2887\":\"7dd8b5e0-2688-48c2-8237-ad380fb5cf35\"},\"root_ids\":[\"p2887\"]}];\n  root.Bokeh.embed.embed_items_notebook(docs_json, render_items);\n  }\n  if (root.Bokeh !== undefined) {\n    embed_document(root);\n  } else {\n    let attempts = 0;\n    const timer = setInterval(function(root) {\n      if (root.Bokeh !== undefined) {\n        clearInterval(timer);\n        embed_document(root);\n      } else {\n        attempts++;\n        if (attempts > 100) {\n          clearInterval(timer);\n          console.log(\"Bokeh: ERROR: Unable to run BokehJS code because BokehJS library is missing\");\n        }\n      }\n    }, 10, root)\n  }\n})(window);",
      "application/vnd.bokehjs_exec.v0+json": ""
     },
     "metadata": {
      "application/vnd.bokehjs_exec.v0+json": {
       "id": "p2887"
      }
     },
     "output_type": "display_data"
    }
   ],
   "source": [
    "from bokeh.models import EdgesAndLinkedNodes, NodesAndLinkedEdges\n",
    "\n",
    "#Choose colors for node and edge highlighting\n",
    "node_highlight_color = 'white'\n",
    "edge_highlight_color = 'black'\n",
    "\n",
    "#Choose attributes from G network to size and color by — setting manual size (e.g. 10) or color (e.g. 'skyblue') also allowed\n",
    "size_by_this_attribute = 'adjusted_node_size'\n",
    "color_by_this_attribute = 'modularity_color'\n",
    "\n",
    "#Pick a color palette — Blues8, Reds8, Purples8, Oranges8, Viridis8\n",
    "color_palette = Blues8\n",
    "\n",
    "#Choose a title!\n",
    "title = 'Game of Thrones Network'\n",
    "\n",
    "#Establish which categories will appear when hovering over each node\n",
    "HOVER_TOOLTIPS = [\n",
    "       (\"Character\", \"@index\"),\n",
    "        (\"Degree\", \"@degree\"),\n",
    "         (\"Modularity Class\", \"@modularity_class\"),\n",
    "        (\"Modularity Color\", \"$color[swatch]:modularity_color\"),\n",
    "]\n",
    "\n",
    "#Create a plot — set dimensions, toolbar, and title\n",
    "plot = figure(tooltips = HOVER_TOOLTIPS,\n",
    "              tools=\"pan,wheel_zoom,save,reset\", active_scroll='wheel_zoom',\n",
    "            x_range=Range1d(-10.1, 10.1), y_range=Range1d(-10.1, 10.1), title=title)\n",
    "\n",
    "#Create a network graph object\n",
    "# https://networkx.github.io/documentation/networkx-1.9/reference/generated/networkx.drawing.layout.spring_layout.html\n",
    "network_graph = from_networkx(G, networkx.spring_layout, scale=10, center=(0, 0))\n",
    "\n",
    "#Set node sizes and colors according to node degree (color as category from attribute)\n",
    "network_graph.node_renderer.glyph = Circle(size=size_by_this_attribute, fill_color=color_by_this_attribute)\n",
    "#Set node highlight colors\n",
    "network_graph.node_renderer.hover_glyph = Circle(size=size_by_this_attribute, fill_color=node_highlight_color, line_width=2)\n",
    "network_graph.node_renderer.selection_glyph = Circle(size=size_by_this_attribute, fill_color=node_highlight_color, line_width=2)\n",
    "\n",
    "#Set edge opacity and width\n",
    "network_graph.edge_renderer.glyph = MultiLine(line_alpha=0.5, line_width=1)\n",
    "#Set edge highlight colors\n",
    "network_graph.edge_renderer.selection_glyph = MultiLine(line_color=edge_highlight_color, line_width=2)\n",
    "network_graph.edge_renderer.hover_glyph = MultiLine(line_color=edge_highlight_color, line_width=2)\n",
    "\n",
    "    #Highlight nodes and edges\n",
    "network_graph.selection_policy = NodesAndLinkedEdges()\n",
    "network_graph.inspection_policy = NodesAndLinkedEdges()\n",
    "\n",
    "plot.renderers.append(network_graph)\n",
    "\n",
    "show(plot)\n",
    "#save(plot, filename=f\"{title}.html\")"
   ]
  },
  {
   "cell_type": "markdown",
   "metadata": {},
   "source": [
    "## Network with Labels"
   ]
  },
  {
   "cell_type": "markdown",
   "metadata": {},
   "source": [
    "The code below shows how to create node labels, which you can read more about in [Bokeh's label documentation](https://docs.bokeh.org/en/latest/docs/user_guide/annotations.html#labels)."
   ]
  },
  {
   "cell_type": "markdown",
   "metadata": {},
   "source": [
    "**Include  LabelSet**"
   ]
  },
  {
   "cell_type": "code",
   "execution_count": 53,
   "metadata": {},
   "outputs": [],
   "source": [
    "from bokeh.io import output_notebook, show, save\n",
    "from bokeh.models import Range1d, Circle, ColumnDataSource, MultiLine, EdgesAndLinkedNodes, NodesAndLinkedEdges, LabelSet\n",
    "from bokeh.plotting import figure\n",
    "from bokeh.plotting import from_networkx\n",
    "from bokeh.palettes import Blues8, Reds8, Purples8, Oranges8, Viridis8, Spectral8\n",
    "from bokeh.transform import linear_cmap\n",
    "from networkx.algorithms import community"
   ]
  },
  {
   "cell_type": "markdown",
   "metadata": {},
   "source": [
    "**Calculate degree for each node and add as node attribute**"
   ]
  },
  {
   "cell_type": "code",
   "execution_count": 54,
   "metadata": {
    "tags": [
     "hide-input"
    ]
   },
   "outputs": [],
   "source": [
    "degrees = dict(networkx.degree(G))\n",
    "networkx.set_node_attributes(G, name='degree', values=degrees)"
   ]
  },
  {
   "cell_type": "markdown",
   "metadata": {},
   "source": [
    "**Slightly adjust degree so that the nodes with very small degrees are still visible**"
   ]
  },
  {
   "cell_type": "code",
   "execution_count": 55,
   "metadata": {
    "tags": [
     "hide-input"
    ]
   },
   "outputs": [],
   "source": [
    "number_to_adjust_by = 5\n",
    "adjusted_node_size = dict([(node, degree+number_to_adjust_by) for node, degree in networkx.degree(G)])\n",
    "networkx.set_node_attributes(G, name='adjusted_node_size', values=adjusted_node_size)"
   ]
  },
  {
   "cell_type": "markdown",
   "metadata": {},
   "source": [
    "**Calculate communities**"
   ]
  },
  {
   "cell_type": "code",
   "execution_count": 56,
   "metadata": {
    "tags": [
     "hide-input"
    ]
   },
   "outputs": [],
   "source": [
    "communities = community.greedy_modularity_communities(G)"
   ]
  },
  {
   "cell_type": "markdown",
   "metadata": {},
   "source": [
    "**Add modularity class and color as attributes to network graph**"
   ]
  },
  {
   "cell_type": "code",
   "execution_count": 57,
   "metadata": {
    "tags": [
     "hide-input"
    ]
   },
   "outputs": [],
   "source": [
    "# Create empty dictionaries\n",
    "modularity_class = {}\n",
    "modularity_color = {}\n",
    "#Loop through each community in the network\n",
    "for community_number, community in enumerate(communities):\n",
    "    #For each member of the community, add their community number and a distinct color\n",
    "    for name in community: \n",
    "        modularity_class[name] = community_number\n",
    "        modularity_color[name] = Spectral8[community_number]"
   ]
  },
  {
   "cell_type": "code",
   "execution_count": 58,
   "metadata": {},
   "outputs": [
    {
     "data": {
      "text/html": [
       "\n",
       "  <div id=\"decb24a5-befb-43f6-8bcf-a727c80a1f26\" data-root-id=\"p3460\" style=\"display: contents;\"></div>\n"
      ]
     },
     "metadata": {},
     "output_type": "display_data"
    },
    {
     "data": {
      "application/javascript": "(function(root) {\n  function embed_document(root) {\n  const docs_json = {\"8d3ae4d5-5754-4d4d-9cc4-39f2bf6f2814\":{\"version\":\"3.0.2\",\"title\":\"Bokeh Application\",\"defs\":[],\"roots\":[{\"type\":\"object\",\"name\":\"Figure\",\"id\":\"p3460\",\"attributes\":{\"x_range\":{\"type\":\"object\",\"name\":\"Range1d\",\"id\":\"p3458\",\"attributes\":{\"start\":-10.1,\"end\":10.1}},\"y_range\":{\"type\":\"object\",\"name\":\"Range1d\",\"id\":\"p3459\",\"attributes\":{\"start\":-10.1,\"end\":10.1}},\"x_scale\":{\"type\":\"object\",\"name\":\"LinearScale\",\"id\":\"p3472\"},\"y_scale\":{\"type\":\"object\",\"name\":\"LinearScale\",\"id\":\"p3474\"},\"title\":{\"type\":\"object\",\"name\":\"Title\",\"id\":\"p3463\",\"attributes\":{\"text\":\"Game of Thrones Network\"}},\"renderers\":[{\"type\":\"object\",\"name\":\"GraphRenderer\",\"id\":\"p3501\",\"attributes\":{\"layout_provider\":{\"type\":\"object\",\"name\":\"StaticLayoutProvider\",\"id\":\"p3532\",\"attributes\":{\"graph_layout\":{\"type\":\"map\",\"entries\":[[-290,{\"type\":\"ndarray\",\"array\":{\"type\":\"bytes\",\"data\":\"HNGJgM7U6D8TyYuRzNICQA==\"},\"shape\":[2],\"dtype\":\"float64\",\"order\":\"little\"}],[-706,{\"type\":\"ndarray\",\"array\":{\"type\":\"bytes\",\"data\":\"oH4P192q+z/bvzcV6VoOQA==\"},\"shape\":[2],\"dtype\":\"float64\",\"order\":\"little\"}],[119,{\"type\":\"ndarray\",\"array\":{\"type\":\"bytes\",\"data\":\"hCGopqfRBEDkBlDeh1QDQA==\"},\"shape\":[2],\"dtype\":\"float64\",\"order\":\"little\"}],[-615,{\"type\":\"ndarray\",\"array\":{\"type\":\"bytes\",\"data\":\"IGOcz70f2j9c6JM4SDLJvw==\"},\"shape\":[2],\"dtype\":\"float64\",\"order\":\"little\"}],[-329,{\"type\":\"ndarray\",\"array\":{\"type\":\"bytes\",\"data\":\"+lm7RYdP8r//PFbfzb30vw==\"},\"shape\":[2],\"dtype\":\"float64\",\"order\":\"little\"}],[333,{\"type\":\"ndarray\",\"array\":{\"type\":\"bytes\",\"data\":\"5iAX/Dcj7b+Zsg5jK2XmPw==\"},\"shape\":[2],\"dtype\":\"float64\",\"order\":\"little\"}],[-636,{\"type\":\"ndarray\",\"array\":{\"type\":\"bytes\",\"data\":\"cIv6PDnC8z8ZjokeL2f+vw==\"},\"shape\":[2],\"dtype\":\"float64\",\"order\":\"little\"}],[911,{\"type\":\"ndarray\",\"array\":{\"type\":\"bytes\",\"data\":\"4K8rxANK6D+AV9jWFkYCwA==\"},\"shape\":[2],\"dtype\":\"float64\",\"order\":\"little\"}],[572,{\"type\":\"ndarray\",\"array\":{\"type\":\"bytes\",\"data\":\"n3E8ZwSeE0DoCA+Mrf0EQA==\"},\"shape\":[2],\"dtype\":\"float64\",\"order\":\"little\"}],[710,{\"type\":\"ndarray\",\"array\":{\"type\":\"bytes\",\"data\":\"KK4jxqlWD0Bu2IZeRywJQA==\"},\"shape\":[2],\"dtype\":\"float64\",\"order\":\"little\"}],[704,{\"type\":\"ndarray\",\"array\":{\"type\":\"bytes\",\"data\":\"PDPHPjobF0C+pe4rt5AXwA==\"},\"shape\":[2],\"dtype\":\"float64\",\"order\":\"little\"}],[89,{\"type\":\"ndarray\",\"array\":{\"type\":\"bytes\",\"data\":\"fCZqE0p9CECATAJ6lZUOwA==\"},\"shape\":[2],\"dtype\":\"float64\",\"order\":\"little\"}],[-39,{\"type\":\"ndarray\",\"array\":{\"type\":\"bytes\",\"data\":\"zX8ithip4L/w99Mvfxz3vw==\"},\"shape\":[2],\"dtype\":\"float64\",\"order\":\"little\"}],[-499,{\"type\":\"ndarray\",\"array\":{\"type\":\"bytes\",\"data\":\"VFvddT91CsD4yYrpllILwA==\"},\"shape\":[2],\"dtype\":\"float64\",\"order\":\"little\"}],[-101,{\"type\":\"ndarray\",\"array\":{\"type\":\"bytes\",\"data\":\"IzzzuNYBA8Be0ScFIZr6vw==\"},\"shape\":[2],\"dtype\":\"float64\",\"order\":\"little\"}],[525,{\"type\":\"ndarray\",\"array\":{\"type\":\"bytes\",\"data\":\"u1z2PsKsAkAf/OTdW9vjvw==\"},\"shape\":[2],\"dtype\":\"float64\",\"order\":\"little\"}],[-504,{\"type\":\"ndarray\",\"array\":{\"type\":\"bytes\",\"data\":\"fm4k6Wbe7r+BoPSb/IEQwA==\"},\"shape\":[2],\"dtype\":\"float64\",\"order\":\"little\"}],[-29,{\"type\":\"ndarray\",\"array\":{\"type\":\"bytes\",\"data\":\"KiYkRjgW3j+/HbUm1Fj9vw==\"},\"shape\":[2],\"dtype\":\"float64\",\"order\":\"little\"}],[-607,{\"type\":\"ndarray\",\"array\":{\"type\":\"bytes\",\"data\":\"95v3Jh5uBsBhIJpsO9cCwA==\"},\"shape\":[2],\"dtype\":\"float64\",\"order\":\"little\"}],[737,{\"type\":\"ndarray\",\"array\":{\"type\":\"bytes\",\"data\":\"t05kf+Jq8T86i4KT2zgBwA==\"},\"shape\":[2],\"dtype\":\"float64\",\"order\":\"little\"}],[84,{\"type\":\"ndarray\",\"array\":{\"type\":\"bytes\",\"data\":\"h5DsQaA25j/yxHMk5mMGwA==\"},\"shape\":[2],\"dtype\":\"float64\",\"order\":\"little\"}],[-451,{\"type\":\"ndarray\",\"array\":{\"type\":\"bytes\",\"data\":\"P3Ix4F1tAUC4eVt7vT78Pw==\"},\"shape\":[2],\"dtype\":\"float64\",\"order\":\"little\"}],[-243,{\"type\":\"ndarray\",\"array\":{\"type\":\"bytes\",\"data\":\"C7V+oy708j/8PWHq7jnrvw==\"},\"shape\":[2],\"dtype\":\"float64\",\"order\":\"little\"}],[913,{\"type\":\"ndarray\",\"array\":{\"type\":\"bytes\",\"data\":\"RhQE6GiwAMDyLdB7GxoJwA==\"},\"shape\":[2],\"dtype\":\"float64\",\"order\":\"little\"}],[-782,{\"type\":\"ndarray\",\"array\":{\"type\":\"bytes\",\"data\":\"g2Dbauti5r+8Pgte4fj8vw==\"},\"shape\":[2],\"dtype\":\"float64\",\"order\":\"little\"}],[853,{\"type\":\"ndarray\",\"array\":{\"type\":\"bytes\",\"data\":\"yR8SFDonA8B6gZzc+57mvw==\"},\"shape\":[2],\"dtype\":\"float64\",\"order\":\"little\"}],[370,{\"type\":\"ndarray\",\"array\":{\"type\":\"bytes\",\"data\":\"OGKbjO3Kwj9pU8d3akTyvw==\"},\"shape\":[2],\"dtype\":\"float64\",\"order\":\"little\"}],[-601,{\"type\":\"ndarray\",\"array\":{\"type\":\"bytes\",\"data\":\"EIsNQB96y7/TIfS97OAIwA==\"},\"shape\":[2],\"dtype\":\"float64\",\"order\":\"little\"}],[-292,{\"type\":\"ndarray\",\"array\":{\"type\":\"bytes\",\"data\":\"D7S2v2BNCMDe7oRtOPcbQA==\"},\"shape\":[2],\"dtype\":\"float64\",\"order\":\"little\"}],[612,{\"type\":\"ndarray\",\"array\":{\"type\":\"bytes\",\"data\":\"Ksdow1YzBcD5G4tBGfAKQA==\"},\"shape\":[2],\"dtype\":\"float64\",\"order\":\"little\"}],[-596,{\"type\":\"ndarray\",\"array\":{\"type\":\"bytes\",\"data\":\"lr6uue8kCMAAAAAAAAAkQA==\"},\"shape\":[2],\"dtype\":\"float64\",\"order\":\"little\"}],[39,{\"type\":\"ndarray\",\"array\":{\"type\":\"bytes\",\"data\":\"jinAILCUC0Dfelfpg3vpvw==\"},\"shape\":[2],\"dtype\":\"float64\",\"order\":\"little\"}],[-523,{\"type\":\"ndarray\",\"array\":{\"type\":\"bytes\",\"data\":\"FjUGzufPEUDpcCamsyzkPw==\"},\"shape\":[2],\"dtype\":\"float64\",\"order\":\"little\"}],[149,{\"type\":\"ndarray\",\"array\":{\"type\":\"bytes\",\"data\":\"dqDX6+iFF0CJhalD3sjkvw==\"},\"shape\":[2],\"dtype\":\"float64\",\"order\":\"little\"}],[758,{\"type\":\"ndarray\",\"array\":{\"type\":\"bytes\",\"data\":\"I2CzhaemDkCcoO2yp7zrPw==\"},\"shape\":[2],\"dtype\":\"float64\",\"order\":\"little\"}],[753,{\"type\":\"ndarray\",\"array\":{\"type\":\"bytes\",\"data\":\"4nAKyWdgF0DyaGDEygf1vw==\"},\"shape\":[2],\"dtype\":\"float64\",\"order\":\"little\"}],[660,{\"type\":\"ndarray\",\"array\":{\"type\":\"bytes\",\"data\":\"3DF+kvYc/j/rM5WGyayWvw==\"},\"shape\":[2],\"dtype\":\"float64\",\"order\":\"little\"}],[-395,{\"type\":\"ndarray\",\"array\":{\"type\":\"bytes\",\"data\":\"JIp/nV8B9b/jst5d0aYHwA==\"},\"shape\":[2],\"dtype\":\"float64\",\"order\":\"little\"}],[-122,{\"type\":\"ndarray\",\"array\":{\"type\":\"bytes\",\"data\":\"/RIfDlFhA0CFCna1a6YKwA==\"},\"shape\":[2],\"dtype\":\"float64\",\"order\":\"little\"}],[652,{\"type\":\"ndarray\",\"array\":{\"type\":\"bytes\",\"data\":\"EgcqlBmf+z9+fLTXSCwOwA==\"},\"shape\":[2],\"dtype\":\"float64\",\"order\":\"little\"}],[-31,{\"type\":\"ndarray\",\"array\":{\"type\":\"bytes\",\"data\":\"zeeFEIarAMBnJFsbT5gUwA==\"},\"shape\":[2],\"dtype\":\"float64\",\"order\":\"little\"}],[755,{\"type\":\"ndarray\",\"array\":{\"type\":\"bytes\",\"data\":\"FwQySjtG978ksNJ6oBcRwA==\"},\"shape\":[2],\"dtype\":\"float64\",\"order\":\"little\"}],[479,{\"type\":\"ndarray\",\"array\":{\"type\":\"bytes\",\"data\":\"zhgEC4Mb778nUiY5IXYFwA==\"},\"shape\":[2],\"dtype\":\"float64\",\"order\":\"little\"}],[754,{\"type\":\"ndarray\",\"array\":{\"type\":\"bytes\",\"data\":\"Mm8ZhrDlAcDxvitb3hUPwA==\"},\"shape\":[2],\"dtype\":\"float64\",\"order\":\"little\"}],[618,{\"type\":\"ndarray\",\"array\":{\"type\":\"bytes\",\"data\":\"Wpd7l1bVDcB5N8tWF9cLwA==\"},\"shape\":[2],\"dtype\":\"float64\",\"order\":\"little\"}],[-126,{\"type\":\"ndarray\",\"array\":{\"type\":\"bytes\",\"data\":\"J/g0rM/F9L9r1mA/eMQUwA==\"},\"shape\":[2],\"dtype\":\"float64\",\"order\":\"little\"}],[-889,{\"type\":\"ndarray\",\"array\":{\"type\":\"bytes\",\"data\":\"nVsAyBJo+r/8kqBILC4AwA==\"},\"shape\":[2],\"dtype\":\"float64\",\"order\":\"little\"}],[891,{\"type\":\"ndarray\",\"array\":{\"type\":\"bytes\",\"data\":\"U2lsUDF14r+effIvaSALwA==\"},\"shape\":[2],\"dtype\":\"float64\",\"order\":\"little\"}],[478,{\"type\":\"ndarray\",\"array\":{\"type\":\"bytes\",\"data\":\"qruhaSlruD+DDtlUJU0EwA==\"},\"shape\":[2],\"dtype\":\"float64\",\"order\":\"little\"}],[-331,{\"type\":\"ndarray\",\"array\":{\"type\":\"bytes\",\"data\":\"UUweIP2uCMArv7w8MyUUwA==\"},\"shape\":[2],\"dtype\":\"float64\",\"order\":\"little\"}],[197,{\"type\":\"ndarray\",\"array\":{\"type\":\"bytes\",\"data\":\"q1aBRQoErj/SqGgymgMBwA==\"},\"shape\":[2],\"dtype\":\"float64\",\"order\":\"little\"}],[310,{\"type\":\"ndarray\",\"array\":{\"type\":\"bytes\",\"data\":\"eIYlC9Ytzb/3iTpYXiaQPw==\"},\"shape\":[2],\"dtype\":\"float64\",\"order\":\"little\"}],[771,{\"type\":\"ndarray\",\"array\":{\"type\":\"bytes\",\"data\":\"GqkDMnXM1r8SG7fNionWPw==\"},\"shape\":[2],\"dtype\":\"float64\",\"order\":\"little\"}],[114,{\"type\":\"ndarray\",\"array\":{\"type\":\"bytes\",\"data\":\"Pq5fEvYe8z8kKqz8/sgJwA==\"},\"shape\":[2],\"dtype\":\"float64\",\"order\":\"little\"}],[309,{\"type\":\"ndarray\",\"array\":{\"type\":\"bytes\",\"data\":\"HS1owGVHzz8o0bZ/qYsIwA==\"},\"shape\":[2],\"dtype\":\"float64\",\"order\":\"little\"}],[-512,{\"type\":\"ndarray\",\"array\":{\"type\":\"bytes\",\"data\":\"eILTJhfcBUD/x0wTwQcBwA==\"},\"shape\":[2],\"dtype\":\"float64\",\"order\":\"little\"}],[-867,{\"type\":\"ndarray\",\"array\":{\"type\":\"bytes\",\"data\":\"ziYdvl8/BUBj+UP6tZwFwA==\"},\"shape\":[2],\"dtype\":\"float64\",\"order\":\"little\"}],[36,{\"type\":\"ndarray\",\"array\":{\"type\":\"bytes\",\"data\":\"cWP0SYFlAED1Lrjc5OoFwA==\"},\"shape\":[2],\"dtype\":\"float64\",\"order\":\"little\"}],[499,{\"type\":\"ndarray\",\"array\":{\"type\":\"bytes\",\"data\":\"XJVQOHN3C0Bisj3iFXITQA==\"},\"shape\":[2],\"dtype\":\"float64\",\"order\":\"little\"}],[-907,{\"type\":\"ndarray\",\"array\":{\"type\":\"bytes\",\"data\":\"QN9dryk3E0ByXG9CV9keQA==\"},\"shape\":[2],\"dtype\":\"float64\",\"order\":\"little\"}],[-814,{\"type\":\"ndarray\",\"array\":{\"type\":\"bytes\",\"data\":\"SNLFExy7E8CmgMa18vAbQA==\"},\"shape\":[2],\"dtype\":\"float64\",\"order\":\"little\"}],[-818,{\"type\":\"ndarray\",\"array\":{\"type\":\"bytes\",\"data\":\"mGeoVpbFEcB3JAf8CMUdQA==\"},\"shape\":[2],\"dtype\":\"float64\",\"order\":\"little\"}],[35,{\"type\":\"ndarray\",\"array\":{\"type\":\"bytes\",\"data\":\"Wf9HhzpGFsA9CwPLugUeQA==\"},\"shape\":[2],\"dtype\":\"float64\",\"order\":\"little\"}],[110,{\"type\":\"ndarray\",\"array\":{\"type\":\"bytes\",\"data\":\"EfHHP1LMDsBuPIIJDLcWQA==\"},\"shape\":[2],\"dtype\":\"float64\",\"order\":\"little\"}],[-134,{\"type\":\"ndarray\",\"array\":{\"type\":\"bytes\",\"data\":\"jo/lxQYuGcCe2sswEG4fQA==\"},\"shape\":[2],\"dtype\":\"float64\",\"order\":\"little\"}],[542,{\"type\":\"ndarray\",\"array\":{\"type\":\"bytes\",\"data\":\"kztg7BBAC8Cw4DGoJToXQA==\"},\"shape\":[2],\"dtype\":\"float64\",\"order\":\"little\"}],[801,{\"type\":\"ndarray\",\"array\":{\"type\":\"bytes\",\"data\":\"FJt2MKI6FsCvl/Bm+eUgQA==\"},\"shape\":[2],\"dtype\":\"float64\",\"order\":\"little\"}],[-294,{\"type\":\"ndarray\",\"array\":{\"type\":\"bytes\",\"data\":\"n9Ki1rmrGcAP81QRUiwcQA==\"},\"shape\":[2],\"dtype\":\"float64\",\"order\":\"little\"}],[-400,{\"type\":\"ndarray\",\"array\":{\"type\":\"bytes\",\"data\":\"vmFB0XM8E8DH0m7MTFQhQA==\"},\"shape\":[2],\"dtype\":\"float64\",\"order\":\"little\"}],[-865,{\"type\":\"ndarray\",\"array\":{\"type\":\"bytes\",\"data\":\"0d581kA8AcCZDDC66nELQA==\"},\"shape\":[2],\"dtype\":\"float64\",\"order\":\"little\"}],[921,{\"type\":\"ndarray\",\"array\":{\"type\":\"bytes\",\"data\":\"ax26gJ2Z+b9Rt/riPuoCQA==\"},\"shape\":[2],\"dtype\":\"float64\",\"order\":\"little\"}],[-106,{\"type\":\"ndarray\",\"array\":{\"type\":\"bytes\",\"data\":\"/sGDQHoOEMDKgJ1KEV4hQA==\"},\"shape\":[2],\"dtype\":\"float64\",\"order\":\"little\"}],[489,{\"type\":\"ndarray\",\"array\":{\"type\":\"bytes\",\"data\":\"BRoHvoZCE8AaHsIM3FD5Pw==\"},\"shape\":[2],\"dtype\":\"float64\",\"order\":\"little\"}],[143,{\"type\":\"ndarray\",\"array\":{\"type\":\"bytes\",\"data\":\"GmQyMGfHH8A7ik9YYg3yPw==\"},\"shape\":[2],\"dtype\":\"float64\",\"order\":\"little\"}],[-764,{\"type\":\"ndarray\",\"array\":{\"type\":\"bytes\",\"data\":\"O7g25FvxHsBwn06MA4gEQA==\"},\"shape\":[2],\"dtype\":\"float64\",\"order\":\"little\"}],[-351,{\"type\":\"ndarray\",\"array\":{\"type\":\"bytes\",\"data\":\"U6hzEmOiiL/Ry/OtsrLkvw==\"},\"shape\":[2],\"dtype\":\"float64\",\"order\":\"little\"}],[218,{\"type\":\"ndarray\",\"array\":{\"type\":\"bytes\",\"data\":\"ARjx1ZF2AkAGiFWWAiMRQA==\"},\"shape\":[2],\"dtype\":\"float64\",\"order\":\"little\"}],[-403,{\"type\":\"ndarray\",\"array\":{\"type\":\"bytes\",\"data\":\"3cOjrfPHCECg3BrYEicQQA==\"},\"shape\":[2],\"dtype\":\"float64\",\"order\":\"little\"}],[-584,{\"type\":\"ndarray\",\"array\":{\"type\":\"bytes\",\"data\":\"pKtgERgKE8BD6CZQWvn6vw==\"},\"shape\":[2],\"dtype\":\"float64\",\"order\":\"little\"}],[-444,{\"type\":\"ndarray\",\"array\":{\"type\":\"bytes\",\"data\":\"Gy+S9S320D/pHpxFWfX3vw==\"},\"shape\":[2],\"dtype\":\"float64\",\"order\":\"little\"}],[-95,{\"type\":\"ndarray\",\"array\":{\"type\":\"bytes\",\"data\":\"ee291s+1mL8WFGVcRmEQwA==\"},\"shape\":[2],\"dtype\":\"float64\",\"order\":\"little\"}],[-44,{\"type\":\"ndarray\",\"array\":{\"type\":\"bytes\",\"data\":\"ghtNru1hDUDUTeq+Yvj3Pw==\"},\"shape\":[2],\"dtype\":\"float64\",\"order\":\"little\"}],[859,{\"type\":\"ndarray\",\"array\":{\"type\":\"bytes\",\"data\":\"mRwHYt5PFkAo/DzngukGQA==\"},\"shape\":[2],\"dtype\":\"float64\",\"order\":\"little\"}],[-239,{\"type\":\"ndarray\",\"array\":{\"type\":\"bytes\",\"data\":\"lBpJaVhM/j+adhcjq7wRwA==\"},\"shape\":[2],\"dtype\":\"float64\",\"order\":\"little\"}],[-502,{\"type\":\"ndarray\",\"array\":{\"type\":\"bytes\",\"data\":\"0AuiqZEx6D/jbBwt/tYNwA==\"},\"shape\":[2],\"dtype\":\"float64\",\"order\":\"little\"}],[-723,{\"type\":\"ndarray\",\"array\":{\"type\":\"bytes\",\"data\":\"uVL8D9u67j/qvIQq05IRwA==\"},\"shape\":[2],\"dtype\":\"float64\",\"order\":\"little\"}],[592,{\"type\":\"ndarray\",\"array\":{\"type\":\"bytes\",\"data\":\"KNcndn6/EUD4tNArQk8CQA==\"},\"shape\":[2],\"dtype\":\"float64\",\"order\":\"little\"}],[-602,{\"type\":\"ndarray\",\"array\":{\"type\":\"bytes\",\"data\":\"E54VaWvp5b+6CgTwuLEBQA==\"},\"shape\":[2],\"dtype\":\"float64\",\"order\":\"little\"}],[-194,{\"type\":\"ndarray\",\"array\":{\"type\":\"bytes\",\"data\":\"0smdqtuBDkBRppu7+KcUQA==\"},\"shape\":[2],\"dtype\":\"float64\",\"order\":\"little\"}],[-125,{\"type\":\"ndarray\",\"array\":{\"type\":\"bytes\",\"data\":\"8VsWyXL6DUACkLTUCncOQA==\"},\"shape\":[2],\"dtype\":\"float64\",\"order\":\"little\"}],[742,{\"type\":\"ndarray\",\"array\":{\"type\":\"bytes\",\"data\":\"v4h9MIPlEEC/FnvuQXARQA==\"},\"shape\":[2],\"dtype\":\"float64\",\"order\":\"little\"}],[126,{\"type\":\"ndarray\",\"array\":{\"type\":\"bytes\",\"data\":\"MAwYoC9bFEA00/ZFWsQMQA==\"},\"shape\":[2],\"dtype\":\"float64\",\"order\":\"little\"}],[-75,{\"type\":\"ndarray\",\"array\":{\"type\":\"bytes\",\"data\":\"pQ6rTGGkCEC1nhIh1GfsPw==\"},\"shape\":[2],\"dtype\":\"float64\",\"order\":\"little\"}],[302,{\"type\":\"ndarray\",\"array\":{\"type\":\"bytes\",\"data\":\"DWomyU6JEkBE1d/v3CQQQA==\"},\"shape\":[2],\"dtype\":\"float64\",\"order\":\"little\"}],[698,{\"type\":\"ndarray\",\"array\":{\"type\":\"bytes\",\"data\":\"xkTV08CpCcBjP41/1oLPPw==\"},\"shape\":[2],\"dtype\":\"float64\",\"order\":\"little\"}],[102,{\"type\":\"ndarray\",\"array\":{\"type\":\"bytes\",\"data\":\"W8tBoY//CkCFdCtXqhgewA==\"},\"shape\":[2],\"dtype\":\"float64\",\"order\":\"little\"}],[-311,{\"type\":\"ndarray\",\"array\":{\"type\":\"bytes\",\"data\":\"QHsZjyoMsL/BPLAjRBkVwA==\"},\"shape\":[2],\"dtype\":\"float64\",\"order\":\"little\"}],[918,{\"type\":\"ndarray\",\"array\":{\"type\":\"bytes\",\"data\":\"z0r4B3urCsCWABmjlg8DwA==\"},\"shape\":[2],\"dtype\":\"float64\",\"order\":\"little\"}],[-139,{\"type\":\"ndarray\",\"array\":{\"type\":\"bytes\",\"data\":\"SUMw9VZ7CcDzUdS7WUf7vw==\"},\"shape\":[2],\"dtype\":\"float64\",\"order\":\"little\"}],[-416,{\"type\":\"ndarray\",\"array\":{\"type\":\"bytes\",\"data\":\"jW4hZXE8EEB6wHF3+AwRwA==\"},\"shape\":[2],\"dtype\":\"float64\",\"order\":\"little\"}],[-406,{\"type\":\"ndarray\",\"array\":{\"type\":\"bytes\",\"data\":\"n0NfeNXXBUA/4gsn8kYRwA==\"},\"shape\":[2],\"dtype\":\"float64\",\"order\":\"little\"}],[719,{\"type\":\"ndarray\",\"array\":{\"type\":\"bytes\",\"data\":\"9c3BpYAN6r/E32NfWdQXwA==\"},\"shape\":[2],\"dtype\":\"float64\",\"order\":\"little\"}],[-252,{\"type\":\"ndarray\",\"array\":{\"type\":\"bytes\",\"data\":\"CIiAo6P04T9bCsyOm2kZwA==\"},\"shape\":[2],\"dtype\":\"float64\",\"order\":\"little\"}],[158,{\"type\":\"ndarray\",\"array\":{\"type\":\"bytes\",\"data\":\"0uTgNYjVEEBmStT2YlIKwA==\"},\"shape\":[2],\"dtype\":\"float64\",\"order\":\"little\"}],[724,{\"type\":\"ndarray\",\"array\":{\"type\":\"bytes\",\"data\":\"b/iYspn4H8CuCzLcT8H9Pw==\"},\"shape\":[2],\"dtype\":\"float64\",\"order\":\"little\"}],[-337,{\"type\":\"ndarray\",\"array\":{\"type\":\"bytes\",\"data\":\"bnDIoLwEE0DlUu2iYy4FwA==\"},\"shape\":[2],\"dtype\":\"float64\",\"order\":\"little\"}],[166,{\"type\":\"ndarray\",\"array\":{\"type\":\"bytes\",\"data\":\"6Q+0MrQjEsBW1iUpQgzmvw==\"},\"shape\":[2],\"dtype\":\"float64\",\"order\":\"little\"}]]}}},\"node_renderer\":{\"type\":\"object\",\"name\":\"GlyphRenderer\",\"id\":\"p3506\",\"attributes\":{\"data_source\":{\"type\":\"object\",\"name\":\"ColumnDataSource\",\"id\":\"p3503\",\"attributes\":{\"selected\":{\"type\":\"object\",\"name\":\"Selection\",\"id\":\"p3504\",\"attributes\":{\"indices\":[],\"line_indices\":[]}},\"selection_policy\":{\"type\":\"object\",\"name\":\"UnionRenderers\",\"id\":\"p3505\"},\"data\":{\"type\":\"map\",\"entries\":[[\"adjusted_node_size\",[10,9,20,9,29,23,41,27,8,17,6,12,24,7,11,19,13,25,9,17,23,31,11,9,18,10,11,14,9,11,6,9,9,7,10,7,9,12,9,10,10,13,23,13,8,7,15,12,30,9,31,19,10,11,12,9,10,12,10,6,9,9,9,19,6,11,6,7,6,11,8,6,10,6,6,17,8,9,6,13,10,11,7,11,12,9,8,9,6,10,9,7,9,9,7,6,7,8,8,7,8,7,6,7,6,6,6]],[\"degree\",[5,4,15,4,24,18,36,22,3,12,1,7,19,2,6,14,8,20,4,12,18,26,6,4,13,5,6,9,4,6,1,4,4,2,5,2,4,7,4,5,5,8,18,8,3,2,10,7,25,4,26,14,5,6,7,4,5,7,5,1,4,4,4,14,1,6,1,2,1,6,3,1,5,1,1,12,3,4,1,8,5,6,2,6,7,4,3,4,1,5,4,2,4,4,2,1,2,3,3,2,3,2,1,2,1,1,1]],[\"modularity_color\",[\"#abdda4\",\"#abdda4\",\"#abdda4\",\"#3288bd\",\"#3288bd\",\"#e6f598\",\"#3288bd\",\"#3288bd\",\"#abdda4\",\"#abdda4\",\"#3288bd\",\"#3288bd\",\"#66c2a5\",\"#fee08b\",\"#fee08b\",\"#66c2a5\",\"#66c2a5\",\"#66c2a5\",\"#fee08b\",\"#3288bd\",\"#3288bd\",\"#abdda4\",\"#66c2a5\",\"#66c2a5\",\"#3288bd\",\"#fee08b\",\"#3288bd\",\"#3288bd\",\"#e6f598\",\"#e6f598\",\"#e6f598\",\"#abdda4\",\"#abdda4\",\"#66c2a5\",\"#abdda4\",\"#66c2a5\",\"#66c2a5\",\"#66c2a5\",\"#3288bd\",\"#3288bd\",\"#66c2a5\",\"#66c2a5\",\"#66c2a5\",\"#66c2a5\",\"#66c2a5\",\"#66c2a5\",\"#66c2a5\",\"#66c2a5\",\"#66c2a5\",\"#66c2a5\",\"#66c2a5\",\"#3288bd\",\"#3288bd\",\"#3288bd\",\"#3288bd\",\"#3288bd\",\"#3288bd\",\"#3288bd\",\"#abdda4\",\"#abdda4\",\"#e6f598\",\"#e6f598\",\"#e6f598\",\"#e6f598\",\"#e6f598\",\"#e6f598\",\"#e6f598\",\"#e6f598\",\"#e6f598\",\"#e6f598\",\"#e6f598\",\"#e6f598\",\"#fdae61\",\"#fdae61\",\"#fdae61\",\"#66c2a5\",\"#abdda4\",\"#abdda4\",\"#3288bd\",\"#3288bd\",\"#3288bd\",\"#abdda4\",\"#abdda4\",\"#3288bd\",\"#3288bd\",\"#3288bd\",\"#abdda4\",\"#abdda4\",\"#abdda4\",\"#abdda4\",\"#abdda4\",\"#abdda4\",\"#abdda4\",\"#abdda4\",\"#e6f598\",\"#3288bd\",\"#66c2a5\",\"#66c2a5\",\"#66c2a5\",\"#3288bd\",\"#3288bd\",\"#66c2a5\",\"#66c2a5\",\"#3288bd\",\"#fdae61\",\"#3288bd\",\"#3288bd\"]],[\"modularity_class\",[2,2,2,0,0,3,0,0,2,2,0,0,1,4,4,1,1,1,4,0,0,2,1,1,0,4,0,0,3,3,3,2,2,1,2,1,1,1,0,0,1,1,1,1,1,1,1,1,1,1,1,0,0,0,0,0,0,0,2,2,3,3,3,3,3,3,3,3,3,3,3,3,5,5,5,1,2,2,0,0,0,2,2,0,0,0,2,2,2,2,2,2,2,2,3,0,1,1,1,0,0,1,1,0,5,0,0]],[\"index\",[-290,-706,119,-615,-329,333,-636,911,572,710,704,89,-39,-499,-101,525,-504,-29,-607,737,84,-451,-243,913,-782,853,370,-601,-292,612,-596,39,-523,149,758,753,660,-395,-122,652,-31,755,479,754,618,-126,-889,891,478,-331,197,310,771,114,309,-512,-867,36,499,-907,-814,-818,35,110,-134,542,801,-294,-400,-865,921,-106,489,143,-764,-351,218,-403,-584,-444,-95,-44,859,-239,-502,-723,592,-602,-194,-125,742,126,-75,302,698,102,-311,918,-139,-416,-406,719,-252,158,724,-337,166]]]}}},\"view\":{\"type\":\"object\",\"name\":\"CDSView\",\"id\":\"p3507\",\"attributes\":{\"filter\":{\"type\":\"object\",\"name\":\"AllIndices\",\"id\":\"p3508\"}}},\"glyph\":{\"type\":\"object\",\"name\":\"Circle\",\"id\":\"p3533\",\"attributes\":{\"size\":{\"type\":\"field\",\"field\":\"adjusted_node_size\"},\"fill_color\":{\"type\":\"field\",\"field\":\"modularity_color\"}}},\"selection_glyph\":{\"type\":\"object\",\"name\":\"Circle\",\"id\":\"p3549\",\"attributes\":{\"size\":{\"type\":\"field\",\"field\":\"adjusted_node_size\"},\"line_width\":{\"type\":\"value\",\"value\":2},\"fill_color\":{\"type\":\"value\",\"value\":\"white\"}}},\"hover_glyph\":{\"type\":\"object\",\"name\":\"Circle\",\"id\":\"p3541\",\"attributes\":{\"size\":{\"type\":\"field\",\"field\":\"adjusted_node_size\"},\"line_width\":{\"type\":\"value\",\"value\":2},\"fill_color\":{\"type\":\"value\",\"value\":\"white\"}}}}},\"edge_renderer\":{\"type\":\"object\",\"name\":\"GlyphRenderer\",\"id\":\"p3514\",\"attributes\":{\"data_source\":{\"type\":\"object\",\"name\":\"ColumnDataSource\",\"id\":\"p3511\",\"attributes\":{\"selected\":{\"type\":\"object\",\"name\":\"Selection\",\"id\":\"p3512\",\"attributes\":{\"indices\":[],\"line_indices\":[]}},\"selection_policy\":{\"type\":\"object\",\"name\":\"UnionRenderers\",\"id\":\"p3513\"},\"data\":{\"type\":\"map\",\"entries\":[[\"Weight\",[5,31,30,4,4,8,25,43,11,11,52,7,5,6,34,12,36,6,10,5,13,18,6,5,8,11,19,36,6,6,4,88,5,4,6,15,16,11,11,7,17,5,8,31,15,10,13,10,4,16,5,10,5,6,6,5,4,5,4,6,5,9,11,5,5,46,54,5,4,12,77,4,31,5,5,5,4,22,5,5,11,6,9,7,5,25,12,28,11,6,4,21,6,18,39,4,4,12,5,4,16,7,13,14,5,6,4,5,5,15,4,4,6,4,5,9,15,4,69,11,8,7,10,9,7,8,12,5,24,4,6,6,11,23,9,6,5,43,7,6,7,8,5,46,18,18,15,22,4,4,21,8,15,96,46,12,4,54,14,35,11,4,15,23,10,4,5,8,7,4,17,4,5,4,4,6,7,23,10,4,6,4,4,6,4,16,7,5,5,9,7,7,12,5,4,8,7,28,5,5,14,10,9,10,35,8,7,6,4,9,8,4,7,6,31,20,9,16,8,12,54,14,4,8,8,15,7,4,4,4,5,4,4,10,6,4,6,4,7,9,5,8,14,18,10,26,13,20,11,5,35,41,5,33,4,11,7,6,5,19,4,8,4,4,10,12,19,9,26,6,6,16,9,10,8,5,43,6,8,4,5,16,9,32,6,18,5,10,29,9,28,5,28,13,4,7,15,4,6,5,36,9,4,7,4,6,8,32,20,15,7,5,4,4,8,5,4,6,17,4,5,14,7,18,7,6,17,4,8,47,10,26,7,12,8,14,5,7,4,16,30,5,7,5,5,5,7,7,6,7,9,4]],[\"start\",[-290,-290,-290,-290,-290,-706,-706,-706,119,119,119,119,119,119,119,119,119,119,119,119,119,-615,-615,-615,-615,-329,-329,-329,-329,-329,-329,-329,-329,-329,-329,-329,-329,-329,-329,-329,-329,-329,-329,-329,-329,-329,-329,-329,333,333,333,333,333,333,333,333,333,333,333,333,333,333,333,-636,-636,-636,-636,-636,-636,-636,-636,-636,-636,-636,-636,-636,-636,-636,-636,-636,-636,-636,-636,-636,-636,-636,-636,-636,-636,-636,-636,-636,-636,-636,-636,-636,911,911,911,911,911,911,911,911,911,911,911,911,911,911,911,911,911,911,572,572,572,710,710,710,710,710,710,710,710,710,710,704,89,89,89,89,-39,-39,-39,-39,-39,-39,-39,-39,-39,-39,-39,-39,-39,-39,-39,-39,-499,-101,-101,-101,-101,525,525,525,525,525,525,525,525,525,525,525,525,-504,-504,-504,-504,-504,-504,-29,-29,-29,-29,-29,-29,-29,-29,-29,-29,-29,-29,-29,-29,-29,-607,-607,737,737,737,737,737,737,84,84,84,84,84,84,84,84,84,84,84,-451,-451,-451,-451,-451,-451,-451,-451,-451,-451,-451,-451,-451,-451,-451,-451,-451,-451,-243,-243,-243,-243,913,913,913,-782,-782,-782,-782,-782,370,370,370,-601,-601,-601,-601,-601,-292,-292,-292,-292,612,612,612,39,39,39,-523,149,660,-395,-395,-395,-122,652,652,-31,-31,-31,-31,755,755,755,755,755,479,479,479,479,479,479,479,479,479,479,754,754,754,618,-126,-889,-889,-889,-889,-889,891,891,478,478,478,478,478,197,197,197,197,197,197,197,197,197,310,310,310,771,114,-512,-867,-867,36,36,499,499,-814,-814,-814,-814,-818,-818,-818,35,35,110,110,110,110,110,110,110,110,542,-865,489,489,489,489,-444,-95,-95,-44,-239,592,-125,-125,742,918]],[\"end\",[-706,119,-451,333,310,218,-451,119,525,-523,-451,758,-602,859,499,218,-403,-44,710,-125,310,-329,333,-636,911,-39,479,-29,-351,370,612,-395,754,771,737,84,-601,309,-584,-444,333,310,-95,-636,478,197,911,166,-39,-29,110,-351,-451,698,-865,612,-444,310,853,-782,197,-636,911,-39,479,-29,84,-889,-723,478,197,370,-122,158,-337,771,-416,737,114,-44,-239,-601,-406,-502,309,89,891,652,-512,-444,-782,-867,310,36,911,921,-889,478,370,-504,-29,737,84,-239,-406,89,891,652,-512,310,-95,-75,36,755,710,-44,-451,-44,-451,499,592,-403,-125,742,126,-75,302,89,737,84,-416,-406,-499,-101,525,-504,-29,-607,737,84,-451,-243,913,-782,853,-351,478,197,-101,-607,853,-351,-782,39,-523,-451,149,758,753,-243,660,479,-351,478,197,-31,755,479,754,719,478,479,-395,-122,771,737,114,84,309,-512,-782,-867,36,-351,-889,197,853,-782,-122,771,114,309,-782,84,114,-239,-601,-502,309,-723,-782,310,-95,478,197,-351,499,592,218,-403,-44,758,-602,-194,-125,742,310,126,660,-75,302,478,197,-351,660,478,197,479,478,-395,-351,114,309,853,197,-601,478,310,-395,-502,-311,-444,197,612,-596,110,542,110,542,-865,-523,758,478,758,753,478,479,478,197,652,-502,197,754,-331,478,755,479,754,478,891,-331,754,618,-126,-889,891,478,-331,197,310,-351,-331,618,478,-889,478,698,918,891,-139,197,478,197,-351,-252,719,197,310,-351,-239,-502,918,-723,-311,-444,-139,-867,489,-602,-444,-865,309,36,158,36,-239,-444,-907,-403,-818,35,110,542,110,35,542,110,-294,-134,542,801,-294,-400,-865,921,-106,-865,921,143,-764,-602,724,-502,-723,-502,859,102,-75,742,302,302,-139]]]}}},\"view\":{\"type\":\"object\",\"name\":\"CDSView\",\"id\":\"p3515\",\"attributes\":{\"filter\":{\"type\":\"object\",\"name\":\"AllIndices\",\"id\":\"p3516\"}}},\"glyph\":{\"type\":\"object\",\"name\":\"MultiLine\",\"id\":\"p3557\",\"attributes\":{\"line_alpha\":{\"type\":\"value\",\"value\":0.3}}},\"selection_glyph\":{\"type\":\"object\",\"name\":\"MultiLine\",\"id\":\"p3565\",\"attributes\":{\"line_width\":{\"type\":\"value\",\"value\":2}}},\"hover_glyph\":{\"type\":\"object\",\"name\":\"MultiLine\",\"id\":\"p3573\",\"attributes\":{\"line_width\":{\"type\":\"value\",\"value\":2}}}}},\"selection_policy\":{\"type\":\"object\",\"name\":\"NodesAndLinkedEdges\",\"id\":\"p3581\"},\"inspection_policy\":{\"type\":\"object\",\"name\":\"NodesAndLinkedEdges\",\"id\":\"p3583\"}}},{\"type\":\"object\",\"name\":\"LabelSet\",\"id\":\"p3588\",\"attributes\":{\"source\":{\"type\":\"object\",\"name\":\"ColumnDataSource\",\"id\":\"p3585\",\"attributes\":{\"selected\":{\"type\":\"object\",\"name\":\"Selection\",\"id\":\"p3586\",\"attributes\":{\"indices\":[],\"line_indices\":[]}},\"selection_policy\":{\"type\":\"object\",\"name\":\"UnionRenderers\",\"id\":\"p3587\"},\"data\":{\"type\":\"map\",\"entries\":[[\"x\",[0.7759773741259184,1.7292154694368165,2.6023705501613126,0.4081873443079065,-1.1444161151790682,-0.9105491565360608,1.234917867849358,0.7590349990327887,4.90431367212696,3.917316005672337,5.776589375408374,3.0611764446992407,-0.5206416661567289,-3.3072499473741264,-2.3758978318433193,2.334354869740847,-0.9646486810265313,0.4701061902020195,-2.8037684482874243,1.0885949112170417,0.6941682136134809,2.1784017100419812,1.1846147905847058,-2.086137592911231,-0.6995751463937413,-2.3941537445097976,0.146817868858095,-0.21466436984618342,-3.0377821900970114,-2.650067831645079,-3.0180353647663862,3.4476015623706138,4.453032702568882,5.880771336589637,3.831374210869414,5.8441459095595025,1.882071087110595,-1.312835326411581,2.4225178817017636,1.7263427531874567,-2.0837518015732486,-1.4546463869339783,-0.9721083846241301,-2.237153098727412,-3.72916906686707,-1.2982937552292328,-1.6504085362009626,-0.5768057413836608,0.09538515881443624,-3.0854437360044717,0.058624573692822445,-0.2279613069941211,-0.3562291134282006,1.1950588910793978,0.24436637778158224,2.732466033296358,2.6559443333288533,2.049563005228656,3.4333252334205735,4.803869953255173,-4.932724293660222,-4.442956308392148,-5.568582643288971,-3.8497662527935366,-6.294947712074544,-3.4062822787158864,-5.557259328116533,-6.417701104820167,-4.809035558333958,-2.154420543370954,-1.6000037220381624,-4.014138229410035,-4.81496712606759,-7.94472956950724,-7.735702100601027,-0.012028478623012406,2.307895347042177,3.097632748184408,-4.759857436681077,0.26502560597940467,-0.02413105724506923,3.6728166215211226,5.577996761020722,1.8936390030591257,0.7560509026665105,0.9603095352382162,4.437005850011509,-0.6847436001234563,3.813407261791533,3.7472892484615774,4.224133260404584,5.08904886385703,3.080263709039928,4.634089606256123,-3.2078873204669405,3.374785671062836,-0.06268564218178785,-3.333730757012155,-3.1852244525293014,4.059026317754285,2.730387630851012,-0.8141482579653131,0.5611131852531352,4.208527414180212,-7.992773809992385,4.754625808938824,-4.534867088546869]],[\"y\",[2.3529292460235722,3.79438988281616,2.416274773423412,-0.1968469883211722,-1.2963389133545318,0.699849790069112,-1.9001914208282698,-2.2842232498905446,2.62386617108233,3.1466205010320243,-5.891323744240649,-3.8230390102340266,-1.4444572323113753,-3.4153269048194907,-1.6626291467083187,-0.6205272039295585,-4.126940190130086,-1.834186698151697,-2.3550938114677114,-2.15276255838526,-2.798778805525779,1.7653174227376507,-0.8508219316226469,-3.1377477333933195,-1.8107618020621166,-0.7069072064223711,-1.141703098187657,-3.1098265495422566,6.9914261925111685,3.3672356720521717,10.0,-0.7963275487380449,0.6304567570801086,-0.6495200463797782,0.8667791838352232,-1.3144023581467619,-0.022143505896838816,-2.9564540227496408,-3.331260125794247,-3.7716233112292334,-5.148739268720511,-4.273073119267824,-2.682680555803262,-3.885678016922491,-3.48002498443287,-5.191864958081719,-2.02254540195497,-3.3908256288411414,-2.537668860315365,-5.036328267116725,-2.126758951014474,0.015771364340830343,0.3521449097574286,-3.2231425991096945,-3.0681943872133566,-2.128786230831792,-2.701518969725997,-2.7396943324764558,4.861411604896235,7.712246931120818,6.9853008654028255,7.442417085586491,7.505595371304307,5.678756855558374,7.85748363727785,5.806784275097172,8.44916841208382,7.04328181344023,8.664648426559678,3.430623488036485,2.3643777592432476,8.68372567341466,1.5822411058778756,1.1282676171910129,2.5664130174154067,-0.6468137166506215,4.28418955704729,4.038157822265163,-1.6858771449028758,-1.4973995894560466,-4.094994968098964,1.4981410462977367,2.86401920943128,-4.434246586138807,-3.7299769901561475,-4.393383659698182,2.288700430208902,2.2117785216554156,5.164034777999022,3.808126127014476,4.359626508963344,3.5958753076505676,0.887674393267807,4.035999057804762,0.24618035534012525,-7.524087297465603,-5.2746739937130664,-2.3826115362172215,-1.7049195611081103,-4.262666574781287,-4.3192831135752945,-5.957372179480391,-6.353132468417779,-3.2902278216873126,1.8596953011881214,-2.647650978915737,-0.6889963916461948]],[\"name\",[-290,-706,119,-615,-329,333,-636,911,572,710,704,89,-39,-499,-101,525,-504,-29,-607,737,84,-451,-243,913,-782,853,370,-601,-292,612,-596,39,-523,149,758,753,660,-395,-122,652,-31,755,479,754,618,-126,-889,891,478,-331,197,310,771,114,309,-512,-867,36,499,-907,-814,-818,35,110,-134,542,801,-294,-400,-865,921,-106,489,143,-764,-351,218,-403,-584,-444,-95,-44,859,-239,-502,-723,592,-602,-194,-125,742,126,-75,302,698,102,-311,918,-139,-416,-406,719,-252,158,724,-337,166]]]}}},\"x\":{\"type\":\"field\",\"field\":\"x\"},\"y\":{\"type\":\"field\",\"field\":\"y\"},\"text\":{\"type\":\"field\",\"field\":\"name\"},\"text_font_size\":{\"type\":\"value\",\"value\":\"10px\"},\"background_fill_color\":{\"type\":\"value\",\"value\":\"white\"},\"background_fill_alpha\":{\"type\":\"value\",\"value\":0.7}}}],\"toolbar\":{\"type\":\"object\",\"name\":\"Toolbar\",\"id\":\"p3465\",\"attributes\":{\"tools\":[{\"type\":\"object\",\"name\":\"PanTool\",\"id\":\"p3490\"},{\"type\":\"object\",\"name\":\"WheelZoomTool\",\"id\":\"p3491\"},{\"type\":\"object\",\"name\":\"SaveTool\",\"id\":\"p3492\"},{\"type\":\"object\",\"name\":\"ResetTool\",\"id\":\"p3493\"},{\"type\":\"object\",\"name\":\"HoverTool\",\"id\":\"p3494\",\"attributes\":{\"renderers\":\"auto\",\"tooltips\":[[\"Character\",\"@index\"],[\"Degree\",\"@degree\"],[\"Modularity Class\",\"@modularity_class\"],[\"Modularity Color\",\"$color[swatch]:modularity_color\"]]}}],\"active_scroll\":{\"id\":\"p3491\"}}},\"left\":[{\"type\":\"object\",\"name\":\"LinearAxis\",\"id\":\"p3483\",\"attributes\":{\"ticker\":{\"type\":\"object\",\"name\":\"BasicTicker\",\"id\":\"p3486\",\"attributes\":{\"mantissas\":[1,2,5]}},\"formatter\":{\"type\":\"object\",\"name\":\"BasicTickFormatter\",\"id\":\"p3484\"},\"major_label_policy\":{\"type\":\"object\",\"name\":\"AllLabels\",\"id\":\"p3485\"}}}],\"below\":[{\"type\":\"object\",\"name\":\"LinearAxis\",\"id\":\"p3476\",\"attributes\":{\"ticker\":{\"type\":\"object\",\"name\":\"BasicTicker\",\"id\":\"p3479\",\"attributes\":{\"mantissas\":[1,2,5]}},\"formatter\":{\"type\":\"object\",\"name\":\"BasicTickFormatter\",\"id\":\"p3477\"},\"major_label_policy\":{\"type\":\"object\",\"name\":\"AllLabels\",\"id\":\"p3478\"}}}],\"center\":[{\"type\":\"object\",\"name\":\"Grid\",\"id\":\"p3482\",\"attributes\":{\"axis\":{\"id\":\"p3476\"}}},{\"type\":\"object\",\"name\":\"Grid\",\"id\":\"p3489\",\"attributes\":{\"dimension\":1,\"axis\":{\"id\":\"p3483\"}}}]}}]}};\n  const render_items = [{\"docid\":\"8d3ae4d5-5754-4d4d-9cc4-39f2bf6f2814\",\"roots\":{\"p3460\":\"decb24a5-befb-43f6-8bcf-a727c80a1f26\"},\"root_ids\":[\"p3460\"]}];\n  root.Bokeh.embed.embed_items_notebook(docs_json, render_items);\n  }\n  if (root.Bokeh !== undefined) {\n    embed_document(root);\n  } else {\n    let attempts = 0;\n    const timer = setInterval(function(root) {\n      if (root.Bokeh !== undefined) {\n        clearInterval(timer);\n        embed_document(root);\n      } else {\n        attempts++;\n        if (attempts > 100) {\n          clearInterval(timer);\n          console.log(\"Bokeh: ERROR: Unable to run BokehJS code because BokehJS library is missing\");\n        }\n      }\n    }, 10, root)\n  }\n})(window);",
      "application/vnd.bokehjs_exec.v0+json": ""
     },
     "metadata": {
      "application/vnd.bokehjs_exec.v0+json": {
       "id": "p3460"
      }
     },
     "output_type": "display_data"
    }
   ],
   "source": [
    "#Choose colors for node and edge highlighting\n",
    "node_highlight_color = 'white'\n",
    "edge_highlight_color = 'black'\n",
    "\n",
    "#Choose attributes from G network to size and color by — setting manual size (e.g. 10) or color (e.g. 'skyblue') also allowed\n",
    "size_by_this_attribute = 'adjusted_node_size'\n",
    "color_by_this_attribute = 'modularity_color'\n",
    "\n",
    "#Pick a color palette — Blues8, Reds8, Purples8, Oranges8, Viridis8\n",
    "color_palette = Blues8\n",
    "\n",
    "#Choose a title!\n",
    "title = 'Game of Thrones Network'\n",
    "\n",
    "#Establish which categories will appear when hovering over each node\n",
    "HOVER_TOOLTIPS = [\n",
    "       (\"Character\", \"@index\"),\n",
    "        (\"Degree\", \"@degree\"),\n",
    "         (\"Modularity Class\", \"@modularity_class\"),\n",
    "        (\"Modularity Color\", \"$color[swatch]:modularity_color\"),\n",
    "]\n",
    "\n",
    "#Create a plot — set dimensions, toolbar, and title\n",
    "plot = figure(tooltips = HOVER_TOOLTIPS,\n",
    "              tools=\"pan,wheel_zoom,save,reset\", active_scroll='wheel_zoom',\n",
    "            x_range=Range1d(-10.1, 10.1), y_range=Range1d(-10.1, 10.1), title=title)\n",
    "\n",
    "#Create a network graph object\n",
    "# https://networkx.github.io/documentation/networkx-1.9/reference/generated/networkx.drawing.layout.spring_layout.html\n",
    "network_graph = from_networkx(G, networkx.spring_layout, scale=10, center=(0, 0))\n",
    "\n",
    "#Set node sizes and colors according to node degree (color as category from attribute)\n",
    "network_graph.node_renderer.glyph = Circle(size=size_by_this_attribute, fill_color=color_by_this_attribute)\n",
    "#Set node highlight colors\n",
    "network_graph.node_renderer.hover_glyph = Circle(size=size_by_this_attribute, fill_color=node_highlight_color, line_width=2)\n",
    "network_graph.node_renderer.selection_glyph = Circle(size=size_by_this_attribute, fill_color=node_highlight_color, line_width=2)\n",
    "\n",
    "#Set edge opacity and width\n",
    "network_graph.edge_renderer.glyph = MultiLine(line_alpha=0.3, line_width=1)\n",
    "#Set edge highlight colors\n",
    "network_graph.edge_renderer.selection_glyph = MultiLine(line_color=edge_highlight_color, line_width=2)\n",
    "network_graph.edge_renderer.hover_glyph = MultiLine(line_color=edge_highlight_color, line_width=2)\n",
    "\n",
    "#Highlight nodes and edges\n",
    "network_graph.selection_policy = NodesAndLinkedEdges()\n",
    "network_graph.inspection_policy = NodesAndLinkedEdges()\n",
    "\n",
    "plot.renderers.append(network_graph)\n",
    "\n",
    "#Add Labels\n",
    "x, y = zip(*network_graph.layout_provider.graph_layout.values())\n",
    "node_labels = list(G.nodes())\n",
    "source = ColumnDataSource({'x': x, 'y': y, 'name': [node_labels[i] for i in range(len(x))]})\n",
    "labels = LabelSet(x='x', y='y', text='name', source=source, background_fill_color='white', text_font_size='10px', background_fill_alpha=.7)\n",
    "plot.renderers.append(labels)\n",
    "\n",
    "show(plot)\n",
    "#save(plot, filename=f\"{title}.html\")"
   ]
  },
  {
   "cell_type": "code",
   "execution_count": null,
   "metadata": {},
   "outputs": [],
   "source": []
  },
  {
   "cell_type": "code",
   "execution_count": null,
   "metadata": {},
   "outputs": [],
   "source": []
  }
 ],
 "metadata": {
  "kernelspec": {
   "display_name": "Python 3.8.12 64-bit ('movie-rev')",
   "language": "python",
   "name": "python3"
  },
  "language_info": {
   "codemirror_mode": {
    "name": "ipython",
    "version": 3
   },
   "file_extension": ".py",
   "mimetype": "text/x-python",
   "name": "python",
   "nbconvert_exporter": "python",
   "pygments_lexer": "ipython3",
   "version": "3.8.12"
  },
  "vscode": {
   "interpreter": {
    "hash": "13e2abceda8f1814efdd90345332359581b4348d8f94684880774fa869e4afae"
   }
  }
 },
 "nbformat": 4,
 "nbformat_minor": 4
}
